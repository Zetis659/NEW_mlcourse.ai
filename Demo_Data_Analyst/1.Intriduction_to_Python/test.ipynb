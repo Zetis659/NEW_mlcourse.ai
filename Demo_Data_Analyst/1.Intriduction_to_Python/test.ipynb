{
 "cells": [
  {
   "cell_type": "code",
   "execution_count": 1,
   "metadata": {
    "collapsed": true
   },
   "outputs": [],
   "source": [
    "message = 'Addition is equal {}'"
   ]
  },
  {
   "cell_type": "code",
   "execution_count": 2,
   "outputs": [],
   "source": [
    "c = 0.2"
   ],
   "metadata": {
    "collapsed": false,
    "pycharm": {
     "name": "#%%\n"
    }
   }
  },
  {
   "cell_type": "code",
   "source": [
    "message.format(c)"
   ],
   "metadata": {
    "collapsed": false,
    "pycharm": {
     "name": "#%%\n"
    }
   },
   "execution_count": 3,
   "outputs": [
    {
     "data": {
      "text/plain": "'Addition is equal 0.2'"
     },
     "execution_count": 3,
     "metadata": {},
     "output_type": "execute_result"
    }
   ]
  },
  {
   "cell_type": "code",
   "execution_count": 4,
   "outputs": [],
   "source": [
    "analyst_data = {'Anatoly': [2, 100_000], 'Olga': [3, 200_000], 'Beslan': [4, 300_000]}"
   ],
   "metadata": {
    "collapsed": false,
    "pycharm": {
     "name": "#%%\n"
    }
   }
  },
  {
   "cell_type": "code",
   "execution_count": 5,
   "outputs": [
    {
     "name": "stdout",
     "output_type": "stream",
     "text": [
      "Anatoly [2, 100000]\n",
      "Olga [3, 200000]\n",
      "Beslan [4, 300000]\n"
     ]
    }
   ],
   "source": [
    "for i in analyst_data:\n",
    "    print(i, analyst_data[i])"
   ],
   "metadata": {
    "collapsed": false,
    "pycharm": {
     "name": "#%%\n"
    }
   }
  },
  {
   "cell_type": "code",
   "execution_count": 6,
   "outputs": [
    {
     "name": "stdout",
     "output_type": "stream",
     "text": [
      "Olga\n",
      "Beslan\n"
     ]
    }
   ],
   "source": [
    "for i in analyst_data:\n",
    "    if analyst_data[i][0] > 2:\n",
    "        print(i)"
   ],
   "metadata": {
    "collapsed": false,
    "pycharm": {
     "name": "#%%\n"
    }
   }
  },
  {
   "cell_type": "code",
   "execution_count": 8,
   "outputs": [],
   "source": [
    "worker = ['Olya', 'Silyutina', 350000, 3]\n",
    "user_name, user_family = worker[0], worker[1]\n",
    "if worker[3] < 2:\n",
    "    position = 'junior'\n",
    "elif worker[3] >= 2 < 5:\n",
    "    position = 'middle'\n",
    "else:\n",
    "    position = 'senior'"
   ],
   "metadata": {
    "collapsed": false,
    "pycharm": {
     "name": "#%%\n"
    }
   }
  },
  {
   "cell_type": "code",
   "execution_count": 9,
   "outputs": [],
   "source": [
    "status = f'{user_name} {user_family} is {position}'"
   ],
   "metadata": {
    "collapsed": false,
    "pycharm": {
     "name": "#%%\n"
    }
   }
  },
  {
   "cell_type": "code",
   "execution_count": 10,
   "outputs": [
    {
     "data": {
      "text/plain": "'Olya Silyutina is middle'"
     },
     "execution_count": 10,
     "metadata": {},
     "output_type": "execute_result"
    }
   ],
   "source": [
    "status"
   ],
   "metadata": {
    "collapsed": false,
    "pycharm": {
     "name": "#%%\n"
    }
   }
  },
  {
   "cell_type": "code",
   "execution_count": 27,
   "outputs": [
    {
     "name": "stdout",
     "output_type": "stream",
     "text": [
      "1\n",
      "Ivan Ivanov is junior\n",
      "2\n",
      "Petr Petrov is middle\n",
      "10\n",
      "Sidor Sidorova is senior\n"
     ]
    }
   ],
   "source": [
    "workers = [['Ivan', 'Ivanov', 100000, 1], ['Petr', 'Petrov', 150000, 2], ['Sidor', 'Sidorova', 200000, 10]]\n",
    "\n",
    "for i in workers:\n",
    "    user_name, user_family = i[0:2]\n",
    "    if i[-1] < 2:\n",
    "        position = 'junior'\n",
    "    elif 2 <= i[-1] <= 5:\n",
    "        position = 'middle'\n",
    "    else:\n",
    "        position = 'senior'\n",
    "    status = f'{user_name} {user_family} is {position}'\n",
    "    print(status)"
   ],
   "metadata": {
    "collapsed": false,
    "pycharm": {
     "name": "#%%\n"
    }
   }
  },
  {
   "cell_type": "code",
   "execution_count": 33,
   "outputs": [
    {
     "name": "stdout",
     "output_type": "stream",
     "text": [
      "[0, 2, 4, 6, 8, 10]\n"
     ]
    }
   ],
   "source": [
    "lst = []\n",
    "n = 0\n",
    "dn = 2\n",
    "while n < 11:\n",
    "    lst.append(n)\n",
    "    n += dn\n",
    "print(lst)"
   ],
   "metadata": {
    "collapsed": false,
    "pycharm": {
     "name": "#%%\n"
    }
   }
  },
  {
   "cell_type": "code",
   "execution_count": 32,
   "outputs": [
    {
     "name": "stdout",
     "output_type": "stream",
     "text": [
      "[0, 2, 4, 6, 8, 10]\n"
     ]
    }
   ],
   "source": [
    "lst1 = []\n",
    "for i in range(0,10,2):\n",
    "    lst1.append(i)\n",
    "print(lst)"
   ],
   "metadata": {
    "collapsed": false,
    "pycharm": {
     "name": "#%%\n"
    }
   }
  },
  {
   "cell_type": "code",
   "execution_count": null,
   "outputs": [],
   "source": [],
   "metadata": {
    "collapsed": false,
    "pycharm": {
     "name": "#%%\n"
    }
   }
  }
 ],
 "metadata": {
  "kernelspec": {
   "display_name": "Python 3",
   "language": "python",
   "name": "python3"
  },
  "language_info": {
   "codemirror_mode": {
    "name": "ipython",
    "version": 2
   },
   "file_extension": ".py",
   "mimetype": "text/x-python",
   "name": "python",
   "nbconvert_exporter": "python",
   "pygments_lexer": "ipython2",
   "version": "2.7.6"
  }
 },
 "nbformat": 4,
 "nbformat_minor": 0
}