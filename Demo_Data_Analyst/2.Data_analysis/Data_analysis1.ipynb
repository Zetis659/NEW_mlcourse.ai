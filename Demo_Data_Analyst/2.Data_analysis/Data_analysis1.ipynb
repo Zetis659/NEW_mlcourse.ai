{
 "cells": [
  {
   "cell_type": "code",
   "execution_count": 2,
   "metadata": {
    "collapsed": true
   },
   "outputs": [],
   "source": [
    "import pandas as pd\n",
    "from datetime import datetime"
   ]
  },
  {
   "cell_type": "markdown",
   "source": [
    "### 1. Считывание данных"
   ],
   "metadata": {
    "collapsed": false,
    "pycharm": {
     "name": "#%% md\n"
    }
   }
  },
  {
   "cell_type": "markdown",
   "source": [
    "##### Датафрейм о заработке с разных курсов"
   ],
   "metadata": {
    "collapsed": false,
    "pycharm": {
     "name": "#%% md\n"
    }
   }
  },
  {
   "cell_type": "code",
   "execution_count": 3,
   "outputs": [],
   "source": [
    "df = pd.read_csv('lesson_1_data.csv', encoding='windows-1251', sep=';')"
   ],
   "metadata": {
    "collapsed": false,
    "pycharm": {
     "name": "#%%\n"
    }
   }
  },
  {
   "cell_type": "code",
   "execution_count": 4,
   "outputs": [
    {
     "data": {
      "text/plain": "       Номер     Дата создания       Дата оплаты  \\\n0    1062823  01.12.2019 10:50  01.12.2019 10:52   \n1    1062855  01.12.2019 20:53  01.12.2019 21:27   \n2    1062856  01.12.2019 21:43               NaN   \n3    1062880   03.12.2019 0:18               NaN   \n4    1062899  03.12.2019 21:43               NaN   \n..       ...               ...               ...   \n287  1064720   30.12.2019 9:42  30.12.2019 12:49   \n288  1064724  30.12.2019 11:32               NaN   \n289  1064775   31.12.2019 2:17   31.12.2019 2:22   \n290  1064793  31.12.2019 16:40  01.01.2020 14:29   \n291  1064796  31.12.2019 17:29  31.12.2019 17:32   \n\n                                                 Title    Статус  Заработано  \\\n0                              Курс обучения «Эксперт»  Завершен    29597.50   \n1                              Курс обучения «Эксперт»  Завершен    17450.30   \n2                           Курс обучения «Специалист»   Отменен        0.00   \n3                          Курс обучения «Консультант»   Отменен        0.00   \n4                              Курс обучения «Эксперт»   Отменен        0.00   \n..                                                 ...       ...         ...   \n287  Подписка «ОНЛАЙН ДИЕТОЛОГ» с ежемесячным автос...  Завершен     2935.44   \n288                        Курс обучения «Консультант»   Отменен        0.00   \n289                        Курс обучения «Консультант»  Завершен     7423.92   \n290  Подписка «ОНЛАЙН ДИЕТОЛОГ» с ежемесячным автос...  Завершен     2935.44   \n291  Курс от Школы Диетологов. Повышение квалификац...  Завершен     9898.56   \n\n                             Город                 Платежная система  \n0                             Чита                Сбербанк эквайринг  \n1                        Краснодар                      Яндекс.Касса  \n2                              NaN                               NaN  \n3    г.Москва и Московская область                               NaN  \n4    г.Москва и Московская область                               NaN  \n..                             ...                               ...  \n287              Самарская область                      Яндекс.Касса  \n288                            NaN                               NaN  \n289                            NaN  Сбербанк эквайринг,Бонусный счет  \n290             Республика Карелия                      Яндекс.Касса  \n291                            Уфа  Сбербанк эквайринг,Бонусный счет  \n\n[292 rows x 8 columns]",
      "text/html": "<div>\n<style scoped>\n    .dataframe tbody tr th:only-of-type {\n        vertical-align: middle;\n    }\n\n    .dataframe tbody tr th {\n        vertical-align: top;\n    }\n\n    .dataframe thead th {\n        text-align: right;\n    }\n</style>\n<table border=\"1\" class=\"dataframe\">\n  <thead>\n    <tr style=\"text-align: right;\">\n      <th></th>\n      <th>Номер</th>\n      <th>Дата создания</th>\n      <th>Дата оплаты</th>\n      <th>Title</th>\n      <th>Статус</th>\n      <th>Заработано</th>\n      <th>Город</th>\n      <th>Платежная система</th>\n    </tr>\n  </thead>\n  <tbody>\n    <tr>\n      <th>0</th>\n      <td>1062823</td>\n      <td>01.12.2019 10:50</td>\n      <td>01.12.2019 10:52</td>\n      <td>Курс обучения «Эксперт»</td>\n      <td>Завершен</td>\n      <td>29597.50</td>\n      <td>Чита</td>\n      <td>Сбербанк эквайринг</td>\n    </tr>\n    <tr>\n      <th>1</th>\n      <td>1062855</td>\n      <td>01.12.2019 20:53</td>\n      <td>01.12.2019 21:27</td>\n      <td>Курс обучения «Эксперт»</td>\n      <td>Завершен</td>\n      <td>17450.30</td>\n      <td>Краснодар</td>\n      <td>Яндекс.Касса</td>\n    </tr>\n    <tr>\n      <th>2</th>\n      <td>1062856</td>\n      <td>01.12.2019 21:43</td>\n      <td>NaN</td>\n      <td>Курс обучения «Специалист»</td>\n      <td>Отменен</td>\n      <td>0.00</td>\n      <td>NaN</td>\n      <td>NaN</td>\n    </tr>\n    <tr>\n      <th>3</th>\n      <td>1062880</td>\n      <td>03.12.2019 0:18</td>\n      <td>NaN</td>\n      <td>Курс обучения «Консультант»</td>\n      <td>Отменен</td>\n      <td>0.00</td>\n      <td>г.Москва и Московская область</td>\n      <td>NaN</td>\n    </tr>\n    <tr>\n      <th>4</th>\n      <td>1062899</td>\n      <td>03.12.2019 21:43</td>\n      <td>NaN</td>\n      <td>Курс обучения «Эксперт»</td>\n      <td>Отменен</td>\n      <td>0.00</td>\n      <td>г.Москва и Московская область</td>\n      <td>NaN</td>\n    </tr>\n    <tr>\n      <th>...</th>\n      <td>...</td>\n      <td>...</td>\n      <td>...</td>\n      <td>...</td>\n      <td>...</td>\n      <td>...</td>\n      <td>...</td>\n      <td>...</td>\n    </tr>\n    <tr>\n      <th>287</th>\n      <td>1064720</td>\n      <td>30.12.2019 9:42</td>\n      <td>30.12.2019 12:49</td>\n      <td>Подписка «ОНЛАЙН ДИЕТОЛОГ» с ежемесячным автос...</td>\n      <td>Завершен</td>\n      <td>2935.44</td>\n      <td>Самарская область</td>\n      <td>Яндекс.Касса</td>\n    </tr>\n    <tr>\n      <th>288</th>\n      <td>1064724</td>\n      <td>30.12.2019 11:32</td>\n      <td>NaN</td>\n      <td>Курс обучения «Консультант»</td>\n      <td>Отменен</td>\n      <td>0.00</td>\n      <td>NaN</td>\n      <td>NaN</td>\n    </tr>\n    <tr>\n      <th>289</th>\n      <td>1064775</td>\n      <td>31.12.2019 2:17</td>\n      <td>31.12.2019 2:22</td>\n      <td>Курс обучения «Консультант»</td>\n      <td>Завершен</td>\n      <td>7423.92</td>\n      <td>NaN</td>\n      <td>Сбербанк эквайринг,Бонусный счет</td>\n    </tr>\n    <tr>\n      <th>290</th>\n      <td>1064793</td>\n      <td>31.12.2019 16:40</td>\n      <td>01.01.2020 14:29</td>\n      <td>Подписка «ОНЛАЙН ДИЕТОЛОГ» с ежемесячным автос...</td>\n      <td>Завершен</td>\n      <td>2935.44</td>\n      <td>Республика Карелия</td>\n      <td>Яндекс.Касса</td>\n    </tr>\n    <tr>\n      <th>291</th>\n      <td>1064796</td>\n      <td>31.12.2019 17:29</td>\n      <td>31.12.2019 17:32</td>\n      <td>Курс от Школы Диетологов. Повышение квалификац...</td>\n      <td>Завершен</td>\n      <td>9898.56</td>\n      <td>Уфа</td>\n      <td>Сбербанк эквайринг,Бонусный счет</td>\n    </tr>\n  </tbody>\n</table>\n<p>292 rows × 8 columns</p>\n</div>"
     },
     "execution_count": 4,
     "metadata": {},
     "output_type": "execute_result"
    }
   ],
   "source": [
    "df"
   ],
   "metadata": {
    "collapsed": false,
    "pycharm": {
     "name": "#%%\n"
    }
   }
  },
  {
   "cell_type": "code",
   "execution_count": 5,
   "outputs": [
    {
     "data": {
      "text/plain": "     Номер     Дата создания       Дата оплаты                        Title  \\\n0  1062823  01.12.2019 10:50  01.12.2019 10:52      Курс обучения «Эксперт»   \n1  1062855  01.12.2019 20:53  01.12.2019 21:27      Курс обучения «Эксперт»   \n2  1062856  01.12.2019 21:43               NaN   Курс обучения «Специалист»   \n3  1062880   03.12.2019 0:18               NaN  Курс обучения «Консультант»   \n4  1062899  03.12.2019 21:43               NaN      Курс обучения «Эксперт»   \n\n     Статус  Заработано                          Город   Платежная система  \n0  Завершен     29597.5                           Чита  Сбербанк эквайринг  \n1  Завершен     17450.3                      Краснодар        Яндекс.Касса  \n2   Отменен         0.0                            NaN                 NaN  \n3   Отменен         0.0  г.Москва и Московская область                 NaN  \n4   Отменен         0.0  г.Москва и Московская область                 NaN  ",
      "text/html": "<div>\n<style scoped>\n    .dataframe tbody tr th:only-of-type {\n        vertical-align: middle;\n    }\n\n    .dataframe tbody tr th {\n        vertical-align: top;\n    }\n\n    .dataframe thead th {\n        text-align: right;\n    }\n</style>\n<table border=\"1\" class=\"dataframe\">\n  <thead>\n    <tr style=\"text-align: right;\">\n      <th></th>\n      <th>Номер</th>\n      <th>Дата создания</th>\n      <th>Дата оплаты</th>\n      <th>Title</th>\n      <th>Статус</th>\n      <th>Заработано</th>\n      <th>Город</th>\n      <th>Платежная система</th>\n    </tr>\n  </thead>\n  <tbody>\n    <tr>\n      <th>0</th>\n      <td>1062823</td>\n      <td>01.12.2019 10:50</td>\n      <td>01.12.2019 10:52</td>\n      <td>Курс обучения «Эксперт»</td>\n      <td>Завершен</td>\n      <td>29597.5</td>\n      <td>Чита</td>\n      <td>Сбербанк эквайринг</td>\n    </tr>\n    <tr>\n      <th>1</th>\n      <td>1062855</td>\n      <td>01.12.2019 20:53</td>\n      <td>01.12.2019 21:27</td>\n      <td>Курс обучения «Эксперт»</td>\n      <td>Завершен</td>\n      <td>17450.3</td>\n      <td>Краснодар</td>\n      <td>Яндекс.Касса</td>\n    </tr>\n    <tr>\n      <th>2</th>\n      <td>1062856</td>\n      <td>01.12.2019 21:43</td>\n      <td>NaN</td>\n      <td>Курс обучения «Специалист»</td>\n      <td>Отменен</td>\n      <td>0.0</td>\n      <td>NaN</td>\n      <td>NaN</td>\n    </tr>\n    <tr>\n      <th>3</th>\n      <td>1062880</td>\n      <td>03.12.2019 0:18</td>\n      <td>NaN</td>\n      <td>Курс обучения «Консультант»</td>\n      <td>Отменен</td>\n      <td>0.0</td>\n      <td>г.Москва и Московская область</td>\n      <td>NaN</td>\n    </tr>\n    <tr>\n      <th>4</th>\n      <td>1062899</td>\n      <td>03.12.2019 21:43</td>\n      <td>NaN</td>\n      <td>Курс обучения «Эксперт»</td>\n      <td>Отменен</td>\n      <td>0.0</td>\n      <td>г.Москва и Московская область</td>\n      <td>NaN</td>\n    </tr>\n  </tbody>\n</table>\n</div>"
     },
     "execution_count": 5,
     "metadata": {},
     "output_type": "execute_result"
    }
   ],
   "source": [
    "df.head()"
   ],
   "metadata": {
    "collapsed": false,
    "pycharm": {
     "name": "#%%\n"
    }
   }
  },
  {
   "cell_type": "code",
   "execution_count": 6,
   "outputs": [
    {
     "data": {
      "text/plain": "       Номер     Дата создания       Дата оплаты  \\\n287  1064720   30.12.2019 9:42  30.12.2019 12:49   \n288  1064724  30.12.2019 11:32               NaN   \n289  1064775   31.12.2019 2:17   31.12.2019 2:22   \n290  1064793  31.12.2019 16:40  01.01.2020 14:29   \n291  1064796  31.12.2019 17:29  31.12.2019 17:32   \n\n                                                 Title    Статус  Заработано  \\\n287  Подписка «ОНЛАЙН ДИЕТОЛОГ» с ежемесячным автос...  Завершен     2935.44   \n288                        Курс обучения «Консультант»   Отменен        0.00   \n289                        Курс обучения «Консультант»  Завершен     7423.92   \n290  Подписка «ОНЛАЙН ДИЕТОЛОГ» с ежемесячным автос...  Завершен     2935.44   \n291  Курс от Школы Диетологов. Повышение квалификац...  Завершен     9898.56   \n\n                  Город                 Платежная система  \n287   Самарская область                      Яндекс.Касса  \n288                 NaN                               NaN  \n289                 NaN  Сбербанк эквайринг,Бонусный счет  \n290  Республика Карелия                      Яндекс.Касса  \n291                 Уфа  Сбербанк эквайринг,Бонусный счет  ",
      "text/html": "<div>\n<style scoped>\n    .dataframe tbody tr th:only-of-type {\n        vertical-align: middle;\n    }\n\n    .dataframe tbody tr th {\n        vertical-align: top;\n    }\n\n    .dataframe thead th {\n        text-align: right;\n    }\n</style>\n<table border=\"1\" class=\"dataframe\">\n  <thead>\n    <tr style=\"text-align: right;\">\n      <th></th>\n      <th>Номер</th>\n      <th>Дата создания</th>\n      <th>Дата оплаты</th>\n      <th>Title</th>\n      <th>Статус</th>\n      <th>Заработано</th>\n      <th>Город</th>\n      <th>Платежная система</th>\n    </tr>\n  </thead>\n  <tbody>\n    <tr>\n      <th>287</th>\n      <td>1064720</td>\n      <td>30.12.2019 9:42</td>\n      <td>30.12.2019 12:49</td>\n      <td>Подписка «ОНЛАЙН ДИЕТОЛОГ» с ежемесячным автос...</td>\n      <td>Завершен</td>\n      <td>2935.44</td>\n      <td>Самарская область</td>\n      <td>Яндекс.Касса</td>\n    </tr>\n    <tr>\n      <th>288</th>\n      <td>1064724</td>\n      <td>30.12.2019 11:32</td>\n      <td>NaN</td>\n      <td>Курс обучения «Консультант»</td>\n      <td>Отменен</td>\n      <td>0.00</td>\n      <td>NaN</td>\n      <td>NaN</td>\n    </tr>\n    <tr>\n      <th>289</th>\n      <td>1064775</td>\n      <td>31.12.2019 2:17</td>\n      <td>31.12.2019 2:22</td>\n      <td>Курс обучения «Консультант»</td>\n      <td>Завершен</td>\n      <td>7423.92</td>\n      <td>NaN</td>\n      <td>Сбербанк эквайринг,Бонусный счет</td>\n    </tr>\n    <tr>\n      <th>290</th>\n      <td>1064793</td>\n      <td>31.12.2019 16:40</td>\n      <td>01.01.2020 14:29</td>\n      <td>Подписка «ОНЛАЙН ДИЕТОЛОГ» с ежемесячным автос...</td>\n      <td>Завершен</td>\n      <td>2935.44</td>\n      <td>Республика Карелия</td>\n      <td>Яндекс.Касса</td>\n    </tr>\n    <tr>\n      <th>291</th>\n      <td>1064796</td>\n      <td>31.12.2019 17:29</td>\n      <td>31.12.2019 17:32</td>\n      <td>Курс от Школы Диетологов. Повышение квалификац...</td>\n      <td>Завершен</td>\n      <td>9898.56</td>\n      <td>Уфа</td>\n      <td>Сбербанк эквайринг,Бонусный счет</td>\n    </tr>\n  </tbody>\n</table>\n</div>"
     },
     "execution_count": 6,
     "metadata": {},
     "output_type": "execute_result"
    }
   ],
   "source": [
    "df.tail()"
   ],
   "metadata": {
    "collapsed": false,
    "pycharm": {
     "name": "#%%\n"
    }
   }
  },
  {
   "cell_type": "markdown",
   "source": [
    "### 2. Методы и атрибуты"
   ],
   "metadata": {
    "collapsed": false,
    "pycharm": {
     "name": "#%% md\n"
    }
   }
  },
  {
   "cell_type": "code",
   "execution_count": 7,
   "outputs": [
    {
     "data": {
      "text/plain": "(292, 8)"
     },
     "execution_count": 7,
     "metadata": {},
     "output_type": "execute_result"
    }
   ],
   "source": [
    "df.shape  # Строки и колонки ДФ (Атрибут)"
   ],
   "metadata": {
    "collapsed": false,
    "pycharm": {
     "name": "#%%\n"
    }
   }
  },
  {
   "cell_type": "code",
   "execution_count": 8,
   "outputs": [
    {
     "data": {
      "text/plain": "Номер                  int64\nДата создания         object\nДата оплаты           object\nTitle                 object\nСтатус                object\nЗаработано           float64\nГород                 object\nПлатежная система     object\ndtype: object"
     },
     "execution_count": 8,
     "metadata": {},
     "output_type": "execute_result"
    }
   ],
   "source": [
    "df.dtypes  # Типы колонок в ДФ"
   ],
   "metadata": {
    "collapsed": false,
    "pycharm": {
     "name": "#%%\n"
    }
   }
  },
  {
   "cell_type": "code",
   "execution_count": 9,
   "outputs": [
    {
     "data": {
      "text/plain": "              Номер    Заработано\ncount  2.920000e+02    292.000000\nmean   1.063745e+06   3397.615034\nstd    4.438688e+02   5771.572829\nmin    1.062823e+06      0.000000\n25%    1.063608e+06      0.000000\n50%    1.063698e+06   2935.440000\n75%    1.063807e+06   2935.440000\nmax    1.064796e+06  42750.000000",
      "text/html": "<div>\n<style scoped>\n    .dataframe tbody tr th:only-of-type {\n        vertical-align: middle;\n    }\n\n    .dataframe tbody tr th {\n        vertical-align: top;\n    }\n\n    .dataframe thead th {\n        text-align: right;\n    }\n</style>\n<table border=\"1\" class=\"dataframe\">\n  <thead>\n    <tr style=\"text-align: right;\">\n      <th></th>\n      <th>Номер</th>\n      <th>Заработано</th>\n    </tr>\n  </thead>\n  <tbody>\n    <tr>\n      <th>count</th>\n      <td>2.920000e+02</td>\n      <td>292.000000</td>\n    </tr>\n    <tr>\n      <th>mean</th>\n      <td>1.063745e+06</td>\n      <td>3397.615034</td>\n    </tr>\n    <tr>\n      <th>std</th>\n      <td>4.438688e+02</td>\n      <td>5771.572829</td>\n    </tr>\n    <tr>\n      <th>min</th>\n      <td>1.062823e+06</td>\n      <td>0.000000</td>\n    </tr>\n    <tr>\n      <th>25%</th>\n      <td>1.063608e+06</td>\n      <td>0.000000</td>\n    </tr>\n    <tr>\n      <th>50%</th>\n      <td>1.063698e+06</td>\n      <td>2935.440000</td>\n    </tr>\n    <tr>\n      <th>75%</th>\n      <td>1.063807e+06</td>\n      <td>2935.440000</td>\n    </tr>\n    <tr>\n      <th>max</th>\n      <td>1.064796e+06</td>\n      <td>42750.000000</td>\n    </tr>\n  </tbody>\n</table>\n</div>"
     },
     "execution_count": 9,
     "metadata": {},
     "output_type": "execute_result"
    }
   ],
   "source": [
    "df.describe()  # Описание для количественных переменных (МЕТОД)\n",
    "# Число строк, среднее значение, стандартное отклонение, минимум, квартили 25, 50(медиана), 75, максимум"
   ],
   "metadata": {
    "collapsed": false,
    "pycharm": {
     "name": "#%%\n"
    }
   }
  },
  {
   "cell_type": "code",
   "execution_count": 10,
   "outputs": [
    {
     "data": {
      "text/plain": "Index(['Номер', 'Дата создания', 'Дата оплаты', 'Title', 'Статус',\n       'Заработано', 'Город', 'Платежная система'],\n      dtype='object')"
     },
     "execution_count": 10,
     "metadata": {},
     "output_type": "execute_result"
    }
   ],
   "source": [
    "df.columns"
   ],
   "metadata": {
    "collapsed": false,
    "pycharm": {
     "name": "#%%\n"
    }
   }
  },
  {
   "cell_type": "code",
   "execution_count": 11,
   "outputs": [],
   "source": [
    "df = df.rename(columns={'Номер': 'number',\n",
    "                        'Дата создания': 'create_date',\n",
    "                        'Дата оплаты': 'payment_date',\n",
    "                        'Title': 'title',\n",
    "                        'Статус': 'status',\n",
    "                        'Заработано': 'money',\n",
    "                        'Город': 'city',\n",
    "                        'Платежная система': 'payment_system'})"
   ],
   "metadata": {
    "collapsed": false,
    "pycharm": {
     "name": "#%%\n"
    }
   }
  },
  {
   "cell_type": "code",
   "execution_count": 12,
   "outputs": [
    {
     "data": {
      "text/plain": "    number       create_date      payment_date                        title  \\\n0  1062823  01.12.2019 10:50  01.12.2019 10:52      Курс обучения «Эксперт»   \n1  1062855  01.12.2019 20:53  01.12.2019 21:27      Курс обучения «Эксперт»   \n2  1062856  01.12.2019 21:43               NaN   Курс обучения «Специалист»   \n3  1062880   03.12.2019 0:18               NaN  Курс обучения «Консультант»   \n4  1062899  03.12.2019 21:43               NaN      Курс обучения «Эксперт»   \n\n     status    money                           city      payment_system  \n0  Завершен  29597.5                           Чита  Сбербанк эквайринг  \n1  Завершен  17450.3                      Краснодар        Яндекс.Касса  \n2   Отменен      0.0                            NaN                 NaN  \n3   Отменен      0.0  г.Москва и Московская область                 NaN  \n4   Отменен      0.0  г.Москва и Московская область                 NaN  ",
      "text/html": "<div>\n<style scoped>\n    .dataframe tbody tr th:only-of-type {\n        vertical-align: middle;\n    }\n\n    .dataframe tbody tr th {\n        vertical-align: top;\n    }\n\n    .dataframe thead th {\n        text-align: right;\n    }\n</style>\n<table border=\"1\" class=\"dataframe\">\n  <thead>\n    <tr style=\"text-align: right;\">\n      <th></th>\n      <th>number</th>\n      <th>create_date</th>\n      <th>payment_date</th>\n      <th>title</th>\n      <th>status</th>\n      <th>money</th>\n      <th>city</th>\n      <th>payment_system</th>\n    </tr>\n  </thead>\n  <tbody>\n    <tr>\n      <th>0</th>\n      <td>1062823</td>\n      <td>01.12.2019 10:50</td>\n      <td>01.12.2019 10:52</td>\n      <td>Курс обучения «Эксперт»</td>\n      <td>Завершен</td>\n      <td>29597.5</td>\n      <td>Чита</td>\n      <td>Сбербанк эквайринг</td>\n    </tr>\n    <tr>\n      <th>1</th>\n      <td>1062855</td>\n      <td>01.12.2019 20:53</td>\n      <td>01.12.2019 21:27</td>\n      <td>Курс обучения «Эксперт»</td>\n      <td>Завершен</td>\n      <td>17450.3</td>\n      <td>Краснодар</td>\n      <td>Яндекс.Касса</td>\n    </tr>\n    <tr>\n      <th>2</th>\n      <td>1062856</td>\n      <td>01.12.2019 21:43</td>\n      <td>NaN</td>\n      <td>Курс обучения «Специалист»</td>\n      <td>Отменен</td>\n      <td>0.0</td>\n      <td>NaN</td>\n      <td>NaN</td>\n    </tr>\n    <tr>\n      <th>3</th>\n      <td>1062880</td>\n      <td>03.12.2019 0:18</td>\n      <td>NaN</td>\n      <td>Курс обучения «Консультант»</td>\n      <td>Отменен</td>\n      <td>0.0</td>\n      <td>г.Москва и Московская область</td>\n      <td>NaN</td>\n    </tr>\n    <tr>\n      <th>4</th>\n      <td>1062899</td>\n      <td>03.12.2019 21:43</td>\n      <td>NaN</td>\n      <td>Курс обучения «Эксперт»</td>\n      <td>Отменен</td>\n      <td>0.0</td>\n      <td>г.Москва и Московская область</td>\n      <td>NaN</td>\n    </tr>\n  </tbody>\n</table>\n</div>"
     },
     "execution_count": 12,
     "metadata": {},
     "output_type": "execute_result"
    }
   ],
   "source": [
    "df.head()"
   ],
   "metadata": {
    "collapsed": false,
    "pycharm": {
     "name": "#%%\n"
    }
   }
  },
  {
   "cell_type": "code",
   "execution_count": 13,
   "outputs": [
    {
     "data": {
      "text/plain": "                         title    status\n0      Курс обучения «Эксперт»  Завершен\n1      Курс обучения «Эксперт»  Завершен\n2   Курс обучения «Специалист»   Отменен\n3  Курс обучения «Консультант»   Отменен\n4      Курс обучения «Эксперт»   Отменен",
      "text/html": "<div>\n<style scoped>\n    .dataframe tbody tr th:only-of-type {\n        vertical-align: middle;\n    }\n\n    .dataframe tbody tr th {\n        vertical-align: top;\n    }\n\n    .dataframe thead th {\n        text-align: right;\n    }\n</style>\n<table border=\"1\" class=\"dataframe\">\n  <thead>\n    <tr style=\"text-align: right;\">\n      <th></th>\n      <th>title</th>\n      <th>status</th>\n    </tr>\n  </thead>\n  <tbody>\n    <tr>\n      <th>0</th>\n      <td>Курс обучения «Эксперт»</td>\n      <td>Завершен</td>\n    </tr>\n    <tr>\n      <th>1</th>\n      <td>Курс обучения «Эксперт»</td>\n      <td>Завершен</td>\n    </tr>\n    <tr>\n      <th>2</th>\n      <td>Курс обучения «Специалист»</td>\n      <td>Отменен</td>\n    </tr>\n    <tr>\n      <th>3</th>\n      <td>Курс обучения «Консультант»</td>\n      <td>Отменен</td>\n    </tr>\n    <tr>\n      <th>4</th>\n      <td>Курс обучения «Эксперт»</td>\n      <td>Отменен</td>\n    </tr>\n  </tbody>\n</table>\n</div>"
     },
     "execution_count": 13,
     "metadata": {},
     "output_type": "execute_result"
    }
   ],
   "source": [
    "df[['title', 'status']].head()"
   ],
   "metadata": {
    "collapsed": false,
    "pycharm": {
     "name": "#%%\n"
    }
   }
  },
  {
   "cell_type": "markdown",
   "source": [
    "### 3. Группировка, агрегация, сортировка данных"
   ],
   "metadata": {
    "collapsed": false,
    "pycharm": {
     "name": "#%% md\n"
    }
   }
  },
  {
   "cell_type": "code",
   "execution_count": 14,
   "outputs": [],
   "source": [
    "all_money = df.money.sum()  # Создадим переменную со всеми заработанными деньгами с курсов, во избежания ошибок в расчётах"
   ],
   "metadata": {
    "collapsed": false,
    "pycharm": {
     "name": "#%%\n"
    }
   }
  },
  {
   "cell_type": "code",
   "execution_count": 15,
   "outputs": [
    {
     "data": {
      "text/plain": "992103.5900000001"
     },
     "execution_count": 15,
     "metadata": {},
     "output_type": "execute_result"
    }
   ],
   "source": [
    "all_money"
   ],
   "metadata": {
    "collapsed": false,
    "pycharm": {
     "name": "#%%\n"
    }
   }
  },
  {
   "cell_type": "markdown",
   "source": [
    "### Суть задачи:\n",
    "**Найти:** 1)суммарное количество всех денег по каждому из курсов 2)Проранжировать курсы по количеству заработанных денег 3)Разбить по городам"
   ],
   "metadata": {
    "collapsed": false,
    "pycharm": {
     "name": "#%% md\n"
    }
   }
  },
  {
   "cell_type": "code",
   "execution_count": 30,
   "outputs": [
    {
     "data": {
      "text/plain": "                                               title      money\n5  Подписка «ОНЛАЙН ДИЕТОЛОГ» с ежемесячным автос...  366947.20\n0                        Курс обучения «Консультант»  208163.49\n1                         Курс обучения «Специалист»  160862.64\n2                            Курс обучения «Эксперт»  148992.80\n4  Курс от Школы Диетологов. Повышение квалификац...   88384.92\n3                   Курс от Школы Диетологов. Бизнес   18752.54",
      "text/html": "<div>\n<style scoped>\n    .dataframe tbody tr th:only-of-type {\n        vertical-align: middle;\n    }\n\n    .dataframe tbody tr th {\n        vertical-align: top;\n    }\n\n    .dataframe thead th {\n        text-align: right;\n    }\n</style>\n<table border=\"1\" class=\"dataframe\">\n  <thead>\n    <tr style=\"text-align: right;\">\n      <th></th>\n      <th>title</th>\n      <th>money</th>\n    </tr>\n  </thead>\n  <tbody>\n    <tr>\n      <th>5</th>\n      <td>Подписка «ОНЛАЙН ДИЕТОЛОГ» с ежемесячным автос...</td>\n      <td>366947.20</td>\n    </tr>\n    <tr>\n      <th>0</th>\n      <td>Курс обучения «Консультант»</td>\n      <td>208163.49</td>\n    </tr>\n    <tr>\n      <th>1</th>\n      <td>Курс обучения «Специалист»</td>\n      <td>160862.64</td>\n    </tr>\n    <tr>\n      <th>2</th>\n      <td>Курс обучения «Эксперт»</td>\n      <td>148992.80</td>\n    </tr>\n    <tr>\n      <th>4</th>\n      <td>Курс от Школы Диетологов. Повышение квалификац...</td>\n      <td>88384.92</td>\n    </tr>\n    <tr>\n      <th>3</th>\n      <td>Курс от Школы Диетологов. Бизнес</td>\n      <td>18752.54</td>\n    </tr>\n  </tbody>\n</table>\n</div>"
     },
     "execution_count": 30,
     "metadata": {},
     "output_type": "execute_result"
    }
   ],
   "source": [
    "(df.groupby('title', as_index=False)\n",
    " .aggregate({'money': 'sum'})\n",
    " .sort_values('money', ascending=False))\n",
    "\n",
    "# 1. Группируем по колонке title\n",
    "# 2. Агрегируем(применяем функцию) по суммированию количества денег\n",
    "# 3. ДОП. прописываем as_index=False, чтобы title была колонкой, а не индексом\n",
    "# 4. Сортируем значения по количеству Денег, ascending=False - от БОЛЬШЕГО к Меньшему'''\n",
    "# 5. ДОП. перенести действия на разные строки с помощью скобок или \\"
   ],
   "metadata": {
    "collapsed": false,
    "pycharm": {
     "name": "#%%\n"
    }
   }
  },
  {
   "cell_type": "code",
   "execution_count": 31,
   "outputs": [],
   "source": [
    "money_by_city = (df.groupby(['title', 'city'], as_index=False)\n",
    "    .aggregate({'money': 'sum'})\n",
    "    .sort_values('money', ascending=False))\n",
    "\n",
    "# 6. Добавляем группировку по городу (помимо названия курса)\n",
    "# 7. Сохраним полученные данные в переменную money_by_city"
   ],
   "metadata": {
    "collapsed": false,
    "pycharm": {
     "name": "#%%\n"
    }
   }
  },
  {
   "cell_type": "code",
   "execution_count": 18,
   "outputs": [
    {
     "data": {
      "text/plain": "                                                 title  \\\n51                             Курс обучения «Эксперт»   \n156  Подписка «ОНЛАЙН ДИЕТОЛОГ» с ежемесячным автос...   \n39                             Курс обучения «Эксперт»   \n95   Подписка «ОНЛАЙН ДИЕТОЛОГ» с ежемесячным автос...   \n30                          Курс обучения «Специалист»   \n..                                                 ...   \n63   Курс от Школы Диетологов. Повышение квалификац...   \n61   Курс от Школы Диетологов. Повышение квалификац...   \n55                    Курс от Школы Диетологов. Бизнес   \n54                    Курс от Школы Диетологов. Бизнес   \n158  Подписка «ОНЛАЙН ДИЕТОЛОГ» с ежемесячным автос...   \n\n                                          city     money  \n51   г.Санкт-Петербург и Ленинградская область  59195.00  \n156              г.Москва и Московская область  46967.04  \n39                                      Балхаш  42750.00  \n95                          Краснодарский край  38169.78  \n30                                   Краснодар  29695.70  \n..                                         ...       ...  \n63                                    Кемерово      0.00  \n61                               Екатеринбург       0.00  \n55                              Крым Советский      0.00  \n54                                        Киев      0.00  \n158                            нижний Новгород      0.00  \n\n[159 rows x 3 columns]",
      "text/html": "<div>\n<style scoped>\n    .dataframe tbody tr th:only-of-type {\n        vertical-align: middle;\n    }\n\n    .dataframe tbody tr th {\n        vertical-align: top;\n    }\n\n    .dataframe thead th {\n        text-align: right;\n    }\n</style>\n<table border=\"1\" class=\"dataframe\">\n  <thead>\n    <tr style=\"text-align: right;\">\n      <th></th>\n      <th>title</th>\n      <th>city</th>\n      <th>money</th>\n    </tr>\n  </thead>\n  <tbody>\n    <tr>\n      <th>51</th>\n      <td>Курс обучения «Эксперт»</td>\n      <td>г.Санкт-Петербург и Ленинградская область</td>\n      <td>59195.00</td>\n    </tr>\n    <tr>\n      <th>156</th>\n      <td>Подписка «ОНЛАЙН ДИЕТОЛОГ» с ежемесячным автос...</td>\n      <td>г.Москва и Московская область</td>\n      <td>46967.04</td>\n    </tr>\n    <tr>\n      <th>39</th>\n      <td>Курс обучения «Эксперт»</td>\n      <td>Балхаш</td>\n      <td>42750.00</td>\n    </tr>\n    <tr>\n      <th>95</th>\n      <td>Подписка «ОНЛАЙН ДИЕТОЛОГ» с ежемесячным автос...</td>\n      <td>Краснодарский край</td>\n      <td>38169.78</td>\n    </tr>\n    <tr>\n      <th>30</th>\n      <td>Курс обучения «Специалист»</td>\n      <td>Краснодар</td>\n      <td>29695.70</td>\n    </tr>\n    <tr>\n      <th>...</th>\n      <td>...</td>\n      <td>...</td>\n      <td>...</td>\n    </tr>\n    <tr>\n      <th>63</th>\n      <td>Курс от Школы Диетологов. Повышение квалификац...</td>\n      <td>Кемерово</td>\n      <td>0.00</td>\n    </tr>\n    <tr>\n      <th>61</th>\n      <td>Курс от Школы Диетологов. Повышение квалификац...</td>\n      <td>Екатеринбург</td>\n      <td>0.00</td>\n    </tr>\n    <tr>\n      <th>55</th>\n      <td>Курс от Школы Диетологов. Бизнес</td>\n      <td>Крым Советский</td>\n      <td>0.00</td>\n    </tr>\n    <tr>\n      <th>54</th>\n      <td>Курс от Школы Диетологов. Бизнес</td>\n      <td>Киев</td>\n      <td>0.00</td>\n    </tr>\n    <tr>\n      <th>158</th>\n      <td>Подписка «ОНЛАЙН ДИЕТОЛОГ» с ежемесячным автос...</td>\n      <td>нижний Новгород</td>\n      <td>0.00</td>\n    </tr>\n  </tbody>\n</table>\n<p>159 rows × 3 columns</p>\n</div>"
     },
     "execution_count": 18,
     "metadata": {},
     "output_type": "execute_result"
    }
   ],
   "source": [
    "money_by_city"
   ],
   "metadata": {
    "collapsed": false,
    "pycharm": {
     "name": "#%%\n"
    }
   }
  },
  {
   "cell_type": "code",
   "execution_count": 19,
   "outputs": [],
   "source": [
    "money_by_city.to_csv('money_by_city.csv', encoding='windows-1251', index=False)\n",
    "# 8. Сохраним полученные данные в csv файл"
   ],
   "metadata": {
    "collapsed": false,
    "pycharm": {
     "name": "#%%\n"
    }
   }
  },
  {
   "cell_type": "markdown",
   "source": [
    "##### Задача: посчитать сколько суммарно было денег, сколько было завершённых заказов"
   ],
   "metadata": {
    "collapsed": false,
    "pycharm": {
     "name": "#%% md\n"
    }
   }
  },
  {
   "cell_type": "code",
   "execution_count": 34,
   "outputs": [
    {
     "data": {
      "text/plain": "                                               title      money  number\n5  Подписка «ОНЛАЙН ДИЕТОЛОГ» с ежемесячным автос...  366947.20     182\n0                        Курс обучения «Консультант»  208163.49      52\n1                         Курс обучения «Специалист»  160862.64      12\n2                            Курс обучения «Эксперт»  148992.80      22\n4  Курс от Школы Диетологов. Повышение квалификац...   88384.92      15\n3                   Курс от Школы Диетологов. Бизнес   18752.54       9",
      "text/html": "<div>\n<style scoped>\n    .dataframe tbody tr th:only-of-type {\n        vertical-align: middle;\n    }\n\n    .dataframe tbody tr th {\n        vertical-align: top;\n    }\n\n    .dataframe thead th {\n        text-align: right;\n    }\n</style>\n<table border=\"1\" class=\"dataframe\">\n  <thead>\n    <tr style=\"text-align: right;\">\n      <th></th>\n      <th>title</th>\n      <th>money</th>\n      <th>number</th>\n    </tr>\n  </thead>\n  <tbody>\n    <tr>\n      <th>5</th>\n      <td>Подписка «ОНЛАЙН ДИЕТОЛОГ» с ежемесячным автос...</td>\n      <td>366947.20</td>\n      <td>182</td>\n    </tr>\n    <tr>\n      <th>0</th>\n      <td>Курс обучения «Консультант»</td>\n      <td>208163.49</td>\n      <td>52</td>\n    </tr>\n    <tr>\n      <th>1</th>\n      <td>Курс обучения «Специалист»</td>\n      <td>160862.64</td>\n      <td>12</td>\n    </tr>\n    <tr>\n      <th>2</th>\n      <td>Курс обучения «Эксперт»</td>\n      <td>148992.80</td>\n      <td>22</td>\n    </tr>\n    <tr>\n      <th>4</th>\n      <td>Курс от Школы Диетологов. Повышение квалификац...</td>\n      <td>88384.92</td>\n      <td>15</td>\n    </tr>\n    <tr>\n      <th>3</th>\n      <td>Курс от Школы Диетологов. Бизнес</td>\n      <td>18752.54</td>\n      <td>9</td>\n    </tr>\n  </tbody>\n</table>\n</div>"
     },
     "execution_count": 34,
     "metadata": {},
     "output_type": "execute_result"
    }
   ],
   "source": [
    "(df.groupby('title', as_index=False)\n",
    "    .aggregate({'money': 'sum', 'number': 'count'})\n",
    "    .sort_values('money', ascending=False))\n",
    "# В запрос попали все заказы, даже те, где статус заказа НЕ завершён и количество денег: 0"
   ],
   "metadata": {
    "collapsed": false,
    "pycharm": {
     "name": "#%%\n"
    }
   }
  },
  {
   "cell_type": "code",
   "execution_count": 32,
   "outputs": [],
   "source": [
    "money_title = (df.query('status == \"Завершен\"')\n",
    "    .groupby('title', as_index=False)\n",
    "    .aggregate({'money': 'sum', 'number': 'count'})\n",
    "    .sort_values('money', ascending=False)\n",
    "    .rename(columns={'number': 'success_orders'}))\n",
    "# Запрос query пишется в виде строки, и используются двойные кавычки\"\"\n",
    "# Итого: было подсчитано количество заказов только для тех строк, где статус \"Завершен\", то есть успешно завершённых\n",
    "# Переименуем колонку number в success_orders (успешные заказы)\n",
    "# Сохраним полученные данные в переменную money_title"
   ],
   "metadata": {
    "collapsed": false,
    "pycharm": {
     "name": "#%%\n"
    }
   }
  },
  {
   "cell_type": "code",
   "execution_count": 22,
   "outputs": [
    {
     "data": {
      "text/plain": "                                               title      money  \\\n5  Подписка «ОНЛАЙН ДИЕТОЛОГ» с ежемесячным автос...  366947.20   \n0                        Курс обучения «Консультант»  208163.49   \n1                         Курс обучения «Специалист»  160862.64   \n2                            Курс обучения «Эксперт»  148992.80   \n4  Курс от Школы Диетологов. Повышение квалификац...   88384.92   \n3                   Курс от Школы Диетологов. Бизнес   18752.54   \n\n   success_orders  \n5             125  \n0              31  \n1               7  \n2               5  \n4               9  \n3               3  ",
      "text/html": "<div>\n<style scoped>\n    .dataframe tbody tr th:only-of-type {\n        vertical-align: middle;\n    }\n\n    .dataframe tbody tr th {\n        vertical-align: top;\n    }\n\n    .dataframe thead th {\n        text-align: right;\n    }\n</style>\n<table border=\"1\" class=\"dataframe\">\n  <thead>\n    <tr style=\"text-align: right;\">\n      <th></th>\n      <th>title</th>\n      <th>money</th>\n      <th>success_orders</th>\n    </tr>\n  </thead>\n  <tbody>\n    <tr>\n      <th>5</th>\n      <td>Подписка «ОНЛАЙН ДИЕТОЛОГ» с ежемесячным автос...</td>\n      <td>366947.20</td>\n      <td>125</td>\n    </tr>\n    <tr>\n      <th>0</th>\n      <td>Курс обучения «Консультант»</td>\n      <td>208163.49</td>\n      <td>31</td>\n    </tr>\n    <tr>\n      <th>1</th>\n      <td>Курс обучения «Специалист»</td>\n      <td>160862.64</td>\n      <td>7</td>\n    </tr>\n    <tr>\n      <th>2</th>\n      <td>Курс обучения «Эксперт»</td>\n      <td>148992.80</td>\n      <td>5</td>\n    </tr>\n    <tr>\n      <th>4</th>\n      <td>Курс от Школы Диетологов. Повышение квалификац...</td>\n      <td>88384.92</td>\n      <td>9</td>\n    </tr>\n    <tr>\n      <th>3</th>\n      <td>Курс от Школы Диетологов. Бизнес</td>\n      <td>18752.54</td>\n      <td>3</td>\n    </tr>\n  </tbody>\n</table>\n</div>"
     },
     "execution_count": 22,
     "metadata": {},
     "output_type": "execute_result"
    }
   ],
   "source": [
    "money_title"
   ],
   "metadata": {
    "collapsed": false,
    "pycharm": {
     "name": "#%%\n"
    }
   }
  },
  {
   "cell_type": "markdown",
   "source": [
    "### 4. Самопроверка при анализе данных"
   ],
   "metadata": {
    "collapsed": false,
    "pycharm": {
     "name": "#%% md\n"
    }
   }
  },
  {
   "cell_type": "markdown",
   "source": [
    "##### Проверим данные на логическую НЕПРОТИВОРЕЧИВОСТЬ:\n",
    "в money_title получилось 6 курсов, по этому посмотрим количество курсов в исходном датафрейме."
   ],
   "metadata": {
    "collapsed": false,
    "pycharm": {
     "name": "#%% md\n"
    }
   }
  },
  {
   "cell_type": "code",
   "execution_count": 23,
   "outputs": [
    {
     "data": {
      "text/plain": "array(['Курс обучения «Эксперт»', 'Курс обучения «Специалист»',\n       'Курс обучения «Консультант»', 'Курс от Школы Диетологов. Бизнес',\n       'Курс от Школы Диетологов. Повышение квалификации. ',\n       'Подписка «ОНЛАЙН ДИЕТОЛОГ» с ежемесячным автосписанием'],\n      dtype=object)"
     },
     "execution_count": 23,
     "metadata": {},
     "output_type": "execute_result"
    }
   ],
   "source": [
    "df.title.unique()  # 6 Уникальных курсов было в исходном датафрейме\n",
    "# Количество курсов равно ✓"
   ],
   "metadata": {
    "collapsed": false,
    "pycharm": {
     "name": "#%%\n"
    }
   }
  },
  {
   "cell_type": "markdown",
   "source": [
    "Сравним суммарное количество денег в исходном ДФ и после преобразований"
   ],
   "metadata": {
    "collapsed": false,
    "pycharm": {
     "name": "#%% md\n"
    }
   }
  },
  {
   "cell_type": "code",
   "execution_count": 24,
   "outputs": [
    {
     "data": {
      "text/plain": "(992103.5900000001, 992103.59)"
     },
     "execution_count": 24,
     "metadata": {},
     "output_type": "execute_result"
    }
   ],
   "source": [
    "all_money, money_title.money.sum()"
   ],
   "metadata": {
    "collapsed": false,
    "pycharm": {
     "name": "#%%\n"
    }
   }
  },
  {
   "cell_type": "code",
   "execution_count": 25,
   "outputs": [
    {
     "name": "stdout",
     "output_type": "stream",
     "text": [
      "OK\n"
     ]
    }
   ],
   "source": [
    "if int(all_money) == int(money_title.money.sum()):\n",
    "    print('OK')\n",
    "else:\n",
    "    print('Money ERROR!!!')\n",
    "# Количество денег равно ✓"
   ],
   "metadata": {
    "collapsed": false,
    "pycharm": {
     "name": "#%%\n"
    }
   }
  },
  {
   "cell_type": "markdown",
   "source": [
    "### 5. Автоматизация скучной работы"
   ],
   "metadata": {
    "collapsed": false,
    "pycharm": {
     "name": "#%% md\n"
    }
   }
  },
  {
   "cell_type": "code",
   "execution_count": 26,
   "outputs": [],
   "source": [
    "today_date = datetime.today().strftime('%Y-%m-%d')  # Сегодняшняя дата\n",
    "file_name = 'money_title_{}.csv'  # Заготовка для сохранения в csv\n",
    "file_name = file_name.format(today_date)"
   ],
   "metadata": {
    "collapsed": false,
    "pycharm": {
     "name": "#%%\n"
    }
   }
  },
  {
   "cell_type": "code",
   "execution_count": 27,
   "outputs": [
    {
     "data": {
      "text/plain": "'2023-05-03'"
     },
     "execution_count": 27,
     "metadata": {},
     "output_type": "execute_result"
    }
   ],
   "source": [
    "today_date"
   ],
   "metadata": {
    "collapsed": false,
    "pycharm": {
     "name": "#%%\n"
    }
   }
  },
  {
   "cell_type": "code",
   "execution_count": 28,
   "outputs": [
    {
     "name": "stdout",
     "output_type": "stream",
     "text": [
      "OK, File money_title_2023-05-03.csv is written!\n"
     ]
    }
   ],
   "source": [
    "if int(all_money) == int(money_title.money.sum()):\n",
    "    print('OK, File {} is written!'.format(file_name))\n",
    "    money_title.to_csv(file_name, index=False)\n",
    "else:\n",
    "    print('Money ERROR!!!')"
   ],
   "metadata": {
    "collapsed": false,
    "pycharm": {
     "name": "#%%\n"
    }
   }
  },
  {
   "cell_type": "code",
   "execution_count": 29,
   "outputs": [
    {
     "data": {
      "text/plain": "0                                Курс обучения «Эксперт»\n1                                Курс обучения «Эксперт»\n2                             Курс обучения «Специалист»\n3                            Курс обучения «Консультант»\n4                                Курс обучения «Эксперт»\n                             ...                        \n287    Подписка «ОНЛАЙН ДИЕТОЛОГ» с ежемесячным автос...\n288                          Курс обучения «Консультант»\n289                          Курс обучения «Консультант»\n290    Подписка «ОНЛАЙН ДИЕТОЛОГ» с ежемесячным автос...\n291    Курс от Школы Диетологов. Повышение квалификац...\nName: title, Length: 292, dtype: object"
     },
     "execution_count": 29,
     "metadata": {},
     "output_type": "execute_result"
    }
   ],
   "source": [
    "df.title"
   ],
   "metadata": {
    "collapsed": false,
    "pycharm": {
     "name": "#%%\n"
    }
   }
  },
  {
   "cell_type": "code",
   "execution_count": 29,
   "outputs": [],
   "source": [],
   "metadata": {
    "collapsed": false,
    "pycharm": {
     "name": "#%%\n"
    }
   }
  }
 ],
 "metadata": {
  "kernelspec": {
   "display_name": "Python 3",
   "language": "python",
   "name": "python3"
  },
  "language_info": {
   "codemirror_mode": {
    "name": "ipython",
    "version": 2
   },
   "file_extension": ".py",
   "mimetype": "text/x-python",
   "name": "python",
   "nbconvert_exporter": "python",
   "pygments_lexer": "ipython2",
   "version": "2.7.6"
  }
 },
 "nbformat": 4,
 "nbformat_minor": 0
}