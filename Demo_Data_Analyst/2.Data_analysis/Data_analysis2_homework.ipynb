{
 "cells": [
  {
   "cell_type": "code",
   "execution_count": 2,
   "metadata": {
    "collapsed": true
   },
   "outputs": [],
   "source": [
    "import pandas as pd"
   ]
  },
  {
   "cell_type": "code",
   "execution_count": 3,
   "outputs": [],
   "source": [
    "taxi = pd.read_csv('2_taxi_nyc.csv')"
   ],
   "metadata": {
    "collapsed": false,
    "pycharm": {
     "name": "#%%\n"
    }
   }
  },
  {
   "cell_type": "code",
   "execution_count": 4,
   "outputs": [
    {
     "data": {
      "text/plain": "             pickup_dt pickup_month    borough  pickups hday  spd   vsb  temp  \\\n0  2015-01-01 01:00:00          Jan      Bronx      152    Y  5.0  10.0  30.0   \n1  2015-01-01 01:00:00          Jan   Brooklyn     1519    Y  5.0  10.0  30.0   \n2  2015-01-01 01:00:00          Jan        EWR        0    Y  5.0  10.0  30.0   \n3  2015-01-01 01:00:00          Jan  Manhattan     5258    Y  5.0  10.0  30.0   \n4  2015-01-01 01:00:00          Jan     Queens      405    Y  5.0  10.0  30.0   \n\n   dewp     slp  pcp 01  pcp 06  pcp 24   sd  \n0   7.0  1023.5     0.0     0.0     0.0  0.0  \n1   7.0  1023.5     0.0     0.0     0.0  0.0  \n2   7.0  1023.5     0.0     0.0     0.0  0.0  \n3   7.0  1023.5     0.0     0.0     0.0  0.0  \n4   7.0  1023.5     0.0     0.0     0.0  0.0  ",
      "text/html": "<div>\n<style scoped>\n    .dataframe tbody tr th:only-of-type {\n        vertical-align: middle;\n    }\n\n    .dataframe tbody tr th {\n        vertical-align: top;\n    }\n\n    .dataframe thead th {\n        text-align: right;\n    }\n</style>\n<table border=\"1\" class=\"dataframe\">\n  <thead>\n    <tr style=\"text-align: right;\">\n      <th></th>\n      <th>pickup_dt</th>\n      <th>pickup_month</th>\n      <th>borough</th>\n      <th>pickups</th>\n      <th>hday</th>\n      <th>spd</th>\n      <th>vsb</th>\n      <th>temp</th>\n      <th>dewp</th>\n      <th>slp</th>\n      <th>pcp 01</th>\n      <th>pcp 06</th>\n      <th>pcp 24</th>\n      <th>sd</th>\n    </tr>\n  </thead>\n  <tbody>\n    <tr>\n      <th>0</th>\n      <td>2015-01-01 01:00:00</td>\n      <td>Jan</td>\n      <td>Bronx</td>\n      <td>152</td>\n      <td>Y</td>\n      <td>5.0</td>\n      <td>10.0</td>\n      <td>30.0</td>\n      <td>7.0</td>\n      <td>1023.5</td>\n      <td>0.0</td>\n      <td>0.0</td>\n      <td>0.0</td>\n      <td>0.0</td>\n    </tr>\n    <tr>\n      <th>1</th>\n      <td>2015-01-01 01:00:00</td>\n      <td>Jan</td>\n      <td>Brooklyn</td>\n      <td>1519</td>\n      <td>Y</td>\n      <td>5.0</td>\n      <td>10.0</td>\n      <td>30.0</td>\n      <td>7.0</td>\n      <td>1023.5</td>\n      <td>0.0</td>\n      <td>0.0</td>\n      <td>0.0</td>\n      <td>0.0</td>\n    </tr>\n    <tr>\n      <th>2</th>\n      <td>2015-01-01 01:00:00</td>\n      <td>Jan</td>\n      <td>EWR</td>\n      <td>0</td>\n      <td>Y</td>\n      <td>5.0</td>\n      <td>10.0</td>\n      <td>30.0</td>\n      <td>7.0</td>\n      <td>1023.5</td>\n      <td>0.0</td>\n      <td>0.0</td>\n      <td>0.0</td>\n      <td>0.0</td>\n    </tr>\n    <tr>\n      <th>3</th>\n      <td>2015-01-01 01:00:00</td>\n      <td>Jan</td>\n      <td>Manhattan</td>\n      <td>5258</td>\n      <td>Y</td>\n      <td>5.0</td>\n      <td>10.0</td>\n      <td>30.0</td>\n      <td>7.0</td>\n      <td>1023.5</td>\n      <td>0.0</td>\n      <td>0.0</td>\n      <td>0.0</td>\n      <td>0.0</td>\n    </tr>\n    <tr>\n      <th>4</th>\n      <td>2015-01-01 01:00:00</td>\n      <td>Jan</td>\n      <td>Queens</td>\n      <td>405</td>\n      <td>Y</td>\n      <td>5.0</td>\n      <td>10.0</td>\n      <td>30.0</td>\n      <td>7.0</td>\n      <td>1023.5</td>\n      <td>0.0</td>\n      <td>0.0</td>\n      <td>0.0</td>\n      <td>0.0</td>\n    </tr>\n  </tbody>\n</table>\n</div>"
     },
     "execution_count": 4,
     "metadata": {},
     "output_type": "execute_result"
    }
   ],
   "source": [
    "taxi.head()"
   ],
   "metadata": {
    "collapsed": false,
    "pycharm": {
     "name": "#%%\n"
    }
   }
  },
  {
   "cell_type": "code",
   "execution_count": 5,
   "outputs": [
    {
     "data": {
      "text/plain": "                 pickup_dt pickup_month        borough  pickups hday  spd  \\\n29096  2015-06-30 23:00:00          Jun            EWR        0    N  7.0   \n29097  2015-06-30 23:00:00          Jun      Manhattan     3828    N  7.0   \n29098  2015-06-30 23:00:00          Jun         Queens      580    N  7.0   \n29099  2015-06-30 23:00:00          Jun  Staten Island        0    N  7.0   \n29100  2015-06-30 23:00:00          Jun            NaN        3    N  7.0   \n\n        vsb  temp  dewp     slp  pcp 01  pcp 06  pcp 24   sd  \n29096  10.0  75.0  65.0  1011.8     0.0     0.0     0.0  0.0  \n29097  10.0  75.0  65.0  1011.8     0.0     0.0     0.0  0.0  \n29098  10.0  75.0  65.0  1011.8     0.0     0.0     0.0  0.0  \n29099  10.0  75.0  65.0  1011.8     0.0     0.0     0.0  0.0  \n29100  10.0  75.0  65.0  1011.8     0.0     0.0     0.0  0.0  ",
      "text/html": "<div>\n<style scoped>\n    .dataframe tbody tr th:only-of-type {\n        vertical-align: middle;\n    }\n\n    .dataframe tbody tr th {\n        vertical-align: top;\n    }\n\n    .dataframe thead th {\n        text-align: right;\n    }\n</style>\n<table border=\"1\" class=\"dataframe\">\n  <thead>\n    <tr style=\"text-align: right;\">\n      <th></th>\n      <th>pickup_dt</th>\n      <th>pickup_month</th>\n      <th>borough</th>\n      <th>pickups</th>\n      <th>hday</th>\n      <th>spd</th>\n      <th>vsb</th>\n      <th>temp</th>\n      <th>dewp</th>\n      <th>slp</th>\n      <th>pcp 01</th>\n      <th>pcp 06</th>\n      <th>pcp 24</th>\n      <th>sd</th>\n    </tr>\n  </thead>\n  <tbody>\n    <tr>\n      <th>29096</th>\n      <td>2015-06-30 23:00:00</td>\n      <td>Jun</td>\n      <td>EWR</td>\n      <td>0</td>\n      <td>N</td>\n      <td>7.0</td>\n      <td>10.0</td>\n      <td>75.0</td>\n      <td>65.0</td>\n      <td>1011.8</td>\n      <td>0.0</td>\n      <td>0.0</td>\n      <td>0.0</td>\n      <td>0.0</td>\n    </tr>\n    <tr>\n      <th>29097</th>\n      <td>2015-06-30 23:00:00</td>\n      <td>Jun</td>\n      <td>Manhattan</td>\n      <td>3828</td>\n      <td>N</td>\n      <td>7.0</td>\n      <td>10.0</td>\n      <td>75.0</td>\n      <td>65.0</td>\n      <td>1011.8</td>\n      <td>0.0</td>\n      <td>0.0</td>\n      <td>0.0</td>\n      <td>0.0</td>\n    </tr>\n    <tr>\n      <th>29098</th>\n      <td>2015-06-30 23:00:00</td>\n      <td>Jun</td>\n      <td>Queens</td>\n      <td>580</td>\n      <td>N</td>\n      <td>7.0</td>\n      <td>10.0</td>\n      <td>75.0</td>\n      <td>65.0</td>\n      <td>1011.8</td>\n      <td>0.0</td>\n      <td>0.0</td>\n      <td>0.0</td>\n      <td>0.0</td>\n    </tr>\n    <tr>\n      <th>29099</th>\n      <td>2015-06-30 23:00:00</td>\n      <td>Jun</td>\n      <td>Staten Island</td>\n      <td>0</td>\n      <td>N</td>\n      <td>7.0</td>\n      <td>10.0</td>\n      <td>75.0</td>\n      <td>65.0</td>\n      <td>1011.8</td>\n      <td>0.0</td>\n      <td>0.0</td>\n      <td>0.0</td>\n      <td>0.0</td>\n    </tr>\n    <tr>\n      <th>29100</th>\n      <td>2015-06-30 23:00:00</td>\n      <td>Jun</td>\n      <td>NaN</td>\n      <td>3</td>\n      <td>N</td>\n      <td>7.0</td>\n      <td>10.0</td>\n      <td>75.0</td>\n      <td>65.0</td>\n      <td>1011.8</td>\n      <td>0.0</td>\n      <td>0.0</td>\n      <td>0.0</td>\n      <td>0.0</td>\n    </tr>\n  </tbody>\n</table>\n</div>"
     },
     "execution_count": 5,
     "metadata": {},
     "output_type": "execute_result"
    }
   ],
   "source": [
    "taxi.tail()"
   ],
   "metadata": {
    "collapsed": false,
    "pycharm": {
     "name": "#%%\n"
    }
   }
  },
  {
   "cell_type": "code",
   "execution_count": 6,
   "outputs": [
    {
     "data": {
      "text/plain": "(29101, 14)"
     },
     "execution_count": 6,
     "metadata": {},
     "output_type": "execute_result"
    }
   ],
   "source": [
    "taxi.shape"
   ],
   "metadata": {
    "collapsed": false,
    "pycharm": {
     "name": "#%%\n"
    }
   }
  },
  {
   "cell_type": "code",
   "execution_count": 7,
   "outputs": [],
   "source": [
    "rows, cols = taxi.shape"
   ],
   "metadata": {
    "collapsed": false,
    "pycharm": {
     "name": "#%%\n"
    }
   }
  },
  {
   "cell_type": "code",
   "execution_count": 8,
   "outputs": [
    {
     "name": "stdout",
     "output_type": "stream",
     "text": [
      "rows = 29101, cols = 14\n"
     ]
    }
   ],
   "source": [
    "print(f'{rows = }, {cols = }')"
   ],
   "metadata": {
    "collapsed": false,
    "pycharm": {
     "name": "#%%\n"
    }
   }
  },
  {
   "cell_type": "code",
   "execution_count": 9,
   "outputs": [
    {
     "data": {
      "text/plain": "pickup_dt        object\npickup_month     object\nborough          object\npickups           int64\nhday             object\nspd             float64\nvsb             float64\ntemp            float64\ndewp            float64\nslp             float64\npcp 01          float64\npcp 06          float64\npcp 24          float64\nsd              float64\ndtype: object"
     },
     "execution_count": 9,
     "metadata": {},
     "output_type": "execute_result"
    }
   ],
   "source": [
    "taxi.dtypes"
   ],
   "metadata": {
    "collapsed": false,
    "pycharm": {
     "name": "#%%\n"
    }
   }
  },
  {
   "cell_type": "code",
   "execution_count": 10,
   "outputs": [
    {
     "data": {
      "text/plain": "count          14\nunique          3\ntop       float64\nfreq            9\ndtype: object"
     },
     "execution_count": 10,
     "metadata": {},
     "output_type": "execute_result"
    }
   ],
   "source": [
    "taxi.dtypes.describe()"
   ],
   "metadata": {
    "collapsed": false,
    "pycharm": {
     "name": "#%%\n"
    }
   }
  },
  {
   "cell_type": "code",
   "execution_count": 11,
   "outputs": [],
   "source": [
    "taxi = taxi.rename(columns={'pcp 01': 'pcp_01', 'pcp 06': 'pcp_06', 'pcp 24': 'pcp_24'})"
   ],
   "metadata": {
    "collapsed": false,
    "pycharm": {
     "name": "#%%\n"
    }
   }
  },
  {
   "cell_type": "code",
   "execution_count": 12,
   "outputs": [
    {
     "data": {
      "text/plain": "Index(['pickup_dt', 'pickup_month', 'borough', 'pickups', 'hday', 'spd', 'vsb',\n       'temp', 'dewp', 'slp', 'pcp_01', 'pcp_06', 'pcp_24', 'sd'],\n      dtype='object')"
     },
     "execution_count": 12,
     "metadata": {},
     "output_type": "execute_result"
    }
   ],
   "source": [
    "taxi.columns"
   ],
   "metadata": {
    "collapsed": false,
    "pycharm": {
     "name": "#%%\n"
    }
   }
  },
  {
   "cell_type": "code",
   "execution_count": 13,
   "outputs": [
    {
     "data": {
      "text/plain": "4343"
     },
     "execution_count": 13,
     "metadata": {},
     "output_type": "execute_result"
    }
   ],
   "source": [
    "taxi.query('borough == \"Manhattan\"').shape[0]  # Записи, которые относятся к району Манхеттен"
   ],
   "metadata": {
    "collapsed": false,
    "pycharm": {
     "name": "#%%\n"
    }
   }
  },
  {
   "cell_type": "code",
   "execution_count": 14,
   "outputs": [
    {
     "data": {
      "text/plain": "(Bronx            4343\n Brooklyn         4343\n EWR              4343\n Manhattan        4343\n Queens           4343\n Staten Island    4343\n Name: borough, dtype: int64,\n Bronx            4343\n Brooklyn         4343\n EWR              4343\n Manhattan        4343\n Queens           4343\n Staten Island    4343\n Name: borough, dtype: int64)"
     },
     "execution_count": 14,
     "metadata": {},
     "output_type": "execute_result"
    }
   ],
   "source": [
    "taxi['borough'].value_counts(), taxi.borough.value_counts()  # Количество поездок, которые встречаются в разных районах"
   ],
   "metadata": {
    "collapsed": false,
    "pycharm": {
     "name": "#%%\n"
    }
   }
  },
  {
   "cell_type": "code",
   "execution_count": 15,
   "outputs": [
    {
     "data": {
      "text/plain": "14265773"
     },
     "execution_count": 15,
     "metadata": {},
     "output_type": "execute_result"
    }
   ],
   "source": [
    "taxi.pickups.sum()  # Общее количество поездок"
   ],
   "metadata": {
    "collapsed": false,
    "pycharm": {
     "name": "#%%\n"
    }
   }
  },
  {
   "cell_type": "code",
   "execution_count": 16,
   "outputs": [
    {
     "data": {
      "text/plain": "                pickups\nborough                \nManhattan      10367841\nBrooklyn        2321035\nQueens          1343528\nBronx            220047\nStaten Island      6957\nEWR                 105",
      "text/html": "<div>\n<style scoped>\n    .dataframe tbody tr th:only-of-type {\n        vertical-align: middle;\n    }\n\n    .dataframe tbody tr th {\n        vertical-align: top;\n    }\n\n    .dataframe thead th {\n        text-align: right;\n    }\n</style>\n<table border=\"1\" class=\"dataframe\">\n  <thead>\n    <tr style=\"text-align: right;\">\n      <th></th>\n      <th>pickups</th>\n    </tr>\n    <tr>\n      <th>borough</th>\n      <th></th>\n    </tr>\n  </thead>\n  <tbody>\n    <tr>\n      <th>Manhattan</th>\n      <td>10367841</td>\n    </tr>\n    <tr>\n      <th>Brooklyn</th>\n      <td>2321035</td>\n    </tr>\n    <tr>\n      <th>Queens</th>\n      <td>1343528</td>\n    </tr>\n    <tr>\n      <th>Bronx</th>\n      <td>220047</td>\n    </tr>\n    <tr>\n      <th>Staten Island</th>\n      <td>6957</td>\n    </tr>\n    <tr>\n      <th>EWR</th>\n      <td>105</td>\n    </tr>\n  </tbody>\n</table>\n</div>"
     },
     "execution_count": 16,
     "metadata": {},
     "output_type": "execute_result"
    }
   ],
   "source": [
    "taxi.groupby('borough').aggregate({'pickups': 'sum'}).sort_values(by='pickups', axis=0, ascending=False)\n",
    "# Сортировка пунктов поездок по количеству поездок"
   ],
   "metadata": {
    "collapsed": false,
    "pycharm": {
     "name": "#%%\n"
    }
   }
  },
  {
   "cell_type": "code",
   "execution_count": 17,
   "outputs": [
    {
     "data": {
      "text/plain": "borough\nManhattan        10367841\nBrooklyn          2321035\nQueens            1343528\nBronx              220047\nStaten Island        6957\nEWR                   105\nName: pickups, dtype: int64"
     },
     "execution_count": 17,
     "metadata": {},
     "output_type": "execute_result"
    }
   ],
   "source": [
    "taxi.groupby('borough').pickups.sum().sort_values(ascending=False)"
   ],
   "metadata": {
    "collapsed": false,
    "pycharm": {
     "name": "#%%\n"
    }
   }
  },
  {
   "cell_type": "code",
   "execution_count": 18,
   "outputs": [
    {
     "data": {
      "text/plain": "borough\nQueens           4114\nManhattan        4113\nBrooklyn         4111\nBronx            4104\nStaten Island      40\nEWR                 2\nName: pickups, dtype: int64"
     },
     "execution_count": 18,
     "metadata": {},
     "output_type": "execute_result"
    }
   ],
   "source": [
    "taxi.groupby('borough').pickups.idxmin().sort_values(ascending=False)"
   ],
   "metadata": {
    "collapsed": false,
    "pycharm": {
     "name": "#%%\n"
    }
   }
  },
  {
   "cell_type": "code",
   "execution_count": 19,
   "outputs": [
    {
     "data": {
      "text/plain": "'EWR'"
     },
     "execution_count": 19,
     "metadata": {},
     "output_type": "execute_result"
    }
   ],
   "source": [
    "taxi.groupby('borough').pickups.sum().idxmin()"
   ],
   "metadata": {
    "collapsed": false,
    "pycharm": {
     "name": "#%%\n"
    }
   }
  },
  {
   "cell_type": "code",
   "execution_count": 20,
   "outputs": [],
   "source": [
    "min_pickups = taxi.groupby('borough').aggregate({'pickups': 'sum'}).idxmin()[0]"
   ],
   "metadata": {
    "collapsed": false,
    "pycharm": {
     "name": "#%%\n"
    }
   }
  },
  {
   "cell_type": "code",
   "execution_count": 21,
   "outputs": [
    {
     "data": {
      "text/plain": "'EWR'"
     },
     "execution_count": 21,
     "metadata": {},
     "output_type": "execute_result"
    }
   ],
   "source": [
    "min_pickups"
   ],
   "metadata": {
    "collapsed": false,
    "pycharm": {
     "name": "#%%\n"
    }
   }
  },
  {
   "cell_type": "code",
   "execution_count": 22,
   "outputs": [
    {
     "data": {
      "text/plain": "                   pickups                                                    \\\n                     count         mean          std    min      25%     50%   \nborough       hday                                                             \nBronx         N     4176.0    50.771073    31.095346    0.0    30.00    46.0   \n              Y      167.0    48.065868    29.295367    8.0    26.00    40.0   \nBrooklyn      N     4176.0   534.727969   294.820955    0.0   331.00   494.0   \n              Y      167.0   527.011976   295.329079   94.0   342.50   446.0   \nEWR           N     4176.0     0.023467     0.159114    0.0     0.00     0.0   \n              Y      167.0     0.041916     0.201000    0.0     0.00     0.0   \nManhattan     N     4176.0  2401.302921  1438.621328    0.0  1241.75  2280.0   \n              Y      167.0  2035.928144  1288.448276  319.0   985.50  1943.0   \nQueens        N     4176.0   308.899904   153.441165    0.0   197.00   308.0   \n              Y      167.0   320.730539   176.111425   44.0   189.00   293.0   \nStaten Island N     4176.0     1.606082     1.637510    0.0     0.00     1.0   \n              Y      167.0     1.497006     1.714131    0.0     0.00     1.0   \n\n                                       spd            ...  pcp_24        \\\n                       75%     max   count      mean  ...     75%   max   \nborough       hday                                    ...                 \nBronx         N       66.0   262.0  4176.0  6.004750  ...  0.0500  1.89   \n              Y       66.5   152.0   167.0  5.882236  ...  0.2175  2.10   \nBrooklyn      N      674.0  2009.0  4176.0  6.004750  ...  0.0500  1.89   \n              Y      710.5  1601.0   167.0  5.882236  ...  0.2175  2.10   \nEWR           N        0.0     2.0  4176.0  6.004750  ...  0.0500  1.89   \n              Y        0.0     1.0   167.0  5.882236  ...  0.2175  2.10   \nManhattan     N     3318.5  7883.0  4176.0  6.004750  ...  0.0500  1.89   \n              Y     2644.0  5330.0   167.0  5.882236  ...  0.2175  2.10   \nQueens        N      409.0   831.0  4176.0  6.004750  ...  0.0500  1.89   \n              Y      444.5   784.0   167.0  5.882236  ...  0.2175  2.10   \nStaten Island N        2.0    13.0  4176.0  6.004750  ...  0.0500  1.89   \n              Y        2.0    12.0   167.0  5.882236  ...  0.2175  2.10   \n\n                        sd                                               \\\n                     count      mean       std  min  25%  50%       75%   \nborough       hday                                                        \nBronx         N     4176.0  2.542325  4.548396  0.0  0.0  0.0  2.916667   \n              Y      167.0  2.390719  3.779857  0.0  0.0  0.0  8.000000   \nBrooklyn      N     4176.0  2.542325  4.548396  0.0  0.0  0.0  2.916667   \n              Y      167.0  2.390719  3.779857  0.0  0.0  0.0  8.000000   \nEWR           N     4176.0  2.542325  4.548396  0.0  0.0  0.0  2.916667   \n              Y      167.0  2.390719  3.779857  0.0  0.0  0.0  8.000000   \nManhattan     N     4176.0  2.542325  4.548396  0.0  0.0  0.0  2.916667   \n              Y      167.0  2.390719  3.779857  0.0  0.0  0.0  8.000000   \nQueens        N     4176.0  2.542325  4.548396  0.0  0.0  0.0  2.916667   \n              Y      167.0  2.390719  3.779857  0.0  0.0  0.0  8.000000   \nStaten Island N     4176.0  2.542325  4.548396  0.0  0.0  0.0  2.916667   \n              Y      167.0  2.390719  3.779857  0.0  0.0  0.0  8.000000   \n\n                            \n                       max  \nborough       hday          \nBronx         N     19.000  \n              Y      8.875  \nBrooklyn      N     19.000  \n              Y      8.875  \nEWR           N     19.000  \n              Y      8.875  \nManhattan     N     19.000  \n              Y      8.875  \nQueens        N     19.000  \n              Y      8.875  \nStaten Island N     19.000  \n              Y      8.875  \n\n[12 rows x 80 columns]",
      "text/html": "<div>\n<style scoped>\n    .dataframe tbody tr th:only-of-type {\n        vertical-align: middle;\n    }\n\n    .dataframe tbody tr th {\n        vertical-align: top;\n    }\n\n    .dataframe thead tr th {\n        text-align: left;\n    }\n\n    .dataframe thead tr:last-of-type th {\n        text-align: right;\n    }\n</style>\n<table border=\"1\" class=\"dataframe\">\n  <thead>\n    <tr>\n      <th></th>\n      <th></th>\n      <th colspan=\"8\" halign=\"left\">pickups</th>\n      <th colspan=\"2\" halign=\"left\">spd</th>\n      <th>...</th>\n      <th colspan=\"2\" halign=\"left\">pcp_24</th>\n      <th colspan=\"8\" halign=\"left\">sd</th>\n    </tr>\n    <tr>\n      <th></th>\n      <th></th>\n      <th>count</th>\n      <th>mean</th>\n      <th>std</th>\n      <th>min</th>\n      <th>25%</th>\n      <th>50%</th>\n      <th>75%</th>\n      <th>max</th>\n      <th>count</th>\n      <th>mean</th>\n      <th>...</th>\n      <th>75%</th>\n      <th>max</th>\n      <th>count</th>\n      <th>mean</th>\n      <th>std</th>\n      <th>min</th>\n      <th>25%</th>\n      <th>50%</th>\n      <th>75%</th>\n      <th>max</th>\n    </tr>\n    <tr>\n      <th>borough</th>\n      <th>hday</th>\n      <th></th>\n      <th></th>\n      <th></th>\n      <th></th>\n      <th></th>\n      <th></th>\n      <th></th>\n      <th></th>\n      <th></th>\n      <th></th>\n      <th></th>\n      <th></th>\n      <th></th>\n      <th></th>\n      <th></th>\n      <th></th>\n      <th></th>\n      <th></th>\n      <th></th>\n      <th></th>\n      <th></th>\n    </tr>\n  </thead>\n  <tbody>\n    <tr>\n      <th rowspan=\"2\" valign=\"top\">Bronx</th>\n      <th>N</th>\n      <td>4176.0</td>\n      <td>50.771073</td>\n      <td>31.095346</td>\n      <td>0.0</td>\n      <td>30.00</td>\n      <td>46.0</td>\n      <td>66.0</td>\n      <td>262.0</td>\n      <td>4176.0</td>\n      <td>6.004750</td>\n      <td>...</td>\n      <td>0.0500</td>\n      <td>1.89</td>\n      <td>4176.0</td>\n      <td>2.542325</td>\n      <td>4.548396</td>\n      <td>0.0</td>\n      <td>0.0</td>\n      <td>0.0</td>\n      <td>2.916667</td>\n      <td>19.000</td>\n    </tr>\n    <tr>\n      <th>Y</th>\n      <td>167.0</td>\n      <td>48.065868</td>\n      <td>29.295367</td>\n      <td>8.0</td>\n      <td>26.00</td>\n      <td>40.0</td>\n      <td>66.5</td>\n      <td>152.0</td>\n      <td>167.0</td>\n      <td>5.882236</td>\n      <td>...</td>\n      <td>0.2175</td>\n      <td>2.10</td>\n      <td>167.0</td>\n      <td>2.390719</td>\n      <td>3.779857</td>\n      <td>0.0</td>\n      <td>0.0</td>\n      <td>0.0</td>\n      <td>8.000000</td>\n      <td>8.875</td>\n    </tr>\n    <tr>\n      <th rowspan=\"2\" valign=\"top\">Brooklyn</th>\n      <th>N</th>\n      <td>4176.0</td>\n      <td>534.727969</td>\n      <td>294.820955</td>\n      <td>0.0</td>\n      <td>331.00</td>\n      <td>494.0</td>\n      <td>674.0</td>\n      <td>2009.0</td>\n      <td>4176.0</td>\n      <td>6.004750</td>\n      <td>...</td>\n      <td>0.0500</td>\n      <td>1.89</td>\n      <td>4176.0</td>\n      <td>2.542325</td>\n      <td>4.548396</td>\n      <td>0.0</td>\n      <td>0.0</td>\n      <td>0.0</td>\n      <td>2.916667</td>\n      <td>19.000</td>\n    </tr>\n    <tr>\n      <th>Y</th>\n      <td>167.0</td>\n      <td>527.011976</td>\n      <td>295.329079</td>\n      <td>94.0</td>\n      <td>342.50</td>\n      <td>446.0</td>\n      <td>710.5</td>\n      <td>1601.0</td>\n      <td>167.0</td>\n      <td>5.882236</td>\n      <td>...</td>\n      <td>0.2175</td>\n      <td>2.10</td>\n      <td>167.0</td>\n      <td>2.390719</td>\n      <td>3.779857</td>\n      <td>0.0</td>\n      <td>0.0</td>\n      <td>0.0</td>\n      <td>8.000000</td>\n      <td>8.875</td>\n    </tr>\n    <tr>\n      <th rowspan=\"2\" valign=\"top\">EWR</th>\n      <th>N</th>\n      <td>4176.0</td>\n      <td>0.023467</td>\n      <td>0.159114</td>\n      <td>0.0</td>\n      <td>0.00</td>\n      <td>0.0</td>\n      <td>0.0</td>\n      <td>2.0</td>\n      <td>4176.0</td>\n      <td>6.004750</td>\n      <td>...</td>\n      <td>0.0500</td>\n      <td>1.89</td>\n      <td>4176.0</td>\n      <td>2.542325</td>\n      <td>4.548396</td>\n      <td>0.0</td>\n      <td>0.0</td>\n      <td>0.0</td>\n      <td>2.916667</td>\n      <td>19.000</td>\n    </tr>\n    <tr>\n      <th>Y</th>\n      <td>167.0</td>\n      <td>0.041916</td>\n      <td>0.201000</td>\n      <td>0.0</td>\n      <td>0.00</td>\n      <td>0.0</td>\n      <td>0.0</td>\n      <td>1.0</td>\n      <td>167.0</td>\n      <td>5.882236</td>\n      <td>...</td>\n      <td>0.2175</td>\n      <td>2.10</td>\n      <td>167.0</td>\n      <td>2.390719</td>\n      <td>3.779857</td>\n      <td>0.0</td>\n      <td>0.0</td>\n      <td>0.0</td>\n      <td>8.000000</td>\n      <td>8.875</td>\n    </tr>\n    <tr>\n      <th rowspan=\"2\" valign=\"top\">Manhattan</th>\n      <th>N</th>\n      <td>4176.0</td>\n      <td>2401.302921</td>\n      <td>1438.621328</td>\n      <td>0.0</td>\n      <td>1241.75</td>\n      <td>2280.0</td>\n      <td>3318.5</td>\n      <td>7883.0</td>\n      <td>4176.0</td>\n      <td>6.004750</td>\n      <td>...</td>\n      <td>0.0500</td>\n      <td>1.89</td>\n      <td>4176.0</td>\n      <td>2.542325</td>\n      <td>4.548396</td>\n      <td>0.0</td>\n      <td>0.0</td>\n      <td>0.0</td>\n      <td>2.916667</td>\n      <td>19.000</td>\n    </tr>\n    <tr>\n      <th>Y</th>\n      <td>167.0</td>\n      <td>2035.928144</td>\n      <td>1288.448276</td>\n      <td>319.0</td>\n      <td>985.50</td>\n      <td>1943.0</td>\n      <td>2644.0</td>\n      <td>5330.0</td>\n      <td>167.0</td>\n      <td>5.882236</td>\n      <td>...</td>\n      <td>0.2175</td>\n      <td>2.10</td>\n      <td>167.0</td>\n      <td>2.390719</td>\n      <td>3.779857</td>\n      <td>0.0</td>\n      <td>0.0</td>\n      <td>0.0</td>\n      <td>8.000000</td>\n      <td>8.875</td>\n    </tr>\n    <tr>\n      <th rowspan=\"2\" valign=\"top\">Queens</th>\n      <th>N</th>\n      <td>4176.0</td>\n      <td>308.899904</td>\n      <td>153.441165</td>\n      <td>0.0</td>\n      <td>197.00</td>\n      <td>308.0</td>\n      <td>409.0</td>\n      <td>831.0</td>\n      <td>4176.0</td>\n      <td>6.004750</td>\n      <td>...</td>\n      <td>0.0500</td>\n      <td>1.89</td>\n      <td>4176.0</td>\n      <td>2.542325</td>\n      <td>4.548396</td>\n      <td>0.0</td>\n      <td>0.0</td>\n      <td>0.0</td>\n      <td>2.916667</td>\n      <td>19.000</td>\n    </tr>\n    <tr>\n      <th>Y</th>\n      <td>167.0</td>\n      <td>320.730539</td>\n      <td>176.111425</td>\n      <td>44.0</td>\n      <td>189.00</td>\n      <td>293.0</td>\n      <td>444.5</td>\n      <td>784.0</td>\n      <td>167.0</td>\n      <td>5.882236</td>\n      <td>...</td>\n      <td>0.2175</td>\n      <td>2.10</td>\n      <td>167.0</td>\n      <td>2.390719</td>\n      <td>3.779857</td>\n      <td>0.0</td>\n      <td>0.0</td>\n      <td>0.0</td>\n      <td>8.000000</td>\n      <td>8.875</td>\n    </tr>\n    <tr>\n      <th rowspan=\"2\" valign=\"top\">Staten Island</th>\n      <th>N</th>\n      <td>4176.0</td>\n      <td>1.606082</td>\n      <td>1.637510</td>\n      <td>0.0</td>\n      <td>0.00</td>\n      <td>1.0</td>\n      <td>2.0</td>\n      <td>13.0</td>\n      <td>4176.0</td>\n      <td>6.004750</td>\n      <td>...</td>\n      <td>0.0500</td>\n      <td>1.89</td>\n      <td>4176.0</td>\n      <td>2.542325</td>\n      <td>4.548396</td>\n      <td>0.0</td>\n      <td>0.0</td>\n      <td>0.0</td>\n      <td>2.916667</td>\n      <td>19.000</td>\n    </tr>\n    <tr>\n      <th>Y</th>\n      <td>167.0</td>\n      <td>1.497006</td>\n      <td>1.714131</td>\n      <td>0.0</td>\n      <td>0.00</td>\n      <td>1.0</td>\n      <td>2.0</td>\n      <td>12.0</td>\n      <td>167.0</td>\n      <td>5.882236</td>\n      <td>...</td>\n      <td>0.2175</td>\n      <td>2.10</td>\n      <td>167.0</td>\n      <td>2.390719</td>\n      <td>3.779857</td>\n      <td>0.0</td>\n      <td>0.0</td>\n      <td>0.0</td>\n      <td>8.000000</td>\n      <td>8.875</td>\n    </tr>\n  </tbody>\n</table>\n<p>12 rows × 80 columns</p>\n</div>"
     },
     "execution_count": 22,
     "metadata": {},
     "output_type": "execute_result"
    }
   ],
   "source": [
    "taxi.groupby(['borough', 'hday']).describe()"
   ],
   "metadata": {
    "collapsed": false,
    "pycharm": {
     "name": "#%%\n"
    }
   }
  },
  {
   "cell_type": "code",
   "execution_count": 23,
   "outputs": [
    {
     "data": {
      "text/plain": "                        pickups\nborough       hday             \nBronx         N       50.771073\n              Y       48.065868\nBrooklyn      N      534.727969\n              Y      527.011976\nEWR           N        0.023467\n              Y        0.041916\nManhattan     N     2401.302921\n              Y     2035.928144\nQueens        N      308.899904\n              Y      320.730539\nStaten Island N        1.606082\n              Y        1.497006",
      "text/html": "<div>\n<style scoped>\n    .dataframe tbody tr th:only-of-type {\n        vertical-align: middle;\n    }\n\n    .dataframe tbody tr th {\n        vertical-align: top;\n    }\n\n    .dataframe thead th {\n        text-align: right;\n    }\n</style>\n<table border=\"1\" class=\"dataframe\">\n  <thead>\n    <tr style=\"text-align: right;\">\n      <th></th>\n      <th></th>\n      <th>pickups</th>\n    </tr>\n    <tr>\n      <th>borough</th>\n      <th>hday</th>\n      <th></th>\n    </tr>\n  </thead>\n  <tbody>\n    <tr>\n      <th rowspan=\"2\" valign=\"top\">Bronx</th>\n      <th>N</th>\n      <td>50.771073</td>\n    </tr>\n    <tr>\n      <th>Y</th>\n      <td>48.065868</td>\n    </tr>\n    <tr>\n      <th rowspan=\"2\" valign=\"top\">Brooklyn</th>\n      <th>N</th>\n      <td>534.727969</td>\n    </tr>\n    <tr>\n      <th>Y</th>\n      <td>527.011976</td>\n    </tr>\n    <tr>\n      <th rowspan=\"2\" valign=\"top\">EWR</th>\n      <th>N</th>\n      <td>0.023467</td>\n    </tr>\n    <tr>\n      <th>Y</th>\n      <td>0.041916</td>\n    </tr>\n    <tr>\n      <th rowspan=\"2\" valign=\"top\">Manhattan</th>\n      <th>N</th>\n      <td>2401.302921</td>\n    </tr>\n    <tr>\n      <th>Y</th>\n      <td>2035.928144</td>\n    </tr>\n    <tr>\n      <th rowspan=\"2\" valign=\"top\">Queens</th>\n      <th>N</th>\n      <td>308.899904</td>\n    </tr>\n    <tr>\n      <th>Y</th>\n      <td>320.730539</td>\n    </tr>\n    <tr>\n      <th rowspan=\"2\" valign=\"top\">Staten Island</th>\n      <th>N</th>\n      <td>1.606082</td>\n    </tr>\n    <tr>\n      <th>Y</th>\n      <td>1.497006</td>\n    </tr>\n  </tbody>\n</table>\n</div>"
     },
     "execution_count": 23,
     "metadata": {},
     "output_type": "execute_result"
    }
   ],
   "source": [
    "taxi.groupby(['borough', 'hday']).pickups.mean().to_frame()  # to_frame - превращает series в ДФ, в JN лучше выглядит в Pycharm одинаково"
   ],
   "metadata": {
    "collapsed": false,
    "pycharm": {
     "name": "#%%\n"
    }
   }
  },
  {
   "cell_type": "code",
   "execution_count": 24,
   "outputs": [
    {
     "data": {
      "text/plain": "borough        hday\nBronx          N         50.771073\n               Y         48.065868\nBrooklyn       N        534.727969\n               Y        527.011976\nEWR            N          0.023467\n               Y          0.041916\nManhattan      N       2401.302921\n               Y       2035.928144\nQueens         N        308.899904\n               Y        320.730539\nStaten Island  N          1.606082\n               Y          1.497006\nName: pickups, dtype: float64"
     },
     "execution_count": 24,
     "metadata": {},
     "output_type": "execute_result"
    }
   ],
   "source": [
    "taxi.groupby(['borough', 'hday']).pickups.mean()"
   ],
   "metadata": {
    "collapsed": false,
    "pycharm": {
     "name": "#%%\n"
    }
   }
  },
  {
   "cell_type": "code",
   "execution_count": 25,
   "outputs": [
    {
     "data": {
      "text/plain": "             pickup_dt pickup_month    borough  pickups hday  spd   vsb  temp  \\\n0  2015-01-01 01:00:00          Jan      Bronx      152    Y  5.0  10.0  30.0   \n1  2015-01-01 01:00:00          Jan   Brooklyn     1519    Y  5.0  10.0  30.0   \n2  2015-01-01 01:00:00          Jan        EWR        0    Y  5.0  10.0  30.0   \n3  2015-01-01 01:00:00          Jan  Manhattan     5258    Y  5.0  10.0  30.0   \n4  2015-01-01 01:00:00          Jan     Queens      405    Y  5.0  10.0  30.0   \n\n   dewp     slp  pcp_01  pcp_06  pcp_24   sd  \n0   7.0  1023.5     0.0     0.0     0.0  0.0  \n1   7.0  1023.5     0.0     0.0     0.0  0.0  \n2   7.0  1023.5     0.0     0.0     0.0  0.0  \n3   7.0  1023.5     0.0     0.0     0.0  0.0  \n4   7.0  1023.5     0.0     0.0     0.0  0.0  ",
      "text/html": "<div>\n<style scoped>\n    .dataframe tbody tr th:only-of-type {\n        vertical-align: middle;\n    }\n\n    .dataframe tbody tr th {\n        vertical-align: top;\n    }\n\n    .dataframe thead th {\n        text-align: right;\n    }\n</style>\n<table border=\"1\" class=\"dataframe\">\n  <thead>\n    <tr style=\"text-align: right;\">\n      <th></th>\n      <th>pickup_dt</th>\n      <th>pickup_month</th>\n      <th>borough</th>\n      <th>pickups</th>\n      <th>hday</th>\n      <th>spd</th>\n      <th>vsb</th>\n      <th>temp</th>\n      <th>dewp</th>\n      <th>slp</th>\n      <th>pcp_01</th>\n      <th>pcp_06</th>\n      <th>pcp_24</th>\n      <th>sd</th>\n    </tr>\n  </thead>\n  <tbody>\n    <tr>\n      <th>0</th>\n      <td>2015-01-01 01:00:00</td>\n      <td>Jan</td>\n      <td>Bronx</td>\n      <td>152</td>\n      <td>Y</td>\n      <td>5.0</td>\n      <td>10.0</td>\n      <td>30.0</td>\n      <td>7.0</td>\n      <td>1023.5</td>\n      <td>0.0</td>\n      <td>0.0</td>\n      <td>0.0</td>\n      <td>0.0</td>\n    </tr>\n    <tr>\n      <th>1</th>\n      <td>2015-01-01 01:00:00</td>\n      <td>Jan</td>\n      <td>Brooklyn</td>\n      <td>1519</td>\n      <td>Y</td>\n      <td>5.0</td>\n      <td>10.0</td>\n      <td>30.0</td>\n      <td>7.0</td>\n      <td>1023.5</td>\n      <td>0.0</td>\n      <td>0.0</td>\n      <td>0.0</td>\n      <td>0.0</td>\n    </tr>\n    <tr>\n      <th>2</th>\n      <td>2015-01-01 01:00:00</td>\n      <td>Jan</td>\n      <td>EWR</td>\n      <td>0</td>\n      <td>Y</td>\n      <td>5.0</td>\n      <td>10.0</td>\n      <td>30.0</td>\n      <td>7.0</td>\n      <td>1023.5</td>\n      <td>0.0</td>\n      <td>0.0</td>\n      <td>0.0</td>\n      <td>0.0</td>\n    </tr>\n    <tr>\n      <th>3</th>\n      <td>2015-01-01 01:00:00</td>\n      <td>Jan</td>\n      <td>Manhattan</td>\n      <td>5258</td>\n      <td>Y</td>\n      <td>5.0</td>\n      <td>10.0</td>\n      <td>30.0</td>\n      <td>7.0</td>\n      <td>1023.5</td>\n      <td>0.0</td>\n      <td>0.0</td>\n      <td>0.0</td>\n      <td>0.0</td>\n    </tr>\n    <tr>\n      <th>4</th>\n      <td>2015-01-01 01:00:00</td>\n      <td>Jan</td>\n      <td>Queens</td>\n      <td>405</td>\n      <td>Y</td>\n      <td>5.0</td>\n      <td>10.0</td>\n      <td>30.0</td>\n      <td>7.0</td>\n      <td>1023.5</td>\n      <td>0.0</td>\n      <td>0.0</td>\n      <td>0.0</td>\n      <td>0.0</td>\n    </tr>\n  </tbody>\n</table>\n</div>"
     },
     "execution_count": 25,
     "metadata": {},
     "output_type": "execute_result"
    }
   ],
   "source": [
    "taxi.head()"
   ],
   "metadata": {
    "collapsed": false,
    "pycharm": {
     "name": "#%%\n"
    }
   }
  },
  {
   "cell_type": "code",
   "execution_count": 26,
   "outputs": [
    {
     "data": {
      "text/plain": "          borough pickup_month  pickups\n21      Manhattan          Jun  1995388\n23      Manhattan          May  1888800\n19      Manhattan          Feb  1718571\n22      Manhattan          Mar  1661261\n18      Manhattan          Apr  1648278\n20      Manhattan          Jan  1455543\n9        Brooklyn          Jun   482466\n11       Brooklyn          May   476087\n6        Brooklyn          Apr   378095\n10       Brooklyn          Mar   346726\n7        Brooklyn          Feb   328650\n8        Brooklyn          Jan   309011\n27         Queens          Jun   286311\n29         Queens          May   275893\n28         Queens          Mar   219561\n24         Queens          Apr   216857\n25         Queens          Feb   185695\n26         Queens          Jan   159211\n5           Bronx          May    53037\n3           Bronx          Jun    49006\n0           Bronx          Apr    34617\n4           Bronx          Mar    32232\n1           Bronx          Feb    28694\n2           Bronx          Jan    22461\n33  Staten Island          Jun     1673\n35  Staten Island          May     1517\n30  Staten Island          Apr     1068\n34  Staten Island          Mar      975\n31  Staten Island          Feb      903\n32  Staten Island          Jan      821\n15            EWR          Jun       29\n17            EWR          May       27\n16            EWR          Mar       14\n13            EWR          Feb       14\n14            EWR          Jan       11\n12            EWR          Apr       10",
      "text/html": "<div>\n<style scoped>\n    .dataframe tbody tr th:only-of-type {\n        vertical-align: middle;\n    }\n\n    .dataframe tbody tr th {\n        vertical-align: top;\n    }\n\n    .dataframe thead th {\n        text-align: right;\n    }\n</style>\n<table border=\"1\" class=\"dataframe\">\n  <thead>\n    <tr style=\"text-align: right;\">\n      <th></th>\n      <th>borough</th>\n      <th>pickup_month</th>\n      <th>pickups</th>\n    </tr>\n  </thead>\n  <tbody>\n    <tr>\n      <th>21</th>\n      <td>Manhattan</td>\n      <td>Jun</td>\n      <td>1995388</td>\n    </tr>\n    <tr>\n      <th>23</th>\n      <td>Manhattan</td>\n      <td>May</td>\n      <td>1888800</td>\n    </tr>\n    <tr>\n      <th>19</th>\n      <td>Manhattan</td>\n      <td>Feb</td>\n      <td>1718571</td>\n    </tr>\n    <tr>\n      <th>22</th>\n      <td>Manhattan</td>\n      <td>Mar</td>\n      <td>1661261</td>\n    </tr>\n    <tr>\n      <th>18</th>\n      <td>Manhattan</td>\n      <td>Apr</td>\n      <td>1648278</td>\n    </tr>\n    <tr>\n      <th>20</th>\n      <td>Manhattan</td>\n      <td>Jan</td>\n      <td>1455543</td>\n    </tr>\n    <tr>\n      <th>9</th>\n      <td>Brooklyn</td>\n      <td>Jun</td>\n      <td>482466</td>\n    </tr>\n    <tr>\n      <th>11</th>\n      <td>Brooklyn</td>\n      <td>May</td>\n      <td>476087</td>\n    </tr>\n    <tr>\n      <th>6</th>\n      <td>Brooklyn</td>\n      <td>Apr</td>\n      <td>378095</td>\n    </tr>\n    <tr>\n      <th>10</th>\n      <td>Brooklyn</td>\n      <td>Mar</td>\n      <td>346726</td>\n    </tr>\n    <tr>\n      <th>7</th>\n      <td>Brooklyn</td>\n      <td>Feb</td>\n      <td>328650</td>\n    </tr>\n    <tr>\n      <th>8</th>\n      <td>Brooklyn</td>\n      <td>Jan</td>\n      <td>309011</td>\n    </tr>\n    <tr>\n      <th>27</th>\n      <td>Queens</td>\n      <td>Jun</td>\n      <td>286311</td>\n    </tr>\n    <tr>\n      <th>29</th>\n      <td>Queens</td>\n      <td>May</td>\n      <td>275893</td>\n    </tr>\n    <tr>\n      <th>28</th>\n      <td>Queens</td>\n      <td>Mar</td>\n      <td>219561</td>\n    </tr>\n    <tr>\n      <th>24</th>\n      <td>Queens</td>\n      <td>Apr</td>\n      <td>216857</td>\n    </tr>\n    <tr>\n      <th>25</th>\n      <td>Queens</td>\n      <td>Feb</td>\n      <td>185695</td>\n    </tr>\n    <tr>\n      <th>26</th>\n      <td>Queens</td>\n      <td>Jan</td>\n      <td>159211</td>\n    </tr>\n    <tr>\n      <th>5</th>\n      <td>Bronx</td>\n      <td>May</td>\n      <td>53037</td>\n    </tr>\n    <tr>\n      <th>3</th>\n      <td>Bronx</td>\n      <td>Jun</td>\n      <td>49006</td>\n    </tr>\n    <tr>\n      <th>0</th>\n      <td>Bronx</td>\n      <td>Apr</td>\n      <td>34617</td>\n    </tr>\n    <tr>\n      <th>4</th>\n      <td>Bronx</td>\n      <td>Mar</td>\n      <td>32232</td>\n    </tr>\n    <tr>\n      <th>1</th>\n      <td>Bronx</td>\n      <td>Feb</td>\n      <td>28694</td>\n    </tr>\n    <tr>\n      <th>2</th>\n      <td>Bronx</td>\n      <td>Jan</td>\n      <td>22461</td>\n    </tr>\n    <tr>\n      <th>33</th>\n      <td>Staten Island</td>\n      <td>Jun</td>\n      <td>1673</td>\n    </tr>\n    <tr>\n      <th>35</th>\n      <td>Staten Island</td>\n      <td>May</td>\n      <td>1517</td>\n    </tr>\n    <tr>\n      <th>30</th>\n      <td>Staten Island</td>\n      <td>Apr</td>\n      <td>1068</td>\n    </tr>\n    <tr>\n      <th>34</th>\n      <td>Staten Island</td>\n      <td>Mar</td>\n      <td>975</td>\n    </tr>\n    <tr>\n      <th>31</th>\n      <td>Staten Island</td>\n      <td>Feb</td>\n      <td>903</td>\n    </tr>\n    <tr>\n      <th>32</th>\n      <td>Staten Island</td>\n      <td>Jan</td>\n      <td>821</td>\n    </tr>\n    <tr>\n      <th>15</th>\n      <td>EWR</td>\n      <td>Jun</td>\n      <td>29</td>\n    </tr>\n    <tr>\n      <th>17</th>\n      <td>EWR</td>\n      <td>May</td>\n      <td>27</td>\n    </tr>\n    <tr>\n      <th>16</th>\n      <td>EWR</td>\n      <td>Mar</td>\n      <td>14</td>\n    </tr>\n    <tr>\n      <th>13</th>\n      <td>EWR</td>\n      <td>Feb</td>\n      <td>14</td>\n    </tr>\n    <tr>\n      <th>14</th>\n      <td>EWR</td>\n      <td>Jan</td>\n      <td>11</td>\n    </tr>\n    <tr>\n      <th>12</th>\n      <td>EWR</td>\n      <td>Apr</td>\n      <td>10</td>\n    </tr>\n  </tbody>\n</table>\n</div>"
     },
     "execution_count": 26,
     "metadata": {},
     "output_type": "execute_result"
    }
   ],
   "source": [
    "(taxi.groupby(['borough', 'pickup_month'], as_index=False)\n",
    "    .agg({'pickups': 'sum'})\n",
    "    .sort_values(by='pickups', ascending=False))"
   ],
   "metadata": {
    "collapsed": false,
    "pycharm": {
     "name": "#%%\n"
    }
   }
  },
  {
   "cell_type": "code",
   "execution_count": 27,
   "outputs": [],
   "source": [
    "pickups_by_mon_bor = (taxi.groupby(['borough', 'pickup_month'], as_index=False)\n",
    "    .agg({'pickups': 'sum'})\n",
    "    .sort_values(by='pickups', ascending=False))"
   ],
   "metadata": {
    "collapsed": false,
    "pycharm": {
     "name": "#%%\n"
    }
   }
  },
  {
   "cell_type": "code",
   "execution_count": 28,
   "outputs": [
    {
     "data": {
      "text/plain": "pandas.core.frame.DataFrame"
     },
     "execution_count": 28,
     "metadata": {},
     "output_type": "execute_result"
    }
   ],
   "source": [
    "type(pickups_by_mon_bor)"
   ],
   "metadata": {
    "collapsed": false,
    "pycharm": {
     "name": "#%%\n"
    }
   }
  },
  {
   "cell_type": "code",
   "execution_count": 29,
   "outputs": [],
   "source": [
    "def temp_to_celsius(f):\n",
    "    c = ((f - 32) * 5) / 9\n",
    "    return c"
   ],
   "metadata": {
    "collapsed": false,
    "pycharm": {
     "name": "#%%\n"
    }
   }
  },
  {
   "cell_type": "code",
   "execution_count": 30,
   "outputs": [
    {
     "name": "stdout",
     "output_type": "stream",
     "text": [
      "37.78\n"
     ]
    }
   ],
   "source": [
    "print(round(temp_to_celsius(100), 2))"
   ],
   "metadata": {
    "collapsed": false,
    "pycharm": {
     "name": "#%%\n"
    }
   }
  },
  {
   "cell_type": "code",
   "execution_count": 31,
   "outputs": [
    {
     "data": {
      "text/plain": "0    30.0\n1    30.0\n2    30.0\n3    30.0\n4    30.0\nName: temp, dtype: float64"
     },
     "execution_count": 31,
     "metadata": {},
     "output_type": "execute_result"
    }
   ],
   "source": [
    "taxi.temp[:5]"
   ],
   "metadata": {
    "collapsed": false,
    "pycharm": {
     "name": "#%%\n"
    }
   }
  },
  {
   "cell_type": "code",
   "execution_count": 32,
   "outputs": [
    {
     "data": {
      "text/plain": "0    30.0\n1    30.0\n2    30.0\n3    30.0\n4    30.0\nName: temp, dtype: float64"
     },
     "execution_count": 32,
     "metadata": {},
     "output_type": "execute_result"
    }
   ],
   "source": [
    "taxi['temp'][:5]"
   ],
   "metadata": {
    "collapsed": false,
    "pycharm": {
     "name": "#%%\n"
    }
   }
  },
  {
   "cell_type": "code",
   "execution_count": 33,
   "outputs": [],
   "source": [
    "taxi['temp_C'] = temp_to_celsius(taxi['temp'])"
   ],
   "metadata": {
    "collapsed": false,
    "pycharm": {
     "name": "#%%\n"
    }
   }
  },
  {
   "cell_type": "code",
   "execution_count": 34,
   "outputs": [
    {
     "data": {
      "text/plain": "0   -1.111111\n1   -1.111111\n2   -1.111111\n3   -1.111111\n4   -1.111111\nName: temp_C, dtype: float64"
     },
     "execution_count": 34,
     "metadata": {},
     "output_type": "execute_result"
    }
   ],
   "source": [
    "taxi['temp_C'][:5]"
   ],
   "metadata": {
    "collapsed": false,
    "pycharm": {
     "name": "#%%\n"
    }
   }
  },
  {
   "cell_type": "code",
   "execution_count": 34,
   "outputs": [],
   "source": [],
   "metadata": {
    "collapsed": false,
    "pycharm": {
     "name": "#%%\n"
    }
   }
  }
 ],
 "metadata": {
  "kernelspec": {
   "display_name": "Python 3",
   "language": "python",
   "name": "python3"
  },
  "language_info": {
   "codemirror_mode": {
    "name": "ipython",
    "version": 2
   },
   "file_extension": ".py",
   "mimetype": "text/x-python",
   "name": "python",
   "nbconvert_exporter": "python",
   "pygments_lexer": "ipython2",
   "version": "2.7.6"
  }
 },
 "nbformat": 4,
 "nbformat_minor": 0
}