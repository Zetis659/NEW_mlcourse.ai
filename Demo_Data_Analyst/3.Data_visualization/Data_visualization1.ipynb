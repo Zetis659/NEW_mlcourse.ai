{
 "cells": [
  {
   "cell_type": "markdown",
   "source": [
    "## Задача: Найти лояльных пользователей"
   ],
   "metadata": {
    "collapsed": false,
    "pycharm": {
     "name": "#%% md\n"
    }
   }
  },
  {
   "cell_type": "markdown",
   "source": [
    "### 1. Импорт необходимых библиотек"
   ],
   "metadata": {
    "collapsed": false,
    "pycharm": {
     "name": "#%% md\n"
    }
   }
  },
  {
   "cell_type": "code",
   "execution_count": 94,
   "metadata": {
    "collapsed": true
   },
   "outputs": [],
   "source": [
    "import pandas as pd\n",
    "import seaborn as sns\n",
    "import matplotlib.pyplot as plt"
   ]
  },
  {
   "cell_type": "markdown",
   "source": [
    "### 2. Загрузка датасета"
   ],
   "metadata": {
    "collapsed": false,
    "pycharm": {
     "name": "#%% md\n"
    }
   }
  },
  {
   "cell_type": "code",
   "execution_count": 2,
   "metadata": {
    "pycharm": {
     "name": "#%%\n"
    }
   },
   "outputs": [],
   "source": [
    "df = pd.read_csv('lesson_3_data__1_.csv', encoding='windows-1251')"
   ]
  },
  {
   "cell_type": "code",
   "execution_count": 3,
   "metadata": {
    "pycharm": {
     "name": "#%%\n"
    }
   },
   "outputs": [
    {
     "data": {
      "text/plain": "   Unnamed: 0                  tk  pl         dia        hs         tc  \\\n0        1242  120071109002055793   1  2007/11/09  0.505729  110000761   \n1        1243  120070601004053633   1  2007/06/01  0.588519  110000761   \n2        1244  120070928004076410   1  2007/09/28  0.785498   28491841   \n3        1245  120070616003074261   1  2007/06/16  0.550961   95931501   \n4        1246  120070519001018477   1  2007/05/19  0.804954   93265591   \n\n        cta  id_art  id_subsubfam   id_subfam  ...   id_famn  id_seccion  \\\n0  11000076   21895  101070640100  1010706401  ...  10107064       10107   \n1  11000076   21816  101070640100  1010706401  ...  10107064       10107   \n2   2849184  562840  101070640100  1010706401  ...  10107064       10107   \n3   9593150   28914  101070640100  1010706401  ...  10107064       10107   \n4   9326559  159867  101070640100  1010706401  ...  10107064       10107   \n\n   id_subagr  id_agr   vta  uni  id_artn                              art_sp  \\\n0        101       1  0.68  1.0    21895  MARAVILLA        500 G Store_Brand   \n1        101       1  0.38  1.0    21816  FIDEO CABELLIN   500 G Store_Brand   \n2        101       1  1.55  2.0   562840        SPAGUETTI Nє 5 500 G Brand_1   \n3        101       1  1.03  2.0    28914       FIDEO FIDEUБ      500 Brand_7   \n4        101       1  1.09  1.0   159867      MACARRONES  GRATINAR 5 Brand_2   \n\n                 fam_sp fam_en  \n0  PASTA ALIMENTICIA SE  pasta  \n1  PASTA ALIMENTICIA SE  pasta  \n2  PASTA ALIMENTICIA SE  pasta  \n3  PASTA ALIMENTICIA SE  pasta  \n4  PASTA ALIMENTICIA SE  pasta  \n\n[5 rows x 21 columns]",
      "text/html": "<div>\n<style scoped>\n    .dataframe tbody tr th:only-of-type {\n        vertical-align: middle;\n    }\n\n    .dataframe tbody tr th {\n        vertical-align: top;\n    }\n\n    .dataframe thead th {\n        text-align: right;\n    }\n</style>\n<table border=\"1\" class=\"dataframe\">\n  <thead>\n    <tr style=\"text-align: right;\">\n      <th></th>\n      <th>Unnamed: 0</th>\n      <th>tk</th>\n      <th>pl</th>\n      <th>dia</th>\n      <th>hs</th>\n      <th>tc</th>\n      <th>cta</th>\n      <th>id_art</th>\n      <th>id_subsubfam</th>\n      <th>id_subfam</th>\n      <th>...</th>\n      <th>id_famn</th>\n      <th>id_seccion</th>\n      <th>id_subagr</th>\n      <th>id_agr</th>\n      <th>vta</th>\n      <th>uni</th>\n      <th>id_artn</th>\n      <th>art_sp</th>\n      <th>fam_sp</th>\n      <th>fam_en</th>\n    </tr>\n  </thead>\n  <tbody>\n    <tr>\n      <th>0</th>\n      <td>1242</td>\n      <td>120071109002055793</td>\n      <td>1</td>\n      <td>2007/11/09</td>\n      <td>0.505729</td>\n      <td>110000761</td>\n      <td>11000076</td>\n      <td>21895</td>\n      <td>101070640100</td>\n      <td>1010706401</td>\n      <td>...</td>\n      <td>10107064</td>\n      <td>10107</td>\n      <td>101</td>\n      <td>1</td>\n      <td>0.68</td>\n      <td>1.0</td>\n      <td>21895</td>\n      <td>MARAVILLA        500 G Store_Brand</td>\n      <td>PASTA ALIMENTICIA SE</td>\n      <td>pasta</td>\n    </tr>\n    <tr>\n      <th>1</th>\n      <td>1243</td>\n      <td>120070601004053633</td>\n      <td>1</td>\n      <td>2007/06/01</td>\n      <td>0.588519</td>\n      <td>110000761</td>\n      <td>11000076</td>\n      <td>21816</td>\n      <td>101070640100</td>\n      <td>1010706401</td>\n      <td>...</td>\n      <td>10107064</td>\n      <td>10107</td>\n      <td>101</td>\n      <td>1</td>\n      <td>0.38</td>\n      <td>1.0</td>\n      <td>21816</td>\n      <td>FIDEO CABELLIN   500 G Store_Brand</td>\n      <td>PASTA ALIMENTICIA SE</td>\n      <td>pasta</td>\n    </tr>\n    <tr>\n      <th>2</th>\n      <td>1244</td>\n      <td>120070928004076410</td>\n      <td>1</td>\n      <td>2007/09/28</td>\n      <td>0.785498</td>\n      <td>28491841</td>\n      <td>2849184</td>\n      <td>562840</td>\n      <td>101070640100</td>\n      <td>1010706401</td>\n      <td>...</td>\n      <td>10107064</td>\n      <td>10107</td>\n      <td>101</td>\n      <td>1</td>\n      <td>1.55</td>\n      <td>2.0</td>\n      <td>562840</td>\n      <td>SPAGUETTI Nє 5 500 G Brand_1</td>\n      <td>PASTA ALIMENTICIA SE</td>\n      <td>pasta</td>\n    </tr>\n    <tr>\n      <th>3</th>\n      <td>1245</td>\n      <td>120070616003074261</td>\n      <td>1</td>\n      <td>2007/06/16</td>\n      <td>0.550961</td>\n      <td>95931501</td>\n      <td>9593150</td>\n      <td>28914</td>\n      <td>101070640100</td>\n      <td>1010706401</td>\n      <td>...</td>\n      <td>10107064</td>\n      <td>10107</td>\n      <td>101</td>\n      <td>1</td>\n      <td>1.03</td>\n      <td>2.0</td>\n      <td>28914</td>\n      <td>FIDEO FIDEUБ      500 Brand_7</td>\n      <td>PASTA ALIMENTICIA SE</td>\n      <td>pasta</td>\n    </tr>\n    <tr>\n      <th>4</th>\n      <td>1246</td>\n      <td>120070519001018477</td>\n      <td>1</td>\n      <td>2007/05/19</td>\n      <td>0.804954</td>\n      <td>93265591</td>\n      <td>9326559</td>\n      <td>159867</td>\n      <td>101070640100</td>\n      <td>1010706401</td>\n      <td>...</td>\n      <td>10107064</td>\n      <td>10107</td>\n      <td>101</td>\n      <td>1</td>\n      <td>1.09</td>\n      <td>1.0</td>\n      <td>159867</td>\n      <td>MACARRONES  GRATINAR 5 Brand_2</td>\n      <td>PASTA ALIMENTICIA SE</td>\n      <td>pasta</td>\n    </tr>\n  </tbody>\n</table>\n<p>5 rows × 21 columns</p>\n</div>"
     },
     "execution_count": 3,
     "metadata": {},
     "output_type": "execute_result"
    }
   ],
   "source": [
    "df.head()"
   ]
  },
  {
   "cell_type": "code",
   "execution_count": 89,
   "outputs": [
    {
     "data": {
      "text/plain": "(48129, 21)"
     },
     "execution_count": 89,
     "metadata": {},
     "output_type": "execute_result"
    }
   ],
   "source": [
    "df.shape"
   ],
   "metadata": {
    "collapsed": false,
    "pycharm": {
     "name": "#%%\n"
    }
   }
  },
  {
   "cell_type": "code",
   "execution_count": 4,
   "metadata": {
    "pycharm": {
     "name": "#%%\n"
    }
   },
   "outputs": [],
   "source": [
    "user_df = df[['tc', 'art_sp']]"
   ]
  },
  {
   "cell_type": "code",
   "execution_count": 88,
   "metadata": {
    "pycharm": {
     "name": "#%%\n"
    }
   },
   "outputs": [
    {
     "data": {
      "text/plain": "     user_id                          brand_info   brand_name\n0  110000761  MARAVILLA        500 G Store_Brand  Store_Brand\n1  110000761  FIDEO CABELLIN   500 G Store_Brand  Store_Brand\n2   28491841        SPAGUETTI Nє 5 500 G Brand_1      Brand_1\n3   95931501       FIDEO FIDEUБ      500 Brand_7      Brand_7\n4   93265591      MACARRONES  GRATINAR 5 Brand_2      Brand_2",
      "text/html": "<div>\n<style scoped>\n    .dataframe tbody tr th:only-of-type {\n        vertical-align: middle;\n    }\n\n    .dataframe tbody tr th {\n        vertical-align: top;\n    }\n\n    .dataframe thead th {\n        text-align: right;\n    }\n</style>\n<table border=\"1\" class=\"dataframe\">\n  <thead>\n    <tr style=\"text-align: right;\">\n      <th></th>\n      <th>user_id</th>\n      <th>brand_info</th>\n      <th>brand_name</th>\n    </tr>\n  </thead>\n  <tbody>\n    <tr>\n      <th>0</th>\n      <td>110000761</td>\n      <td>MARAVILLA        500 G Store_Brand</td>\n      <td>Store_Brand</td>\n    </tr>\n    <tr>\n      <th>1</th>\n      <td>110000761</td>\n      <td>FIDEO CABELLIN   500 G Store_Brand</td>\n      <td>Store_Brand</td>\n    </tr>\n    <tr>\n      <th>2</th>\n      <td>28491841</td>\n      <td>SPAGUETTI Nє 5 500 G Brand_1</td>\n      <td>Brand_1</td>\n    </tr>\n    <tr>\n      <th>3</th>\n      <td>95931501</td>\n      <td>FIDEO FIDEUБ      500 Brand_7</td>\n      <td>Brand_7</td>\n    </tr>\n    <tr>\n      <th>4</th>\n      <td>93265591</td>\n      <td>MACARRONES  GRATINAR 5 Brand_2</td>\n      <td>Brand_2</td>\n    </tr>\n  </tbody>\n</table>\n</div>"
     },
     "execution_count": 88,
     "metadata": {},
     "output_type": "execute_result"
    }
   ],
   "source": [
    "user_df.head()"
   ]
  },
  {
   "cell_type": "code",
   "execution_count": 7,
   "metadata": {
    "pycharm": {
     "name": "#%%\n"
    }
   },
   "outputs": [],
   "source": [
    "user_df = user_df.rename(columns={'tc': 'user_id', 'art_sp' :'brand_info'})"
   ]
  },
  {
   "cell_type": "code",
   "execution_count": 8,
   "metadata": {
    "pycharm": {
     "name": "#%%\n"
    }
   },
   "outputs": [
    {
     "data": {
      "text/plain": "     user_id                          brand_info\n0  110000761  MARAVILLA        500 G Store_Brand\n1  110000761  FIDEO CABELLIN   500 G Store_Brand\n2   28491841        SPAGUETTI Nє 5 500 G Brand_1\n3   95931501       FIDEO FIDEUБ      500 Brand_7\n4   93265591      MACARRONES  GRATINAR 5 Brand_2",
      "text/html": "<div>\n<style scoped>\n    .dataframe tbody tr th:only-of-type {\n        vertical-align: middle;\n    }\n\n    .dataframe tbody tr th {\n        vertical-align: top;\n    }\n\n    .dataframe thead th {\n        text-align: right;\n    }\n</style>\n<table border=\"1\" class=\"dataframe\">\n  <thead>\n    <tr style=\"text-align: right;\">\n      <th></th>\n      <th>user_id</th>\n      <th>brand_info</th>\n    </tr>\n  </thead>\n  <tbody>\n    <tr>\n      <th>0</th>\n      <td>110000761</td>\n      <td>MARAVILLA        500 G Store_Brand</td>\n    </tr>\n    <tr>\n      <th>1</th>\n      <td>110000761</td>\n      <td>FIDEO CABELLIN   500 G Store_Brand</td>\n    </tr>\n    <tr>\n      <th>2</th>\n      <td>28491841</td>\n      <td>SPAGUETTI Nє 5 500 G Brand_1</td>\n    </tr>\n    <tr>\n      <th>3</th>\n      <td>95931501</td>\n      <td>FIDEO FIDEUБ      500 Brand_7</td>\n    </tr>\n    <tr>\n      <th>4</th>\n      <td>93265591</td>\n      <td>MACARRONES  GRATINAR 5 Brand_2</td>\n    </tr>\n  </tbody>\n</table>\n</div>"
     },
     "execution_count": 8,
     "metadata": {},
     "output_type": "execute_result"
    }
   ],
   "source": [
    "user_df.head()"
   ]
  },
  {
   "cell_type": "markdown",
   "source": [
    "#### 3. Preprocessing (Предварительная обработка)"
   ],
   "metadata": {
    "collapsed": false
   }
  },
  {
   "cell_type": "code",
   "execution_count": 9,
   "metadata": {
    "pycharm": {
     "name": "#%%\n"
    }
   },
   "outputs": [],
   "source": [
    "brand_name = 'MARAVILLA 500 G Store_Brand'"
   ]
  },
  {
   "cell_type": "code",
   "execution_count": 10,
   "outputs": [
    {
     "data": {
      "text/plain": "'Store_Brand'"
     },
     "execution_count": 10,
     "metadata": {},
     "output_type": "execute_result"
    }
   ],
   "source": [
    "brand_name.split(' ')[-1]"
   ],
   "metadata": {
    "collapsed": false,
    "pycharm": {
     "name": "#%%\n"
    }
   }
  },
  {
   "cell_type": "code",
   "execution_count": 11,
   "outputs": [],
   "source": [
    "def split_brand(brand_name_data):\n",
    "    return brand_name_data.split(' ')[-1]\n",
    "#  функция возвращает последний элемент из brand_name"
   ],
   "metadata": {
    "collapsed": false,
    "pycharm": {
     "name": "#%%\n"
    }
   }
  },
  {
   "cell_type": "code",
   "execution_count": 12,
   "outputs": [],
   "source": [
    "# user_df.brand_info.apply(lambda x: x.split(' ')[-1])\n",
    "# более компактный способ получить имя бренда"
   ],
   "metadata": {
    "collapsed": false,
    "pycharm": {
     "name": "#%%\n"
    }
   }
  },
  {
   "cell_type": "code",
   "execution_count": 13,
   "outputs": [
    {
     "data": {
      "text/plain": "0        Store_Brand\n1        Store_Brand\n2            Brand_1\n3            Brand_7\n4            Brand_2\n            ...     \n48124        Brand_4\n48125        Brand_4\n48126    Store_Brand\n48127    Store_Brand\n48128    Store_Brand\nName: brand_info, Length: 48129, dtype: object"
     },
     "execution_count": 13,
     "metadata": {},
     "output_type": "execute_result"
    }
   ],
   "source": [
    "user_df.brand_info.apply(split_brand)"
   ],
   "metadata": {
    "collapsed": false,
    "pycharm": {
     "name": "#%%\n"
    }
   }
  },
  {
   "cell_type": "code",
   "execution_count": 14,
   "outputs": [],
   "source": [
    "user_df['brand_name'] = user_df.brand_info.apply(split_brand)"
   ],
   "metadata": {
    "collapsed": false,
    "pycharm": {
     "name": "#%%\n"
    }
   }
  },
  {
   "cell_type": "code",
   "execution_count": 15,
   "outputs": [
    {
     "data": {
      "text/plain": "     user_id                          brand_info   brand_name\n0  110000761  MARAVILLA        500 G Store_Brand  Store_Brand\n1  110000761  FIDEO CABELLIN   500 G Store_Brand  Store_Brand\n2   28491841        SPAGUETTI Nє 5 500 G Brand_1      Brand_1\n3   95931501       FIDEO FIDEUБ      500 Brand_7      Brand_7\n4   93265591      MACARRONES  GRATINAR 5 Brand_2      Brand_2",
      "text/html": "<div>\n<style scoped>\n    .dataframe tbody tr th:only-of-type {\n        vertical-align: middle;\n    }\n\n    .dataframe tbody tr th {\n        vertical-align: top;\n    }\n\n    .dataframe thead th {\n        text-align: right;\n    }\n</style>\n<table border=\"1\" class=\"dataframe\">\n  <thead>\n    <tr style=\"text-align: right;\">\n      <th></th>\n      <th>user_id</th>\n      <th>brand_info</th>\n      <th>brand_name</th>\n    </tr>\n  </thead>\n  <tbody>\n    <tr>\n      <th>0</th>\n      <td>110000761</td>\n      <td>MARAVILLA        500 G Store_Brand</td>\n      <td>Store_Brand</td>\n    </tr>\n    <tr>\n      <th>1</th>\n      <td>110000761</td>\n      <td>FIDEO CABELLIN   500 G Store_Brand</td>\n      <td>Store_Brand</td>\n    </tr>\n    <tr>\n      <th>2</th>\n      <td>28491841</td>\n      <td>SPAGUETTI Nє 5 500 G Brand_1</td>\n      <td>Brand_1</td>\n    </tr>\n    <tr>\n      <th>3</th>\n      <td>95931501</td>\n      <td>FIDEO FIDEUБ      500 Brand_7</td>\n      <td>Brand_7</td>\n    </tr>\n    <tr>\n      <th>4</th>\n      <td>93265591</td>\n      <td>MACARRONES  GRATINAR 5 Brand_2</td>\n      <td>Brand_2</td>\n    </tr>\n  </tbody>\n</table>\n</div>"
     },
     "execution_count": 15,
     "metadata": {},
     "output_type": "execute_result"
    }
   ],
   "source": [
    "user_df.head()"
   ],
   "metadata": {
    "collapsed": false,
    "pycharm": {
     "name": "#%%\n"
    }
   }
  },
  {
   "cell_type": "markdown",
   "source": [
    "### 4. Решение аналитической задачи\n",
    "**Гипотеза:** В данных о покупках, есть ***лояльные*** пользователи, то есть человек скорее покупает один и тот же бренд, а не каждый раз разный.\n",
    "**Суть:** Тем пользователям, которые демонстрируют ***лояльность*** можно выдать **\"карту золотого покупателя\"**"
   ],
   "metadata": {
    "collapsed": false,
    "pycharm": {
     "name": "#%% md\n"
    }
   }
  },
  {
   "cell_type": "markdown",
   "source": [
    "### Разведывательный анализ данных"
   ],
   "metadata": {
    "collapsed": false,
    "pycharm": {
     "name": "#%% md\n"
    }
   }
  },
  {
   "cell_type": "code",
   "execution_count": 31,
   "outputs": [],
   "source": [
    "user_purchases = (user_df.groupby('user_id', as_index=False)\n",
    "                  .agg({'brand_name': 'count'})\n",
    "                  .rename(columns={'brand_name': 'purchases'})\n",
    "                  .query('purchases >= 5'))"
   ],
   "metadata": {
    "collapsed": false,
    "pycharm": {
     "name": "#%%\n"
    }
   }
  },
  {
   "cell_type": "code",
   "execution_count": 33,
   "outputs": [
    {
     "data": {
      "text/plain": "    user_id  purchases\n1      1031          6\n2      4241          5\n11    25971          7\n14    40911         27\n16    45181          5",
      "text/html": "<div>\n<style scoped>\n    .dataframe tbody tr th:only-of-type {\n        vertical-align: middle;\n    }\n\n    .dataframe tbody tr th {\n        vertical-align: top;\n    }\n\n    .dataframe thead th {\n        text-align: right;\n    }\n</style>\n<table border=\"1\" class=\"dataframe\">\n  <thead>\n    <tr style=\"text-align: right;\">\n      <th></th>\n      <th>user_id</th>\n      <th>purchases</th>\n    </tr>\n  </thead>\n  <tbody>\n    <tr>\n      <th>1</th>\n      <td>1031</td>\n      <td>6</td>\n    </tr>\n    <tr>\n      <th>2</th>\n      <td>4241</td>\n      <td>5</td>\n    </tr>\n    <tr>\n      <th>11</th>\n      <td>25971</td>\n      <td>7</td>\n    </tr>\n    <tr>\n      <th>14</th>\n      <td>40911</td>\n      <td>27</td>\n    </tr>\n    <tr>\n      <th>16</th>\n      <td>45181</td>\n      <td>5</td>\n    </tr>\n  </tbody>\n</table>\n</div>"
     },
     "execution_count": 33,
     "metadata": {},
     "output_type": "execute_result"
    }
   ],
   "source": [
    "user_purchases.head()  # Число покупок, который совершил пользователь, если количество покупок >= 5"
   ],
   "metadata": {
    "collapsed": false,
    "pycharm": {
     "name": "#%%\n"
    }
   }
  },
  {
   "cell_type": "code",
   "execution_count": 34,
   "outputs": [
    {
     "data": {
      "text/plain": "count    3383.000000\nmean        9.320130\nstd         5.623993\nmin         5.000000\n25%         6.000000\n50%         7.000000\n75%        11.000000\nmax        60.000000\nName: purchases, dtype: float64"
     },
     "execution_count": 34,
     "metadata": {},
     "output_type": "execute_result"
    }
   ],
   "source": [
    "user_purchases.purchases.describe()"
   ],
   "metadata": {
    "collapsed": false,
    "pycharm": {
     "name": "#%%\n"
    }
   }
  },
  {
   "cell_type": "markdown",
   "source": [
    "#### Найти любимый бренд для каждого пользователя"
   ],
   "metadata": {
    "collapsed": false,
    "pycharm": {
     "name": "#%% md\n"
    }
   }
  },
  {
   "cell_type": "code",
   "execution_count": 49,
   "outputs": [],
   "source": [
    "lovely_brand_purchases_df = (user_df.groupby(['user_id', 'brand_name'], as_index=False)\n",
    " .agg({'brand_info': 'count'})\n",
    " .sort_values(['user_id', 'brand_info'], ascending=[True, False])\n",
    " .groupby('user_id').head(1)\n",
    " .rename(columns={'brand_name': 'lovely_brand', 'brand_info': 'lovely_brand_purchases'}))"
   ],
   "metadata": {
    "collapsed": false,
    "pycharm": {
     "name": "#%%\n"
    }
   }
  },
  {
   "cell_type": "code",
   "execution_count": 52,
   "outputs": [
    {
     "data": {
      "text/plain": "      user_id lovely_brand  lovely_brand_purchases\n0 -1236394515      Brand_4                       1\n2        1031  Store_Brand                       5\n3        4241      Brand_4                       3\n5       17311      Brand_4                       2\n6       17312      Brand_1                       1",
      "text/html": "<div>\n<style scoped>\n    .dataframe tbody tr th:only-of-type {\n        vertical-align: middle;\n    }\n\n    .dataframe tbody tr th {\n        vertical-align: top;\n    }\n\n    .dataframe thead th {\n        text-align: right;\n    }\n</style>\n<table border=\"1\" class=\"dataframe\">\n  <thead>\n    <tr style=\"text-align: right;\">\n      <th></th>\n      <th>user_id</th>\n      <th>lovely_brand</th>\n      <th>lovely_brand_purchases</th>\n    </tr>\n  </thead>\n  <tbody>\n    <tr>\n      <th>0</th>\n      <td>-1236394515</td>\n      <td>Brand_4</td>\n      <td>1</td>\n    </tr>\n    <tr>\n      <th>2</th>\n      <td>1031</td>\n      <td>Store_Brand</td>\n      <td>5</td>\n    </tr>\n    <tr>\n      <th>3</th>\n      <td>4241</td>\n      <td>Brand_4</td>\n      <td>3</td>\n    </tr>\n    <tr>\n      <th>5</th>\n      <td>17311</td>\n      <td>Brand_4</td>\n      <td>2</td>\n    </tr>\n    <tr>\n      <th>6</th>\n      <td>17312</td>\n      <td>Brand_1</td>\n      <td>1</td>\n    </tr>\n  </tbody>\n</table>\n</div>"
     },
     "execution_count": 52,
     "metadata": {},
     "output_type": "execute_result"
    }
   ],
   "source": [
    "lovely_brand_purchases_df.head()  # ДФ, где указано количество покупок любимого(больше всего покупок) бренда"
   ],
   "metadata": {
    "collapsed": false,
    "pycharm": {
     "name": "#%%\n"
    }
   }
  },
  {
   "cell_type": "code",
   "execution_count": 54,
   "outputs": [
    {
     "data": {
      "text/plain": "    user_id  purchases\n1      1031          6\n2      4241          5\n11    25971          7\n14    40911         27\n16    45181          5",
      "text/html": "<div>\n<style scoped>\n    .dataframe tbody tr th:only-of-type {\n        vertical-align: middle;\n    }\n\n    .dataframe tbody tr th {\n        vertical-align: top;\n    }\n\n    .dataframe thead th {\n        text-align: right;\n    }\n</style>\n<table border=\"1\" class=\"dataframe\">\n  <thead>\n    <tr style=\"text-align: right;\">\n      <th></th>\n      <th>user_id</th>\n      <th>purchases</th>\n    </tr>\n  </thead>\n  <tbody>\n    <tr>\n      <th>1</th>\n      <td>1031</td>\n      <td>6</td>\n    </tr>\n    <tr>\n      <th>2</th>\n      <td>4241</td>\n      <td>5</td>\n    </tr>\n    <tr>\n      <th>11</th>\n      <td>25971</td>\n      <td>7</td>\n    </tr>\n    <tr>\n      <th>14</th>\n      <td>40911</td>\n      <td>27</td>\n    </tr>\n    <tr>\n      <th>16</th>\n      <td>45181</td>\n      <td>5</td>\n    </tr>\n  </tbody>\n</table>\n</div>"
     },
     "execution_count": 54,
     "metadata": {},
     "output_type": "execute_result"
    }
   ],
   "source": [
    "user_purchases.head()"
   ],
   "metadata": {
    "collapsed": false,
    "pycharm": {
     "name": "#%%\n"
    }
   }
  },
  {
   "cell_type": "code",
   "execution_count": 56,
   "outputs": [],
   "source": [
    "users_unique_brands = (user_df.groupby('user_id', as_index=False)\n",
    " .agg({'brand_name': pd.Series.nunique})\n",
    ".rename(columns={'brand_name': 'unique_brands'}))"
   ],
   "metadata": {
    "collapsed": false,
    "pycharm": {
     "name": "#%%\n"
    }
   }
  },
  {
   "cell_type": "code",
   "execution_count": 58,
   "outputs": [
    {
     "data": {
      "text/plain": "          user_id  unique_brands\n0     -1236394515              1\n1            1031              2\n2            4241              2\n3           17311              1\n4           17312              2\n...           ...            ...\n11759  1408817589              2\n11760  1408825059              1\n11761  1408832719              1\n11762  1408840919              1\n11763  1408849249              1\n\n[11764 rows x 2 columns]",
      "text/html": "<div>\n<style scoped>\n    .dataframe tbody tr th:only-of-type {\n        vertical-align: middle;\n    }\n\n    .dataframe tbody tr th {\n        vertical-align: top;\n    }\n\n    .dataframe thead th {\n        text-align: right;\n    }\n</style>\n<table border=\"1\" class=\"dataframe\">\n  <thead>\n    <tr style=\"text-align: right;\">\n      <th></th>\n      <th>user_id</th>\n      <th>unique_brands</th>\n    </tr>\n  </thead>\n  <tbody>\n    <tr>\n      <th>0</th>\n      <td>-1236394515</td>\n      <td>1</td>\n    </tr>\n    <tr>\n      <th>1</th>\n      <td>1031</td>\n      <td>2</td>\n    </tr>\n    <tr>\n      <th>2</th>\n      <td>4241</td>\n      <td>2</td>\n    </tr>\n    <tr>\n      <th>3</th>\n      <td>17311</td>\n      <td>1</td>\n    </tr>\n    <tr>\n      <th>4</th>\n      <td>17312</td>\n      <td>2</td>\n    </tr>\n    <tr>\n      <th>...</th>\n      <td>...</td>\n      <td>...</td>\n    </tr>\n    <tr>\n      <th>11759</th>\n      <td>1408817589</td>\n      <td>2</td>\n    </tr>\n    <tr>\n      <th>11760</th>\n      <td>1408825059</td>\n      <td>1</td>\n    </tr>\n    <tr>\n      <th>11761</th>\n      <td>1408832719</td>\n      <td>1</td>\n    </tr>\n    <tr>\n      <th>11762</th>\n      <td>1408840919</td>\n      <td>1</td>\n    </tr>\n    <tr>\n      <th>11763</th>\n      <td>1408849249</td>\n      <td>1</td>\n    </tr>\n  </tbody>\n</table>\n<p>11764 rows × 2 columns</p>\n</div>"
     },
     "execution_count": 58,
     "metadata": {},
     "output_type": "execute_result"
    }
   ],
   "source": [
    "users_unique_brands  # Количество покупок УНИКАЛЬНЫХ брендов у пользователей"
   ],
   "metadata": {
    "collapsed": false,
    "pycharm": {
     "name": "#%%\n"
    }
   }
  },
  {
   "cell_type": "code",
   "execution_count": 59,
   "outputs": [],
   "source": [
    "x = pd.Series([1, 2, 3])"
   ],
   "metadata": {
    "collapsed": false,
    "pycharm": {
     "name": "#%%\n"
    }
   }
  },
  {
   "cell_type": "code",
   "execution_count": 60,
   "outputs": [
    {
     "data": {
      "text/plain": "count    3.0\nmean     2.0\nstd      1.0\nmin      1.0\n25%      1.5\n50%      2.0\n75%      2.5\nmax      3.0\ndtype: float64"
     },
     "execution_count": 60,
     "metadata": {},
     "output_type": "execute_result"
    }
   ],
   "source": [
    "x.describe()"
   ],
   "metadata": {
    "collapsed": false,
    "pycharm": {
     "name": "#%%\n"
    }
   }
  },
  {
   "cell_type": "markdown",
   "source": [
    "#### Итого:"
   ],
   "metadata": {
    "collapsed": false,
    "pycharm": {
     "name": "#%% md\n"
    }
   }
  },
  {
   "cell_type": "markdown",
   "source": [
    "**Сколько ВСЕГО покупок** делают пользователи, если брать пользователей, число покупок у которых **БОЛЬШЕ или РАВНО 5**"
   ],
   "metadata": {
    "collapsed": false,
    "pycharm": {
     "name": "#%% md\n"
    }
   }
  },
  {
   "cell_type": "code",
   "execution_count": 62,
   "outputs": [],
   "source": [
    "user_purchases = (user_df.groupby('user_id', as_index=False)\n",
    "                  .agg({'brand_name': 'count'})\n",
    "                  .rename(columns={'brand_name': 'purchases'})\n",
    "                  .query('purchases >= 5'))"
   ],
   "metadata": {
    "collapsed": false,
    "pycharm": {
     "name": "#%%\n"
    }
   }
  },
  {
   "cell_type": "markdown",
   "source": [
    "**Число УНИКАЛЬНЫХ брендов** в покупках пользователя"
   ],
   "metadata": {
    "collapsed": false,
    "pycharm": {
     "name": "#%% md\n"
    }
   }
  },
  {
   "cell_type": "code",
   "execution_count": 63,
   "outputs": [],
   "source": [
    "users_unique_brands = (user_df.groupby('user_id', as_index=False)\n",
    " .agg({'brand_name': pd.Series.nunique})\n",
    ".rename(columns={'brand_name': 'unique_brands'}))"
   ],
   "metadata": {
    "collapsed": false,
    "pycharm": {
     "name": "#%%\n"
    }
   }
  },
  {
   "cell_type": "markdown",
   "source": [
    "**Сколько покупок** приходится на **ЛЮБИМЫЙ БРЕНД** пользователя"
   ],
   "metadata": {
    "collapsed": false,
    "pycharm": {
     "name": "#%% md\n"
    }
   }
  },
  {
   "cell_type": "code",
   "execution_count": 64,
   "outputs": [],
   "source": [
    "lovely_brand_purchases_df = (user_df.groupby(['user_id', 'brand_name'], as_index=False)\n",
    " .agg({'brand_info': 'count'})\n",
    " .sort_values(['user_id', 'brand_info'], ascending=[True, False])\n",
    " .groupby('user_id').head(1)\n",
    " .rename(columns={'brand_name': 'lovely_brand', 'brand_info': 'lovely_brand_purchases'}))"
   ],
   "metadata": {
    "collapsed": false,
    "pycharm": {
     "name": "#%%\n"
    }
   }
  },
  {
   "cell_type": "code",
   "execution_count": 77,
   "outputs": [
    {
     "data": {
      "text/plain": "    user_id  purchases\n1      1031          6\n2      4241          5\n11    25971          7\n14    40911         27\n16    45181          5",
      "text/html": "<div>\n<style scoped>\n    .dataframe tbody tr th:only-of-type {\n        vertical-align: middle;\n    }\n\n    .dataframe tbody tr th {\n        vertical-align: top;\n    }\n\n    .dataframe thead th {\n        text-align: right;\n    }\n</style>\n<table border=\"1\" class=\"dataframe\">\n  <thead>\n    <tr style=\"text-align: right;\">\n      <th></th>\n      <th>user_id</th>\n      <th>purchases</th>\n    </tr>\n  </thead>\n  <tbody>\n    <tr>\n      <th>1</th>\n      <td>1031</td>\n      <td>6</td>\n    </tr>\n    <tr>\n      <th>2</th>\n      <td>4241</td>\n      <td>5</td>\n    </tr>\n    <tr>\n      <th>11</th>\n      <td>25971</td>\n      <td>7</td>\n    </tr>\n    <tr>\n      <th>14</th>\n      <td>40911</td>\n      <td>27</td>\n    </tr>\n    <tr>\n      <th>16</th>\n      <td>45181</td>\n      <td>5</td>\n    </tr>\n  </tbody>\n</table>\n</div>"
     },
     "execution_count": 77,
     "metadata": {},
     "output_type": "execute_result"
    }
   ],
   "source": [
    "user_purchases.head()"
   ],
   "metadata": {
    "collapsed": false,
    "pycharm": {
     "name": "#%%\n"
    }
   }
  },
  {
   "cell_type": "code",
   "execution_count": 78,
   "outputs": [
    {
     "data": {
      "text/plain": "      user_id  unique_brands\n0 -1236394515              1\n1        1031              2\n2        4241              2\n3       17311              1\n4       17312              2",
      "text/html": "<div>\n<style scoped>\n    .dataframe tbody tr th:only-of-type {\n        vertical-align: middle;\n    }\n\n    .dataframe tbody tr th {\n        vertical-align: top;\n    }\n\n    .dataframe thead th {\n        text-align: right;\n    }\n</style>\n<table border=\"1\" class=\"dataframe\">\n  <thead>\n    <tr style=\"text-align: right;\">\n      <th></th>\n      <th>user_id</th>\n      <th>unique_brands</th>\n    </tr>\n  </thead>\n  <tbody>\n    <tr>\n      <th>0</th>\n      <td>-1236394515</td>\n      <td>1</td>\n    </tr>\n    <tr>\n      <th>1</th>\n      <td>1031</td>\n      <td>2</td>\n    </tr>\n    <tr>\n      <th>2</th>\n      <td>4241</td>\n      <td>2</td>\n    </tr>\n    <tr>\n      <th>3</th>\n      <td>17311</td>\n      <td>1</td>\n    </tr>\n    <tr>\n      <th>4</th>\n      <td>17312</td>\n      <td>2</td>\n    </tr>\n  </tbody>\n</table>\n</div>"
     },
     "execution_count": 78,
     "metadata": {},
     "output_type": "execute_result"
    }
   ],
   "source": [
    "users_unique_brands.head()"
   ],
   "metadata": {
    "collapsed": false,
    "pycharm": {
     "name": "#%%\n"
    }
   }
  },
  {
   "cell_type": "code",
   "execution_count": 79,
   "outputs": [
    {
     "data": {
      "text/plain": "      user_id lovely_brand  lovely_brand_purchases\n0 -1236394515      Brand_4                       1\n2        1031  Store_Brand                       5\n3        4241      Brand_4                       3\n5       17311      Brand_4                       2\n6       17312      Brand_1                       1",
      "text/html": "<div>\n<style scoped>\n    .dataframe tbody tr th:only-of-type {\n        vertical-align: middle;\n    }\n\n    .dataframe tbody tr th {\n        vertical-align: top;\n    }\n\n    .dataframe thead th {\n        text-align: right;\n    }\n</style>\n<table border=\"1\" class=\"dataframe\">\n  <thead>\n    <tr style=\"text-align: right;\">\n      <th></th>\n      <th>user_id</th>\n      <th>lovely_brand</th>\n      <th>lovely_brand_purchases</th>\n    </tr>\n  </thead>\n  <tbody>\n    <tr>\n      <th>0</th>\n      <td>-1236394515</td>\n      <td>Brand_4</td>\n      <td>1</td>\n    </tr>\n    <tr>\n      <th>2</th>\n      <td>1031</td>\n      <td>Store_Brand</td>\n      <td>5</td>\n    </tr>\n    <tr>\n      <th>3</th>\n      <td>4241</td>\n      <td>Brand_4</td>\n      <td>3</td>\n    </tr>\n    <tr>\n      <th>5</th>\n      <td>17311</td>\n      <td>Brand_4</td>\n      <td>2</td>\n    </tr>\n    <tr>\n      <th>6</th>\n      <td>17312</td>\n      <td>Brand_1</td>\n      <td>1</td>\n    </tr>\n  </tbody>\n</table>\n</div>"
     },
     "execution_count": 79,
     "metadata": {},
     "output_type": "execute_result"
    }
   ],
   "source": [
    "lovely_brand_purchases_df.head()"
   ],
   "metadata": {
    "collapsed": false,
    "pycharm": {
     "name": "#%%\n"
    }
   }
  },
  {
   "cell_type": "markdown",
   "source": [
    "#### Слияние полученных Датафреймов (MERGE)"
   ],
   "metadata": {
    "collapsed": false,
    "pycharm": {
     "name": "#%% md\n"
    }
   }
  },
  {
   "cell_type": "code",
   "execution_count": 82,
   "outputs": [],
   "source": [
    "loyalty_df = (user_purchases.merge(users_unique_brands, on='user_id')\n",
    " .merge(lovely_brand_purchases_df, on='user_id'))\n",
    "# По дефолту слияние - INNER JOIN (общие значения)"
   ],
   "metadata": {
    "collapsed": false,
    "pycharm": {
     "name": "#%%\n"
    }
   }
  },
  {
   "cell_type": "code",
   "execution_count": 83,
   "outputs": [
    {
     "data": {
      "text/plain": "         user_id  purchases  unique_brands lovely_brand  \\\n0           1031          6              2  Store_Brand   \n1           4241          5              2      Brand_4   \n2          25971          7              2  Store_Brand   \n3          40911         27              5      Brand_4   \n4          45181          5              4  Store_Brand   \n...          ...        ...            ...          ...   \n3378  1408767189          5              1      Brand_4   \n3379  1408783189         10              2  Store_Brand   \n3380  1408783379          6              2      Brand_1   \n3381  1408798879          8              3  Store_Brand   \n3382  1408810219          9              2      Brand_2   \n\n      lovely_brand_purchases  \n0                          5  \n1                          3  \n2                          5  \n3                         19  \n4                          2  \n...                      ...  \n3378                       5  \n3379                       8  \n3380                       4  \n3381                       4  \n3382                       6  \n\n[3383 rows x 5 columns]",
      "text/html": "<div>\n<style scoped>\n    .dataframe tbody tr th:only-of-type {\n        vertical-align: middle;\n    }\n\n    .dataframe tbody tr th {\n        vertical-align: top;\n    }\n\n    .dataframe thead th {\n        text-align: right;\n    }\n</style>\n<table border=\"1\" class=\"dataframe\">\n  <thead>\n    <tr style=\"text-align: right;\">\n      <th></th>\n      <th>user_id</th>\n      <th>purchases</th>\n      <th>unique_brands</th>\n      <th>lovely_brand</th>\n      <th>lovely_brand_purchases</th>\n    </tr>\n  </thead>\n  <tbody>\n    <tr>\n      <th>0</th>\n      <td>1031</td>\n      <td>6</td>\n      <td>2</td>\n      <td>Store_Brand</td>\n      <td>5</td>\n    </tr>\n    <tr>\n      <th>1</th>\n      <td>4241</td>\n      <td>5</td>\n      <td>2</td>\n      <td>Brand_4</td>\n      <td>3</td>\n    </tr>\n    <tr>\n      <th>2</th>\n      <td>25971</td>\n      <td>7</td>\n      <td>2</td>\n      <td>Store_Brand</td>\n      <td>5</td>\n    </tr>\n    <tr>\n      <th>3</th>\n      <td>40911</td>\n      <td>27</td>\n      <td>5</td>\n      <td>Brand_4</td>\n      <td>19</td>\n    </tr>\n    <tr>\n      <th>4</th>\n      <td>45181</td>\n      <td>5</td>\n      <td>4</td>\n      <td>Store_Brand</td>\n      <td>2</td>\n    </tr>\n    <tr>\n      <th>...</th>\n      <td>...</td>\n      <td>...</td>\n      <td>...</td>\n      <td>...</td>\n      <td>...</td>\n    </tr>\n    <tr>\n      <th>3378</th>\n      <td>1408767189</td>\n      <td>5</td>\n      <td>1</td>\n      <td>Brand_4</td>\n      <td>5</td>\n    </tr>\n    <tr>\n      <th>3379</th>\n      <td>1408783189</td>\n      <td>10</td>\n      <td>2</td>\n      <td>Store_Brand</td>\n      <td>8</td>\n    </tr>\n    <tr>\n      <th>3380</th>\n      <td>1408783379</td>\n      <td>6</td>\n      <td>2</td>\n      <td>Brand_1</td>\n      <td>4</td>\n    </tr>\n    <tr>\n      <th>3381</th>\n      <td>1408798879</td>\n      <td>8</td>\n      <td>3</td>\n      <td>Store_Brand</td>\n      <td>4</td>\n    </tr>\n    <tr>\n      <th>3382</th>\n      <td>1408810219</td>\n      <td>9</td>\n      <td>2</td>\n      <td>Brand_2</td>\n      <td>6</td>\n    </tr>\n  </tbody>\n</table>\n<p>3383 rows × 5 columns</p>\n</div>"
     },
     "execution_count": 83,
     "metadata": {},
     "output_type": "execute_result"
    }
   ],
   "source": [
    "loyalty_df"
   ],
   "metadata": {
    "collapsed": false,
    "pycharm": {
     "name": "#%%\n"
    }
   }
  },
  {
   "cell_type": "code",
   "execution_count": 85,
   "outputs": [],
   "source": [
    "loyal_users = loyalty_df[loyalty_df.unique_brands == 1]"
   ],
   "metadata": {
    "collapsed": false,
    "pycharm": {
     "name": "#%%\n"
    }
   }
  },
  {
   "cell_type": "code",
   "execution_count": 87,
   "outputs": [
    {
     "data": {
      "text/plain": "         user_id  purchases  unique_brands lovely_brand  \\\n13         86281         14              1      Brand_4   \n18         94961          6              1      Brand_4   \n29        132061          9              1      Brand_4   \n30        134281          6              1      Brand_4   \n35        157311         12              1      Brand_4   \n...          ...        ...            ...          ...   \n3372  1010244089          9              1  Store_Brand   \n3374  1010247239          5              1      Brand_4   \n3376  1010274559          5              1      Brand_4   \n3377  1110091379          5              1      Brand_1   \n3378  1408767189          5              1      Brand_4   \n\n      lovely_brand_purchases  \n13                        14  \n18                         6  \n29                         9  \n30                         6  \n35                        12  \n...                      ...  \n3372                       9  \n3374                       5  \n3376                       5  \n3377                       5  \n3378                       5  \n\n[911 rows x 5 columns]",
      "text/html": "<div>\n<style scoped>\n    .dataframe tbody tr th:only-of-type {\n        vertical-align: middle;\n    }\n\n    .dataframe tbody tr th {\n        vertical-align: top;\n    }\n\n    .dataframe thead th {\n        text-align: right;\n    }\n</style>\n<table border=\"1\" class=\"dataframe\">\n  <thead>\n    <tr style=\"text-align: right;\">\n      <th></th>\n      <th>user_id</th>\n      <th>purchases</th>\n      <th>unique_brands</th>\n      <th>lovely_brand</th>\n      <th>lovely_brand_purchases</th>\n    </tr>\n  </thead>\n  <tbody>\n    <tr>\n      <th>13</th>\n      <td>86281</td>\n      <td>14</td>\n      <td>1</td>\n      <td>Brand_4</td>\n      <td>14</td>\n    </tr>\n    <tr>\n      <th>18</th>\n      <td>94961</td>\n      <td>6</td>\n      <td>1</td>\n      <td>Brand_4</td>\n      <td>6</td>\n    </tr>\n    <tr>\n      <th>29</th>\n      <td>132061</td>\n      <td>9</td>\n      <td>1</td>\n      <td>Brand_4</td>\n      <td>9</td>\n    </tr>\n    <tr>\n      <th>30</th>\n      <td>134281</td>\n      <td>6</td>\n      <td>1</td>\n      <td>Brand_4</td>\n      <td>6</td>\n    </tr>\n    <tr>\n      <th>35</th>\n      <td>157311</td>\n      <td>12</td>\n      <td>1</td>\n      <td>Brand_4</td>\n      <td>12</td>\n    </tr>\n    <tr>\n      <th>...</th>\n      <td>...</td>\n      <td>...</td>\n      <td>...</td>\n      <td>...</td>\n      <td>...</td>\n    </tr>\n    <tr>\n      <th>3372</th>\n      <td>1010244089</td>\n      <td>9</td>\n      <td>1</td>\n      <td>Store_Brand</td>\n      <td>9</td>\n    </tr>\n    <tr>\n      <th>3374</th>\n      <td>1010247239</td>\n      <td>5</td>\n      <td>1</td>\n      <td>Brand_4</td>\n      <td>5</td>\n    </tr>\n    <tr>\n      <th>3376</th>\n      <td>1010274559</td>\n      <td>5</td>\n      <td>1</td>\n      <td>Brand_4</td>\n      <td>5</td>\n    </tr>\n    <tr>\n      <th>3377</th>\n      <td>1110091379</td>\n      <td>5</td>\n      <td>1</td>\n      <td>Brand_1</td>\n      <td>5</td>\n    </tr>\n    <tr>\n      <th>3378</th>\n      <td>1408767189</td>\n      <td>5</td>\n      <td>1</td>\n      <td>Brand_4</td>\n      <td>5</td>\n    </tr>\n  </tbody>\n</table>\n<p>911 rows × 5 columns</p>\n</div>"
     },
     "execution_count": 87,
     "metadata": {},
     "output_type": "execute_result"
    }
   ],
   "source": [
    "loyal_users  # Пользователи, которые покупают только один бренд"
   ],
   "metadata": {
    "collapsed": false,
    "pycharm": {
     "name": "#%%\n"
    }
   }
  },
  {
   "cell_type": "code",
   "execution_count": 91,
   "outputs": [],
   "source": [
    "loyalty_df['loyalty_score'] = loyalty_df.lovely_brand_purchases / loyalty_df.purchases"
   ],
   "metadata": {
    "collapsed": false,
    "pycharm": {
     "name": "#%%\n"
    }
   }
  },
  {
   "cell_type": "code",
   "execution_count": 93,
   "outputs": [
    {
     "data": {
      "text/plain": "   user_id  purchases  unique_brands lovely_brand  lovely_brand_purchases  \\\n0     1031          6              2  Store_Brand                       5   \n1     4241          5              2      Brand_4                       3   \n2    25971          7              2  Store_Brand                       5   \n3    40911         27              5      Brand_4                      19   \n4    45181          5              4  Store_Brand                       2   \n\n   loyalty_score  \n0       0.833333  \n1       0.600000  \n2       0.714286  \n3       0.703704  \n4       0.400000  ",
      "text/html": "<div>\n<style scoped>\n    .dataframe tbody tr th:only-of-type {\n        vertical-align: middle;\n    }\n\n    .dataframe tbody tr th {\n        vertical-align: top;\n    }\n\n    .dataframe thead th {\n        text-align: right;\n    }\n</style>\n<table border=\"1\" class=\"dataframe\">\n  <thead>\n    <tr style=\"text-align: right;\">\n      <th></th>\n      <th>user_id</th>\n      <th>purchases</th>\n      <th>unique_brands</th>\n      <th>lovely_brand</th>\n      <th>lovely_brand_purchases</th>\n      <th>loyalty_score</th>\n    </tr>\n  </thead>\n  <tbody>\n    <tr>\n      <th>0</th>\n      <td>1031</td>\n      <td>6</td>\n      <td>2</td>\n      <td>Store_Brand</td>\n      <td>5</td>\n      <td>0.833333</td>\n    </tr>\n    <tr>\n      <th>1</th>\n      <td>4241</td>\n      <td>5</td>\n      <td>2</td>\n      <td>Brand_4</td>\n      <td>3</td>\n      <td>0.600000</td>\n    </tr>\n    <tr>\n      <th>2</th>\n      <td>25971</td>\n      <td>7</td>\n      <td>2</td>\n      <td>Store_Brand</td>\n      <td>5</td>\n      <td>0.714286</td>\n    </tr>\n    <tr>\n      <th>3</th>\n      <td>40911</td>\n      <td>27</td>\n      <td>5</td>\n      <td>Brand_4</td>\n      <td>19</td>\n      <td>0.703704</td>\n    </tr>\n    <tr>\n      <th>4</th>\n      <td>45181</td>\n      <td>5</td>\n      <td>4</td>\n      <td>Store_Brand</td>\n      <td>2</td>\n      <td>0.400000</td>\n    </tr>\n  </tbody>\n</table>\n</div>"
     },
     "execution_count": 93,
     "metadata": {},
     "output_type": "execute_result"
    }
   ],
   "source": [
    "loyalty_df.head()"
   ],
   "metadata": {
    "collapsed": false,
    "pycharm": {
     "name": "#%%\n"
    }
   }
  },
  {
   "cell_type": "code",
   "execution_count": 99,
   "outputs": [
    {
     "data": {
      "text/plain": "<Figure size 500x500 with 1 Axes>",
      "image/png": "[encoded data removed]"
     },
     "metadata": {},
     "output_type": "display_data"
    }
   ],
   "source": [
    "ax = sns.displot(loyalty_df.loyalty_score);"
   ],
   "metadata": {
    "collapsed": false,
    "pycharm": {
     "name": "#%%\n"
    }
   }
  },
  {
   "cell_type": "code",
   "execution_count": null,
   "outputs": [],
   "source": [],
   "metadata": {
    "collapsed": false,
    "pycharm": {
     "name": "#%%\n"
    }
   }
  }
 ],
 "metadata": {
  "kernelspec": {
   "display_name": "Python 3 (ipykernel)",
   "language": "python",
   "name": "python3"
  },
  "language_info": {
   "codemirror_mode": {
    "name": "ipython",
    "version": 3
   },
   "file_extension": ".py",
   "mimetype": "text/x-python",
   "name": "python",
   "nbconvert_exporter": "python",
   "pygments_lexer": "ipython3",
   "version": "3.11.1"
  }
 },
 "nbformat": 4,
 "nbformat_minor": 1
}