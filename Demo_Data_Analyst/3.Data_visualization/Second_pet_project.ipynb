{
 "cells": [
  {
   "cell_type": "markdown",
   "source": [
    "## Импорт библиотек"
   ],
   "metadata": {
    "collapsed": false,
    "pycharm": {
     "name": "#%% md\n"
    }
   }
  },
  {
   "cell_type": "code",
   "execution_count": 79,
   "metadata": {
    "collapsed": true
   },
   "outputs": [],
   "source": [
    "import pandas as pd\n",
    "import seaborn as sns\n",
    "import matplotlib.pyplot as plt"
   ]
  },
  {
   "cell_type": "markdown",
   "source": [
    "## Загрузка данных"
   ],
   "metadata": {
    "collapsed": false,
    "pycharm": {
     "name": "#%% md\n"
    }
   }
  },
  {
   "cell_type": "code",
   "execution_count": 3,
   "outputs": [],
   "source": [
    "user_data = pd.read_csv('user_data.csv')\n",
    "logs = pd.read_csv('logs.csv')"
   ],
   "metadata": {
    "collapsed": false,
    "pycharm": {
     "name": "#%%\n"
    }
   }
  },
  {
   "cell_type": "markdown",
   "source": [
    "## EDA"
   ],
   "metadata": {
    "collapsed": false,
    "pycharm": {
     "name": "#%% md\n"
    }
   }
  },
  {
   "cell_type": "markdown",
   "source": [
    "### Описание данных\n",
    "#### user_data:\n",
    "client – идентификатор пользователя\n",
    "premium – является ли клиент премиальным\n",
    "age – возраст\n",
    "\n",
    "\n",
    "#### logs:\n",
    "client – идентификатор пользователя\n",
    "success – результат (успех – 1, нет – 0)\n",
    "platform – платформа\n",
    "time – время в формате Unix"
   ],
   "metadata": {
    "collapsed": false,
    "pycharm": {
     "name": "#%% md\n"
    }
   }
  },
  {
   "cell_type": "code",
   "execution_count": 4,
   "outputs": [
    {
     "data": {
      "text/plain": "   client  premium  age\n0   46346    False   58\n1    4391    False   55\n2   27372    False   64\n3   11989    False   44\n4   60664    False   49",
      "text/html": "<div>\n<style scoped>\n    .dataframe tbody tr th:only-of-type {\n        vertical-align: middle;\n    }\n\n    .dataframe tbody tr th {\n        vertical-align: top;\n    }\n\n    .dataframe thead th {\n        text-align: right;\n    }\n</style>\n<table border=\"1\" class=\"dataframe\">\n  <thead>\n    <tr style=\"text-align: right;\">\n      <th></th>\n      <th>client</th>\n      <th>premium</th>\n      <th>age</th>\n    </tr>\n  </thead>\n  <tbody>\n    <tr>\n      <th>0</th>\n      <td>46346</td>\n      <td>False</td>\n      <td>58</td>\n    </tr>\n    <tr>\n      <th>1</th>\n      <td>4391</td>\n      <td>False</td>\n      <td>55</td>\n    </tr>\n    <tr>\n      <th>2</th>\n      <td>27372</td>\n      <td>False</td>\n      <td>64</td>\n    </tr>\n    <tr>\n      <th>3</th>\n      <td>11989</td>\n      <td>False</td>\n      <td>44</td>\n    </tr>\n    <tr>\n      <th>4</th>\n      <td>60664</td>\n      <td>False</td>\n      <td>49</td>\n    </tr>\n  </tbody>\n</table>\n</div>"
     },
     "execution_count": 4,
     "metadata": {},
     "output_type": "execute_result"
    }
   ],
   "source": [
    "user_data.head()"
   ],
   "metadata": {
    "collapsed": false,
    "pycharm": {
     "name": "#%%\n"
    }
   }
  },
  {
   "cell_type": "code",
   "execution_count": 5,
   "outputs": [
    {
     "data": {
      "text/plain": "(2954, 3)"
     },
     "execution_count": 5,
     "metadata": {},
     "output_type": "execute_result"
    }
   ],
   "source": [
    "user_data.shape"
   ],
   "metadata": {
    "collapsed": false,
    "pycharm": {
     "name": "#%%\n"
    }
   }
  },
  {
   "cell_type": "code",
   "execution_count": 6,
   "outputs": [
    {
     "name": "stdout",
     "output_type": "stream",
     "text": [
      "<class 'pandas.core.frame.DataFrame'>\n",
      "RangeIndex: 2954 entries, 0 to 2953\n",
      "Data columns (total 3 columns):\n",
      " #   Column   Non-Null Count  Dtype\n",
      "---  ------   --------------  -----\n",
      " 0   client   2954 non-null   int64\n",
      " 1   premium  2954 non-null   bool \n",
      " 2   age      2954 non-null   int64\n",
      "dtypes: bool(1), int64(2)\n",
      "memory usage: 49.2 KB\n"
     ]
    }
   ],
   "source": [
    "user_data.info()"
   ],
   "metadata": {
    "collapsed": false,
    "pycharm": {
     "name": "#%%\n"
    }
   }
  },
  {
   "cell_type": "code",
   "execution_count": 7,
   "outputs": [
    {
     "data": {
      "text/plain": "   client  success  platform        time\n0   40177     True     phone  1585412212\n1   61468     True     phone  1585425658\n2   35604    False     phone  1585459894\n3    9961     True     phone  1585400189\n4   10931     True  computer  1585468629",
      "text/html": "<div>\n<style scoped>\n    .dataframe tbody tr th:only-of-type {\n        vertical-align: middle;\n    }\n\n    .dataframe tbody tr th {\n        vertical-align: top;\n    }\n\n    .dataframe thead th {\n        text-align: right;\n    }\n</style>\n<table border=\"1\" class=\"dataframe\">\n  <thead>\n    <tr style=\"text-align: right;\">\n      <th></th>\n      <th>client</th>\n      <th>success</th>\n      <th>platform</th>\n      <th>time</th>\n    </tr>\n  </thead>\n  <tbody>\n    <tr>\n      <th>0</th>\n      <td>40177</td>\n      <td>True</td>\n      <td>phone</td>\n      <td>1585412212</td>\n    </tr>\n    <tr>\n      <th>1</th>\n      <td>61468</td>\n      <td>True</td>\n      <td>phone</td>\n      <td>1585425658</td>\n    </tr>\n    <tr>\n      <th>2</th>\n      <td>35604</td>\n      <td>False</td>\n      <td>phone</td>\n      <td>1585459894</td>\n    </tr>\n    <tr>\n      <th>3</th>\n      <td>9961</td>\n      <td>True</td>\n      <td>phone</td>\n      <td>1585400189</td>\n    </tr>\n    <tr>\n      <th>4</th>\n      <td>10931</td>\n      <td>True</td>\n      <td>computer</td>\n      <td>1585468629</td>\n    </tr>\n  </tbody>\n</table>\n</div>"
     },
     "execution_count": 7,
     "metadata": {},
     "output_type": "execute_result"
    }
   ],
   "source": [
    "logs.head()"
   ],
   "metadata": {
    "collapsed": false,
    "pycharm": {
     "name": "#%%\n"
    }
   }
  },
  {
   "cell_type": "code",
   "execution_count": 8,
   "outputs": [
    {
     "data": {
      "text/plain": "(4500, 4)"
     },
     "execution_count": 8,
     "metadata": {},
     "output_type": "execute_result"
    }
   ],
   "source": [
    "logs.shape"
   ],
   "metadata": {
    "collapsed": false,
    "pycharm": {
     "name": "#%%\n"
    }
   }
  },
  {
   "cell_type": "code",
   "execution_count": 9,
   "outputs": [
    {
     "name": "stdout",
     "output_type": "stream",
     "text": [
      "<class 'pandas.core.frame.DataFrame'>\n",
      "RangeIndex: 4500 entries, 0 to 4499\n",
      "Data columns (total 4 columns):\n",
      " #   Column    Non-Null Count  Dtype \n",
      "---  ------    --------------  ----- \n",
      " 0   client    4500 non-null   int64 \n",
      " 1   success   4500 non-null   bool  \n",
      " 2   platform  4500 non-null   object\n",
      " 3   time      4500 non-null   int64 \n",
      "dtypes: bool(1), int64(2), object(1)\n",
      "memory usage: 110.0+ KB\n"
     ]
    }
   ],
   "source": [
    "logs.info()"
   ],
   "metadata": {
    "collapsed": false,
    "pycharm": {
     "name": "#%%\n"
    }
   }
  },
  {
   "cell_type": "markdown",
   "source": [
    "## Задачи"
   ],
   "metadata": {
    "collapsed": false,
    "pycharm": {
     "name": "#%% md\n"
    }
   }
  },
  {
   "cell_type": "markdown",
   "source": [
    "#### Сколько уникальных значений в переменной platform?"
   ],
   "metadata": {
    "collapsed": false,
    "pycharm": {
     "name": "#%% md\n"
    }
   }
  },
  {
   "cell_type": "code",
   "execution_count": 10,
   "outputs": [
    {
     "data": {
      "text/plain": "3"
     },
     "execution_count": 10,
     "metadata": {},
     "output_type": "execute_result"
    }
   ],
   "source": [
    "logs.platform.nunique()"
   ],
   "metadata": {
    "collapsed": false,
    "pycharm": {
     "name": "#%%\n"
    }
   }
  },
  {
   "cell_type": "markdown",
   "source": [
    "#### Какой клиент совершил больше всего успешных операций?"
   ],
   "metadata": {
    "collapsed": false,
    "pycharm": {
     "name": "#%% md\n"
    }
   }
  },
  {
   "cell_type": "code",
   "execution_count": 11,
   "outputs": [
    {
     "data": {
      "text/plain": "   client  success  platform        time\n0   40177     True     phone  1585412212\n1   61468     True     phone  1585425658\n2   35604    False     phone  1585459894\n3    9961     True     phone  1585400189\n4   10931     True  computer  1585468629",
      "text/html": "<div>\n<style scoped>\n    .dataframe tbody tr th:only-of-type {\n        vertical-align: middle;\n    }\n\n    .dataframe tbody tr th {\n        vertical-align: top;\n    }\n\n    .dataframe thead th {\n        text-align: right;\n    }\n</style>\n<table border=\"1\" class=\"dataframe\">\n  <thead>\n    <tr style=\"text-align: right;\">\n      <th></th>\n      <th>client</th>\n      <th>success</th>\n      <th>platform</th>\n      <th>time</th>\n    </tr>\n  </thead>\n  <tbody>\n    <tr>\n      <th>0</th>\n      <td>40177</td>\n      <td>True</td>\n      <td>phone</td>\n      <td>1585412212</td>\n    </tr>\n    <tr>\n      <th>1</th>\n      <td>61468</td>\n      <td>True</td>\n      <td>phone</td>\n      <td>1585425658</td>\n    </tr>\n    <tr>\n      <th>2</th>\n      <td>35604</td>\n      <td>False</td>\n      <td>phone</td>\n      <td>1585459894</td>\n    </tr>\n    <tr>\n      <th>3</th>\n      <td>9961</td>\n      <td>True</td>\n      <td>phone</td>\n      <td>1585400189</td>\n    </tr>\n    <tr>\n      <th>4</th>\n      <td>10931</td>\n      <td>True</td>\n      <td>computer</td>\n      <td>1585468629</td>\n    </tr>\n  </tbody>\n</table>\n</div>"
     },
     "execution_count": 11,
     "metadata": {},
     "output_type": "execute_result"
    }
   ],
   "source": [
    "logs.head()"
   ],
   "metadata": {
    "collapsed": false,
    "pycharm": {
     "name": "#%%\n"
    }
   }
  },
  {
   "cell_type": "code",
   "execution_count": 12,
   "outputs": [],
   "source": [
    "success_number = (logs.query('success == True')\n",
    " .groupby('client', as_index=False)\n",
    " .agg({'platform': 'count'})\n",
    " .rename(columns={'platform': 'success_number'})\n",
    " .sort_values(by='success_number', ascending=False))"
   ],
   "metadata": {
    "collapsed": false,
    "pycharm": {
     "name": "#%%\n"
    }
   }
  },
  {
   "cell_type": "code",
   "execution_count": 13,
   "outputs": [
    {
     "data": {
      "text/plain": "      client  success_number\n332    12179              41\n1758   61468              41\n1487   52870              41\n1759   61473              41\n2626   92584              41\n...      ...             ...\n956    34121               1\n957    34191               1\n958    34198               1\n959    34277               1\n2844   99993               1\n\n[2845 rows x 2 columns]",
      "text/html": "<div>\n<style scoped>\n    .dataframe tbody tr th:only-of-type {\n        vertical-align: middle;\n    }\n\n    .dataframe tbody tr th {\n        vertical-align: top;\n    }\n\n    .dataframe thead th {\n        text-align: right;\n    }\n</style>\n<table border=\"1\" class=\"dataframe\">\n  <thead>\n    <tr style=\"text-align: right;\">\n      <th></th>\n      <th>client</th>\n      <th>success_number</th>\n    </tr>\n  </thead>\n  <tbody>\n    <tr>\n      <th>332</th>\n      <td>12179</td>\n      <td>41</td>\n    </tr>\n    <tr>\n      <th>1758</th>\n      <td>61468</td>\n      <td>41</td>\n    </tr>\n    <tr>\n      <th>1487</th>\n      <td>52870</td>\n      <td>41</td>\n    </tr>\n    <tr>\n      <th>1759</th>\n      <td>61473</td>\n      <td>41</td>\n    </tr>\n    <tr>\n      <th>2626</th>\n      <td>92584</td>\n      <td>41</td>\n    </tr>\n    <tr>\n      <th>...</th>\n      <td>...</td>\n      <td>...</td>\n    </tr>\n    <tr>\n      <th>956</th>\n      <td>34121</td>\n      <td>1</td>\n    </tr>\n    <tr>\n      <th>957</th>\n      <td>34191</td>\n      <td>1</td>\n    </tr>\n    <tr>\n      <th>958</th>\n      <td>34198</td>\n      <td>1</td>\n    </tr>\n    <tr>\n      <th>959</th>\n      <td>34277</td>\n      <td>1</td>\n    </tr>\n    <tr>\n      <th>2844</th>\n      <td>99993</td>\n      <td>1</td>\n    </tr>\n  </tbody>\n</table>\n<p>2845 rows × 2 columns</p>\n</div>"
     },
     "execution_count": 13,
     "metadata": {},
     "output_type": "execute_result"
    }
   ],
   "source": [
    "success_number\n",
    "# Клиенты совершившие успешные операции в порядке убывания"
   ],
   "metadata": {
    "collapsed": false,
    "pycharm": {
     "name": "#%%\n"
    }
   }
  },
  {
   "cell_type": "code",
   "execution_count": 14,
   "outputs": [],
   "source": [
    "successful_clients = (success_number.query('success_number == 41')\n",
    "                      .sort_values('client')\n",
    "                      .client\n",
    "                      .tolist())"
   ],
   "metadata": {
    "collapsed": false,
    "pycharm": {
     "name": "#%%\n"
    }
   }
  },
  {
   "cell_type": "code",
   "execution_count": 15,
   "outputs": [
    {
     "data": {
      "text/plain": "[12179, 28719, 36165, 52870, 61468, 61473, 78349, 82563, 92584]"
     },
     "execution_count": 15,
     "metadata": {},
     "output_type": "execute_result"
    }
   ],
   "source": [
    "successful_clients\n",
    "# Список клиентов совершивших больше всего успешных операций"
   ],
   "metadata": {
    "collapsed": false,
    "pycharm": {
     "name": "#%%\n"
    }
   }
  },
  {
   "cell_type": "code",
   "execution_count": 16,
   "outputs": [],
   "source": [
    "str_successful_clients = ', '.join([str(client) for client in successful_clients])"
   ],
   "metadata": {
    "collapsed": false,
    "pycharm": {
     "name": "#%%\n"
    }
   }
  },
  {
   "cell_type": "code",
   "source": [
    "str_successful_clients\n",
    "# Строка клиентов совершивших больше всего успешных операций"
   ],
   "metadata": {
    "collapsed": false,
    "pycharm": {
     "name": "#%%\n"
    }
   },
   "execution_count": 17,
   "outputs": [
    {
     "data": {
      "text/plain": "'12179, 28719, 36165, 52870, 61468, 61473, 78349, 82563, 92584'"
     },
     "execution_count": 17,
     "metadata": {},
     "output_type": "execute_result"
    }
   ]
  },
  {
   "cell_type": "markdown",
   "source": [
    "#### С какой платформы было совершено наибольшее количество успешных операций?"
   ],
   "metadata": {
    "collapsed": false,
    "pycharm": {
     "name": "#%% md\n"
    }
   }
  },
  {
   "cell_type": "code",
   "source": [
    "logs.head()"
   ],
   "metadata": {
    "collapsed": false,
    "pycharm": {
     "name": "#%%\n"
    }
   },
   "execution_count": 18,
   "outputs": [
    {
     "data": {
      "text/plain": "   client  success  platform        time\n0   40177     True     phone  1585412212\n1   61468     True     phone  1585425658\n2   35604    False     phone  1585459894\n3    9961     True     phone  1585400189\n4   10931     True  computer  1585468629",
      "text/html": "<div>\n<style scoped>\n    .dataframe tbody tr th:only-of-type {\n        vertical-align: middle;\n    }\n\n    .dataframe tbody tr th {\n        vertical-align: top;\n    }\n\n    .dataframe thead th {\n        text-align: right;\n    }\n</style>\n<table border=\"1\" class=\"dataframe\">\n  <thead>\n    <tr style=\"text-align: right;\">\n      <th></th>\n      <th>client</th>\n      <th>success</th>\n      <th>platform</th>\n      <th>time</th>\n    </tr>\n  </thead>\n  <tbody>\n    <tr>\n      <th>0</th>\n      <td>40177</td>\n      <td>True</td>\n      <td>phone</td>\n      <td>1585412212</td>\n    </tr>\n    <tr>\n      <th>1</th>\n      <td>61468</td>\n      <td>True</td>\n      <td>phone</td>\n      <td>1585425658</td>\n    </tr>\n    <tr>\n      <th>2</th>\n      <td>35604</td>\n      <td>False</td>\n      <td>phone</td>\n      <td>1585459894</td>\n    </tr>\n    <tr>\n      <th>3</th>\n      <td>9961</td>\n      <td>True</td>\n      <td>phone</td>\n      <td>1585400189</td>\n    </tr>\n    <tr>\n      <th>4</th>\n      <td>10931</td>\n      <td>True</td>\n      <td>computer</td>\n      <td>1585468629</td>\n    </tr>\n  </tbody>\n</table>\n</div>"
     },
     "execution_count": 18,
     "metadata": {},
     "output_type": "execute_result"
    }
   ]
  },
  {
   "cell_type": "code",
   "execution_count": 19,
   "outputs": [
    {
     "data": {
      "text/plain": "phone       2019\ncomputer    1090\ntablet       180\nName: platform, dtype: int64"
     },
     "execution_count": 19,
     "metadata": {},
     "output_type": "execute_result"
    }
   ],
   "source": [
    "(logs.query('success == True')\n",
    " .platform.value_counts())"
   ],
   "metadata": {
    "collapsed": false,
    "pycharm": {
     "name": "#%%\n"
    }
   }
  },
  {
   "cell_type": "code",
   "execution_count": 20,
   "outputs": [
    {
     "data": {
      "text/plain": "phone       2019\ncomputer    1090\ntablet       180\nName: platform, dtype: int64"
     },
     "execution_count": 20,
     "metadata": {},
     "output_type": "execute_result"
    }
   ],
   "source": [
    "logs.loc[logs.success == True].platform.value_counts()"
   ],
   "metadata": {
    "collapsed": false,
    "pycharm": {
     "name": "#%%\n"
    }
   }
  },
  {
   "cell_type": "markdown",
   "source": [
    "#### Какая платформа наиболее популярна среди премиумных клиентов?"
   ],
   "metadata": {
    "collapsed": false,
    "pycharm": {
     "name": "#%% md\n"
    }
   }
  },
  {
   "cell_type": "code",
   "execution_count": 21,
   "outputs": [
    {
     "data": {
      "text/plain": "   client  success  platform        time\n0   40177     True     phone  1585412212\n1   61468     True     phone  1585425658\n2   35604    False     phone  1585459894\n3    9961     True     phone  1585400189\n4   10931     True  computer  1585468629",
      "text/html": "<div>\n<style scoped>\n    .dataframe tbody tr th:only-of-type {\n        vertical-align: middle;\n    }\n\n    .dataframe tbody tr th {\n        vertical-align: top;\n    }\n\n    .dataframe thead th {\n        text-align: right;\n    }\n</style>\n<table border=\"1\" class=\"dataframe\">\n  <thead>\n    <tr style=\"text-align: right;\">\n      <th></th>\n      <th>client</th>\n      <th>success</th>\n      <th>platform</th>\n      <th>time</th>\n    </tr>\n  </thead>\n  <tbody>\n    <tr>\n      <th>0</th>\n      <td>40177</td>\n      <td>True</td>\n      <td>phone</td>\n      <td>1585412212</td>\n    </tr>\n    <tr>\n      <th>1</th>\n      <td>61468</td>\n      <td>True</td>\n      <td>phone</td>\n      <td>1585425658</td>\n    </tr>\n    <tr>\n      <th>2</th>\n      <td>35604</td>\n      <td>False</td>\n      <td>phone</td>\n      <td>1585459894</td>\n    </tr>\n    <tr>\n      <th>3</th>\n      <td>9961</td>\n      <td>True</td>\n      <td>phone</td>\n      <td>1585400189</td>\n    </tr>\n    <tr>\n      <th>4</th>\n      <td>10931</td>\n      <td>True</td>\n      <td>computer</td>\n      <td>1585468629</td>\n    </tr>\n  </tbody>\n</table>\n</div>"
     },
     "execution_count": 21,
     "metadata": {},
     "output_type": "execute_result"
    }
   ],
   "source": [
    "logs.head()"
   ],
   "metadata": {
    "collapsed": false,
    "pycharm": {
     "name": "#%%\n"
    }
   }
  },
  {
   "cell_type": "code",
   "execution_count": 22,
   "outputs": [
    {
     "data": {
      "text/plain": "   client  premium  age\n0   46346    False   58\n1    4391    False   55\n2   27372    False   64\n3   11989    False   44\n4   60664    False   49",
      "text/html": "<div>\n<style scoped>\n    .dataframe tbody tr th:only-of-type {\n        vertical-align: middle;\n    }\n\n    .dataframe tbody tr th {\n        vertical-align: top;\n    }\n\n    .dataframe thead th {\n        text-align: right;\n    }\n</style>\n<table border=\"1\" class=\"dataframe\">\n  <thead>\n    <tr style=\"text-align: right;\">\n      <th></th>\n      <th>client</th>\n      <th>premium</th>\n      <th>age</th>\n    </tr>\n  </thead>\n  <tbody>\n    <tr>\n      <th>0</th>\n      <td>46346</td>\n      <td>False</td>\n      <td>58</td>\n    </tr>\n    <tr>\n      <th>1</th>\n      <td>4391</td>\n      <td>False</td>\n      <td>55</td>\n    </tr>\n    <tr>\n      <th>2</th>\n      <td>27372</td>\n      <td>False</td>\n      <td>64</td>\n    </tr>\n    <tr>\n      <th>3</th>\n      <td>11989</td>\n      <td>False</td>\n      <td>44</td>\n    </tr>\n    <tr>\n      <th>4</th>\n      <td>60664</td>\n      <td>False</td>\n      <td>49</td>\n    </tr>\n  </tbody>\n</table>\n</div>"
     },
     "execution_count": 22,
     "metadata": {},
     "output_type": "execute_result"
    }
   ],
   "source": [
    "user_data.head()"
   ],
   "metadata": {
    "collapsed": false,
    "pycharm": {
     "name": "#%%\n"
    }
   }
  },
  {
   "cell_type": "code",
   "execution_count": 23,
   "outputs": [],
   "source": [
    "data = user_data.merge(logs, on='client')"
   ],
   "metadata": {
    "collapsed": false,
    "pycharm": {
     "name": "#%%\n"
    }
   }
  },
  {
   "cell_type": "code",
   "execution_count": 24,
   "outputs": [
    {
     "data": {
      "text/plain": "   client  premium  age  success  platform        time\n0   46346    False   58     True     phone  1585452839\n1    4391    False   55    False     phone  1585409861\n2   27372    False   64    False     phone  1585446018\n3   11989    False   44     True  computer  1585403698\n4   60664    False   49     True     phone  1585406918",
      "text/html": "<div>\n<style scoped>\n    .dataframe tbody tr th:only-of-type {\n        vertical-align: middle;\n    }\n\n    .dataframe tbody tr th {\n        vertical-align: top;\n    }\n\n    .dataframe thead th {\n        text-align: right;\n    }\n</style>\n<table border=\"1\" class=\"dataframe\">\n  <thead>\n    <tr style=\"text-align: right;\">\n      <th></th>\n      <th>client</th>\n      <th>premium</th>\n      <th>age</th>\n      <th>success</th>\n      <th>platform</th>\n      <th>time</th>\n    </tr>\n  </thead>\n  <tbody>\n    <tr>\n      <th>0</th>\n      <td>46346</td>\n      <td>False</td>\n      <td>58</td>\n      <td>True</td>\n      <td>phone</td>\n      <td>1585452839</td>\n    </tr>\n    <tr>\n      <th>1</th>\n      <td>4391</td>\n      <td>False</td>\n      <td>55</td>\n      <td>False</td>\n      <td>phone</td>\n      <td>1585409861</td>\n    </tr>\n    <tr>\n      <th>2</th>\n      <td>27372</td>\n      <td>False</td>\n      <td>64</td>\n      <td>False</td>\n      <td>phone</td>\n      <td>1585446018</td>\n    </tr>\n    <tr>\n      <th>3</th>\n      <td>11989</td>\n      <td>False</td>\n      <td>44</td>\n      <td>True</td>\n      <td>computer</td>\n      <td>1585403698</td>\n    </tr>\n    <tr>\n      <th>4</th>\n      <td>60664</td>\n      <td>False</td>\n      <td>49</td>\n      <td>True</td>\n      <td>phone</td>\n      <td>1585406918</td>\n    </tr>\n  </tbody>\n</table>\n</div>"
     },
     "execution_count": 24,
     "metadata": {},
     "output_type": "execute_result"
    }
   ],
   "source": [
    "data.head()"
   ],
   "metadata": {
    "collapsed": false,
    "pycharm": {
     "name": "#%%\n"
    }
   }
  },
  {
   "cell_type": "code",
   "execution_count": 25,
   "outputs": [
    {
     "data": {
      "text/plain": "phone       246\ncomputer    150\ntablet       24\nName: platform, dtype: int64"
     },
     "execution_count": 25,
     "metadata": {},
     "output_type": "execute_result"
    }
   ],
   "source": [
    "(data.query('premium == True')\n",
    " .platform\n",
    " .value_counts())"
   ],
   "metadata": {
    "collapsed": false,
    "pycharm": {
     "name": "#%%\n"
    }
   }
  },
  {
   "cell_type": "code",
   "execution_count": 26,
   "outputs": [
    {
     "data": {
      "text/plain": "'phone'"
     },
     "execution_count": 26,
     "metadata": {},
     "output_type": "execute_result"
    }
   ],
   "source": [
    "(data.query('premium == True')\n",
    " .platform\n",
    " .value_counts()\n",
    " .idxmax())"
   ],
   "metadata": {
    "collapsed": false,
    "pycharm": {
     "name": "#%%\n"
    }
   }
  },
  {
   "cell_type": "code",
   "execution_count": 27,
   "outputs": [
    {
     "data": {
      "text/plain": "platform\nphone       246\ncomputer    150\ntablet       24\ndtype: int64"
     },
     "execution_count": 27,
     "metadata": {},
     "output_type": "execute_result"
    }
   ],
   "source": [
    "(data.query('premium == True')\n",
    " .value_counts('platform'))"
   ],
   "metadata": {
    "collapsed": false,
    "pycharm": {
     "name": "#%%\n"
    }
   }
  },
  {
   "cell_type": "markdown",
   "source": [
    "#### Визуализировать распределение возраста клиентов от типа клиентов (премиум или нет)"
   ],
   "metadata": {
    "collapsed": false,
    "pycharm": {
     "name": "#%% md\n"
    }
   }
  },
  {
   "cell_type": "code",
   "execution_count": 28,
   "outputs": [
    {
     "data": {
      "text/plain": "   client  premium  age  success  platform        time\n0   46346    False   58     True     phone  1585452839\n1    4391    False   55    False     phone  1585409861\n2   27372    False   64    False     phone  1585446018\n3   11989    False   44     True  computer  1585403698\n4   60664    False   49     True     phone  1585406918",
      "text/html": "<div>\n<style scoped>\n    .dataframe tbody tr th:only-of-type {\n        vertical-align: middle;\n    }\n\n    .dataframe tbody tr th {\n        vertical-align: top;\n    }\n\n    .dataframe thead th {\n        text-align: right;\n    }\n</style>\n<table border=\"1\" class=\"dataframe\">\n  <thead>\n    <tr style=\"text-align: right;\">\n      <th></th>\n      <th>client</th>\n      <th>premium</th>\n      <th>age</th>\n      <th>success</th>\n      <th>platform</th>\n      <th>time</th>\n    </tr>\n  </thead>\n  <tbody>\n    <tr>\n      <th>0</th>\n      <td>46346</td>\n      <td>False</td>\n      <td>58</td>\n      <td>True</td>\n      <td>phone</td>\n      <td>1585452839</td>\n    </tr>\n    <tr>\n      <th>1</th>\n      <td>4391</td>\n      <td>False</td>\n      <td>55</td>\n      <td>False</td>\n      <td>phone</td>\n      <td>1585409861</td>\n    </tr>\n    <tr>\n      <th>2</th>\n      <td>27372</td>\n      <td>False</td>\n      <td>64</td>\n      <td>False</td>\n      <td>phone</td>\n      <td>1585446018</td>\n    </tr>\n    <tr>\n      <th>3</th>\n      <td>11989</td>\n      <td>False</td>\n      <td>44</td>\n      <td>True</td>\n      <td>computer</td>\n      <td>1585403698</td>\n    </tr>\n    <tr>\n      <th>4</th>\n      <td>60664</td>\n      <td>False</td>\n      <td>49</td>\n      <td>True</td>\n      <td>phone</td>\n      <td>1585406918</td>\n    </tr>\n  </tbody>\n</table>\n</div>"
     },
     "execution_count": 28,
     "metadata": {},
     "output_type": "execute_result"
    }
   ],
   "source": [
    "data.head()"
   ],
   "metadata": {
    "collapsed": false,
    "pycharm": {
     "name": "#%%\n"
    }
   }
  },
  {
   "cell_type": "code",
   "execution_count": 29,
   "outputs": [
    {
     "data": {
      "text/plain": "<Figure size 584.875x500 with 1 Axes>",
      "image/png": "[encoded data removed]"
     },
     "metadata": {},
     "output_type": "display_data"
    }
   ],
   "source": [
    "sns.displot(data=data, x='age', hue='premium', kde=True, stat='density', common_norm=False, bins=14);\n",
    "# common_norm=False - считаем каждое распределение ОТДЕЛЬНЫМ распределением"
   ],
   "metadata": {
    "collapsed": false,
    "pycharm": {
     "name": "#%%\n"
    }
   }
  },
  {
   "cell_type": "code",
   "execution_count": 48,
   "outputs": [
    {
     "data": {
      "text/plain": "<Figure size 584.875x500 with 1 Axes>",
      "image/png": "[encoded data removed]"
     },
     "metadata": {},
     "output_type": "display_data"
    }
   ],
   "source": [
    "sns.displot(data=data, x='age', hue='premium', kde=True, bins=14);\n",
    "# Распределение клиентов по типам: ПРЕМИУМ и НЕ ПРЕМИУМ"
   ],
   "metadata": {
    "collapsed": false,
    "pycharm": {
     "name": "#%%\n"
    }
   }
  },
  {
   "cell_type": "markdown",
   "source": [
    "#### Постройте график распределения числа успешных операций"
   ],
   "metadata": {
    "collapsed": false,
    "pycharm": {
     "name": "#%% md\n"
    }
   }
  },
  {
   "cell_type": "code",
   "execution_count": 31,
   "outputs": [
    {
     "data": {
      "text/plain": "   client  premium  age  success  platform        time\n0   46346    False   58     True     phone  1585452839\n1    4391    False   55    False     phone  1585409861\n2   27372    False   64    False     phone  1585446018\n3   11989    False   44     True  computer  1585403698\n4   60664    False   49     True     phone  1585406918",
      "text/html": "<div>\n<style scoped>\n    .dataframe tbody tr th:only-of-type {\n        vertical-align: middle;\n    }\n\n    .dataframe tbody tr th {\n        vertical-align: top;\n    }\n\n    .dataframe thead th {\n        text-align: right;\n    }\n</style>\n<table border=\"1\" class=\"dataframe\">\n  <thead>\n    <tr style=\"text-align: right;\">\n      <th></th>\n      <th>client</th>\n      <th>premium</th>\n      <th>age</th>\n      <th>success</th>\n      <th>platform</th>\n      <th>time</th>\n    </tr>\n  </thead>\n  <tbody>\n    <tr>\n      <th>0</th>\n      <td>46346</td>\n      <td>False</td>\n      <td>58</td>\n      <td>True</td>\n      <td>phone</td>\n      <td>1585452839</td>\n    </tr>\n    <tr>\n      <th>1</th>\n      <td>4391</td>\n      <td>False</td>\n      <td>55</td>\n      <td>False</td>\n      <td>phone</td>\n      <td>1585409861</td>\n    </tr>\n    <tr>\n      <th>2</th>\n      <td>27372</td>\n      <td>False</td>\n      <td>64</td>\n      <td>False</td>\n      <td>phone</td>\n      <td>1585446018</td>\n    </tr>\n    <tr>\n      <th>3</th>\n      <td>11989</td>\n      <td>False</td>\n      <td>44</td>\n      <td>True</td>\n      <td>computer</td>\n      <td>1585403698</td>\n    </tr>\n    <tr>\n      <th>4</th>\n      <td>60664</td>\n      <td>False</td>\n      <td>49</td>\n      <td>True</td>\n      <td>phone</td>\n      <td>1585406918</td>\n    </tr>\n  </tbody>\n</table>\n</div>"
     },
     "execution_count": 31,
     "metadata": {},
     "output_type": "execute_result"
    }
   ],
   "source": [
    "data.head()"
   ],
   "metadata": {
    "collapsed": false,
    "pycharm": {
     "name": "#%%\n"
    }
   }
  },
  {
   "cell_type": "code",
   "execution_count": 32,
   "outputs": [
    {
     "data": {
      "text/plain": "(3439, 6)"
     },
     "execution_count": 32,
     "metadata": {},
     "output_type": "execute_result"
    }
   ],
   "source": [
    "data.shape"
   ],
   "metadata": {
    "collapsed": false,
    "pycharm": {
     "name": "#%%\n"
    }
   }
  },
  {
   "cell_type": "code",
   "execution_count": 33,
   "outputs": [],
   "source": [
    "success_count = logs.query('success == True').client.value_counts()"
   ],
   "metadata": {
    "collapsed": false,
    "pycharm": {
     "name": "#%%\n"
    }
   }
  },
  {
   "cell_type": "code",
   "execution_count": 34,
   "outputs": [
    {
     "data": {
      "text/plain": "28719    41\n52870    41\n61468    41\n61473    41\n12179    41\n         ..\n70028     1\n37123     1\n73522     1\n38359     1\n40921     1\nName: client, Length: 2845, dtype: int64"
     },
     "execution_count": 34,
     "metadata": {},
     "output_type": "execute_result"
    }
   ],
   "source": [
    "success_count"
   ],
   "metadata": {
    "collapsed": false,
    "pycharm": {
     "name": "#%%\n"
    }
   }
  },
  {
   "cell_type": "code",
   "execution_count": 45,
   "outputs": [],
   "source": [
    "success_count = success_count.rename('Successes')"
   ],
   "metadata": {
    "collapsed": false,
    "pycharm": {
     "name": "#%%\n"
    }
   }
  },
  {
   "cell_type": "code",
   "execution_count": 47,
   "outputs": [
    {
     "data": {
      "text/plain": "<Figure size 640x480 with 1 Axes>",
      "image/png": "[encoded data removed]"
     },
     "metadata": {},
     "output_type": "display_data"
    }
   ],
   "source": [
    "sns.countplot(x=success_count);\n",
    "# График распределения числа успешных операций"
   ],
   "metadata": {
    "collapsed": false,
    "pycharm": {
     "name": "#%%\n"
    }
   }
  },
  {
   "cell_type": "markdown",
   "source": [
    "#### Визуализировать число успешных операций на платформе ***computer***"
   ],
   "metadata": {
    "collapsed": false,
    "pycharm": {
     "name": "#%% md\n"
    }
   }
  },
  {
   "cell_type": "code",
   "execution_count": 82,
   "outputs": [],
   "source": [
    "success_count_pc = data.query('success == True and platform == \"computer\"')\n",
    "# Создание ДФ, где только УСПЕШНЫЕ операции и тип платформы - ПК"
   ],
   "metadata": {
    "collapsed": false,
    "pycharm": {
     "name": "#%%\n"
    }
   }
  },
  {
   "cell_type": "code",
   "execution_count": 76,
   "outputs": [
    {
     "data": {
      "text/plain": "      client  premium  age  success  platform        time\n3      11989    False   44     True  computer  1585403698\n12     32406    False   24     True  computer  1585479382\n14     62404    False   40     True  computer  1585430097\n20     68848    False   35     True  computer  1585440553\n26     49675    False   48     True  computer  1585402108\n...      ...      ...  ...      ...       ...         ...\n3414   93718    False   63     True  computer  1585466349\n3415   13688     True   66     True  computer  1585453923\n3417   68348    False   69     True  computer  1585456739\n3427    9450    False   34     True  computer  1585446079\n3430   61851    False   31     True  computer  1585473042\n\n[843 rows x 6 columns]",
      "text/html": "<div>\n<style scoped>\n    .dataframe tbody tr th:only-of-type {\n        vertical-align: middle;\n    }\n\n    .dataframe tbody tr th {\n        vertical-align: top;\n    }\n\n    .dataframe thead th {\n        text-align: right;\n    }\n</style>\n<table border=\"1\" class=\"dataframe\">\n  <thead>\n    <tr style=\"text-align: right;\">\n      <th></th>\n      <th>client</th>\n      <th>premium</th>\n      <th>age</th>\n      <th>success</th>\n      <th>platform</th>\n      <th>time</th>\n    </tr>\n  </thead>\n  <tbody>\n    <tr>\n      <th>3</th>\n      <td>11989</td>\n      <td>False</td>\n      <td>44</td>\n      <td>True</td>\n      <td>computer</td>\n      <td>1585403698</td>\n    </tr>\n    <tr>\n      <th>12</th>\n      <td>32406</td>\n      <td>False</td>\n      <td>24</td>\n      <td>True</td>\n      <td>computer</td>\n      <td>1585479382</td>\n    </tr>\n    <tr>\n      <th>14</th>\n      <td>62404</td>\n      <td>False</td>\n      <td>40</td>\n      <td>True</td>\n      <td>computer</td>\n      <td>1585430097</td>\n    </tr>\n    <tr>\n      <th>20</th>\n      <td>68848</td>\n      <td>False</td>\n      <td>35</td>\n      <td>True</td>\n      <td>computer</td>\n      <td>1585440553</td>\n    </tr>\n    <tr>\n      <th>26</th>\n      <td>49675</td>\n      <td>False</td>\n      <td>48</td>\n      <td>True</td>\n      <td>computer</td>\n      <td>1585402108</td>\n    </tr>\n    <tr>\n      <th>...</th>\n      <td>...</td>\n      <td>...</td>\n      <td>...</td>\n      <td>...</td>\n      <td>...</td>\n      <td>...</td>\n    </tr>\n    <tr>\n      <th>3414</th>\n      <td>93718</td>\n      <td>False</td>\n      <td>63</td>\n      <td>True</td>\n      <td>computer</td>\n      <td>1585466349</td>\n    </tr>\n    <tr>\n      <th>3415</th>\n      <td>13688</td>\n      <td>True</td>\n      <td>66</td>\n      <td>True</td>\n      <td>computer</td>\n      <td>1585453923</td>\n    </tr>\n    <tr>\n      <th>3417</th>\n      <td>68348</td>\n      <td>False</td>\n      <td>69</td>\n      <td>True</td>\n      <td>computer</td>\n      <td>1585456739</td>\n    </tr>\n    <tr>\n      <th>3427</th>\n      <td>9450</td>\n      <td>False</td>\n      <td>34</td>\n      <td>True</td>\n      <td>computer</td>\n      <td>1585446079</td>\n    </tr>\n    <tr>\n      <th>3430</th>\n      <td>61851</td>\n      <td>False</td>\n      <td>31</td>\n      <td>True</td>\n      <td>computer</td>\n      <td>1585473042</td>\n    </tr>\n  </tbody>\n</table>\n<p>843 rows × 6 columns</p>\n</div>"
     },
     "execution_count": 76,
     "metadata": {},
     "output_type": "execute_result"
    }
   ],
   "source": [
    "success_count_pc"
   ],
   "metadata": {
    "collapsed": false,
    "pycharm": {
     "name": "#%%\n"
    }
   }
  },
  {
   "cell_type": "code",
   "execution_count": 81,
   "outputs": [
    {
     "data": {
      "text/plain": "<Figure size 2000x1000 with 1 Axes>",
      "image/png": "[encoded data removed]"
     },
     "metadata": {},
     "output_type": "display_data"
    }
   ],
   "source": [
    "plt.figure(figsize=(20, 10))\n",
    "sns.countplot(data=success_count_pc, x='age');\n",
    "# График распределения числа успешных операций"
   ],
   "metadata": {
    "collapsed": false,
    "pycharm": {
     "name": "#%%\n"
    }
   }
  },
  {
   "cell_type": "code",
   "execution_count": 78,
   "outputs": [
    {
     "data": {
      "text/plain": "<Figure size 1200x800 with 1 Axes>",
      "image/png": "[encoded data removed]"
     },
     "metadata": {},
     "output_type": "display_data"
    }
   ],
   "source": [
    "plt.figure(figsize=(12, 8));\n",
    "sns.countplot(data=data.loc[(data.platform == 'computer') & (data.success == True)], x='age');"
   ],
   "metadata": {
    "collapsed": false,
    "pycharm": {
     "name": "#%%\n"
    }
   }
  },
  {
   "cell_type": "markdown",
   "source": [
    "### Вопрос:\n",
    "#### Клиенты какого возраста совершили наибольшее количество успешных действий?"
   ],
   "metadata": {
    "collapsed": false,
    "pycharm": {
     "name": "#%% md\n"
    }
   }
  },
  {
   "cell_type": "markdown",
   "source": [
    "#### Ответ: 28"
   ],
   "metadata": {
    "collapsed": false,
    "pycharm": {
     "name": "#%% md\n"
    }
   }
  },
  {
   "cell_type": "code",
   "execution_count": null,
   "outputs": [],
   "source": [],
   "metadata": {
    "collapsed": false,
    "pycharm": {
     "name": "#%%\n"
    }
   }
  }
 ],
 "metadata": {
  "kernelspec": {
   "display_name": "Python 3",
   "language": "python",
   "name": "python3"
  },
  "language_info": {
   "codemirror_mode": {
    "name": "ipython",
    "version": 2
   },
   "file_extension": ".py",
   "mimetype": "text/x-python",
   "name": "python",
   "nbconvert_exporter": "python",
   "pygments_lexer": "ipython2",
   "version": "2.7.6"
  }
 },
 "nbformat": 4,
 "nbformat_minor": 0
}