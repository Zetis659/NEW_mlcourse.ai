{
 "cells": [
  {
   "cell_type": "code",
   "execution_count": 1,
   "outputs": [],
   "source": [
    "import pandas as pd\n",
    "import numpy as np"
   ],
   "metadata": {
    "collapsed": false,
    "pycharm": {
     "name": "#%%\n"
    }
   }
  },
  {
   "cell_type": "code",
   "execution_count": null,
   "outputs": [],
   "source": [],
   "metadata": {
    "collapsed": false,
    "pycharm": {
     "name": "#%%\n"
    }
   }
  },
  {
   "cell_type": "code",
   "execution_count": 2,
   "metadata": {
    "collapsed": true
   },
   "outputs": [],
   "source": [
    "names = 'Name1 Surname1, Name2 Surname2,'"
   ]
  },
  {
   "cell_type": "code",
   "execution_count": 5,
   "outputs": [],
   "source": [
    "names_list = names.split(',')"
   ],
   "metadata": {
    "collapsed": false,
    "pycharm": {
     "name": "#%%\n"
    }
   }
  },
  {
   "cell_type": "code",
   "execution_count": 6,
   "outputs": [
    {
     "data": {
      "text/plain": "['Name1 Surname1', ' Name2 Surname2', '']"
     },
     "execution_count": 6,
     "metadata": {},
     "output_type": "execute_result"
    }
   ],
   "source": [
    "names_list"
   ],
   "metadata": {
    "collapsed": false,
    "pycharm": {
     "name": "#%%\n"
    }
   }
  },
  {
   "cell_type": "code",
   "execution_count": null,
   "outputs": [],
   "source": [],
   "metadata": {
    "collapsed": false,
    "pycharm": {
     "name": "#%%\n"
    }
   }
  },
  {
   "cell_type": "code",
   "execution_count": 4,
   "outputs": [],
   "source": [
    "df = pd.DataFrame({'client_id': np.random.randint(1, 10000, 30),\n",
    "                                'sex': np.random.choice([0, 1], 30),\n",
    "                                'wealth': np.random.choice(['low', 'medium', 'high'], 30),\n",
    "                                'age': np.random.randint(20, 70, 30)})"
   ],
   "metadata": {
    "collapsed": false,
    "pycharm": {
     "name": "#%%\n"
    }
   }
  },
  {
   "cell_type": "code",
   "execution_count": 5,
   "outputs": [
    {
     "data": {
      "text/plain": "    client_id  sex  wealth  age\n0        2717    0     low   26\n1        1366    1     low   51\n2        2198    0    high   45\n3        9278    0    high   37\n4        2887    1    high   22\n5        4957    0     low   55\n6        3337    1     low   29\n7        3136    0    high   52\n8        1083    0     low   54\n9        7329    0  medium   55\n10       6706    0     low   46\n11       5157    1  medium   59\n12       1427    0  medium   65\n13       1674    0  medium   41\n14       1250    1     low   34\n15       6110    0     low   30\n16       6069    0     low   66\n17       9025    0  medium   36\n18       1213    1    high   20\n19       3309    0  medium   56\n20       7152    0     low   27\n21       8006    0  medium   49\n22       6263    1     low   29\n23       8547    1    high   59\n24       5873    0  medium   58\n25       4113    0     low   36\n26       9248    1    high   24\n27       9291    0    high   69\n28       2442    0    high   32\n29       8808    1    high   24",
      "text/html": "<div>\n<style scoped>\n    .dataframe tbody tr th:only-of-type {\n        vertical-align: middle;\n    }\n\n    .dataframe tbody tr th {\n        vertical-align: top;\n    }\n\n    .dataframe thead th {\n        text-align: right;\n    }\n</style>\n<table border=\"1\" class=\"dataframe\">\n  <thead>\n    <tr style=\"text-align: right;\">\n      <th></th>\n      <th>client_id</th>\n      <th>sex</th>\n      <th>wealth</th>\n      <th>age</th>\n    </tr>\n  </thead>\n  <tbody>\n    <tr>\n      <th>0</th>\n      <td>2717</td>\n      <td>0</td>\n      <td>low</td>\n      <td>26</td>\n    </tr>\n    <tr>\n      <th>1</th>\n      <td>1366</td>\n      <td>1</td>\n      <td>low</td>\n      <td>51</td>\n    </tr>\n    <tr>\n      <th>2</th>\n      <td>2198</td>\n      <td>0</td>\n      <td>high</td>\n      <td>45</td>\n    </tr>\n    <tr>\n      <th>3</th>\n      <td>9278</td>\n      <td>0</td>\n      <td>high</td>\n      <td>37</td>\n    </tr>\n    <tr>\n      <th>4</th>\n      <td>2887</td>\n      <td>1</td>\n      <td>high</td>\n      <td>22</td>\n    </tr>\n    <tr>\n      <th>5</th>\n      <td>4957</td>\n      <td>0</td>\n      <td>low</td>\n      <td>55</td>\n    </tr>\n    <tr>\n      <th>6</th>\n      <td>3337</td>\n      <td>1</td>\n      <td>low</td>\n      <td>29</td>\n    </tr>\n    <tr>\n      <th>7</th>\n      <td>3136</td>\n      <td>0</td>\n      <td>high</td>\n      <td>52</td>\n    </tr>\n    <tr>\n      <th>8</th>\n      <td>1083</td>\n      <td>0</td>\n      <td>low</td>\n      <td>54</td>\n    </tr>\n    <tr>\n      <th>9</th>\n      <td>7329</td>\n      <td>0</td>\n      <td>medium</td>\n      <td>55</td>\n    </tr>\n    <tr>\n      <th>10</th>\n      <td>6706</td>\n      <td>0</td>\n      <td>low</td>\n      <td>46</td>\n    </tr>\n    <tr>\n      <th>11</th>\n      <td>5157</td>\n      <td>1</td>\n      <td>medium</td>\n      <td>59</td>\n    </tr>\n    <tr>\n      <th>12</th>\n      <td>1427</td>\n      <td>0</td>\n      <td>medium</td>\n      <td>65</td>\n    </tr>\n    <tr>\n      <th>13</th>\n      <td>1674</td>\n      <td>0</td>\n      <td>medium</td>\n      <td>41</td>\n    </tr>\n    <tr>\n      <th>14</th>\n      <td>1250</td>\n      <td>1</td>\n      <td>low</td>\n      <td>34</td>\n    </tr>\n    <tr>\n      <th>15</th>\n      <td>6110</td>\n      <td>0</td>\n      <td>low</td>\n      <td>30</td>\n    </tr>\n    <tr>\n      <th>16</th>\n      <td>6069</td>\n      <td>0</td>\n      <td>low</td>\n      <td>66</td>\n    </tr>\n    <tr>\n      <th>17</th>\n      <td>9025</td>\n      <td>0</td>\n      <td>medium</td>\n      <td>36</td>\n    </tr>\n    <tr>\n      <th>18</th>\n      <td>1213</td>\n      <td>1</td>\n      <td>high</td>\n      <td>20</td>\n    </tr>\n    <tr>\n      <th>19</th>\n      <td>3309</td>\n      <td>0</td>\n      <td>medium</td>\n      <td>56</td>\n    </tr>\n    <tr>\n      <th>20</th>\n      <td>7152</td>\n      <td>0</td>\n      <td>low</td>\n      <td>27</td>\n    </tr>\n    <tr>\n      <th>21</th>\n      <td>8006</td>\n      <td>0</td>\n      <td>medium</td>\n      <td>49</td>\n    </tr>\n    <tr>\n      <th>22</th>\n      <td>6263</td>\n      <td>1</td>\n      <td>low</td>\n      <td>29</td>\n    </tr>\n    <tr>\n      <th>23</th>\n      <td>8547</td>\n      <td>1</td>\n      <td>high</td>\n      <td>59</td>\n    </tr>\n    <tr>\n      <th>24</th>\n      <td>5873</td>\n      <td>0</td>\n      <td>medium</td>\n      <td>58</td>\n    </tr>\n    <tr>\n      <th>25</th>\n      <td>4113</td>\n      <td>0</td>\n      <td>low</td>\n      <td>36</td>\n    </tr>\n    <tr>\n      <th>26</th>\n      <td>9248</td>\n      <td>1</td>\n      <td>high</td>\n      <td>24</td>\n    </tr>\n    <tr>\n      <th>27</th>\n      <td>9291</td>\n      <td>0</td>\n      <td>high</td>\n      <td>69</td>\n    </tr>\n    <tr>\n      <th>28</th>\n      <td>2442</td>\n      <td>0</td>\n      <td>high</td>\n      <td>32</td>\n    </tr>\n    <tr>\n      <th>29</th>\n      <td>8808</td>\n      <td>1</td>\n      <td>high</td>\n      <td>24</td>\n    </tr>\n  </tbody>\n</table>\n</div>"
     },
     "execution_count": 5,
     "metadata": {},
     "output_type": "execute_result"
    }
   ],
   "source": [
    "df"
   ],
   "metadata": {
    "collapsed": false,
    "pycharm": {
     "name": "#%%\n"
    }
   }
  },
  {
   "cell_type": "code",
   "execution_count": 7,
   "outputs": [],
   "source": [
    "medium_35 = df.loc[(df.wealth == 'medium') & (df.age > 35)]"
   ],
   "metadata": {
    "collapsed": false,
    "pycharm": {
     "name": "#%%\n"
    }
   }
  },
  {
   "cell_type": "code",
   "execution_count": 8,
   "outputs": [
    {
     "data": {
      "text/plain": "    client_id  sex  wealth  age\n9        7329    0  medium   55\n11       5157    1  medium   59\n12       1427    0  medium   65\n13       1674    0  medium   41\n17       9025    0  medium   36\n19       3309    0  medium   56\n21       8006    0  medium   49\n24       5873    0  medium   58",
      "text/html": "<div>\n<style scoped>\n    .dataframe tbody tr th:only-of-type {\n        vertical-align: middle;\n    }\n\n    .dataframe tbody tr th {\n        vertical-align: top;\n    }\n\n    .dataframe thead th {\n        text-align: right;\n    }\n</style>\n<table border=\"1\" class=\"dataframe\">\n  <thead>\n    <tr style=\"text-align: right;\">\n      <th></th>\n      <th>client_id</th>\n      <th>sex</th>\n      <th>wealth</th>\n      <th>age</th>\n    </tr>\n  </thead>\n  <tbody>\n    <tr>\n      <th>9</th>\n      <td>7329</td>\n      <td>0</td>\n      <td>medium</td>\n      <td>55</td>\n    </tr>\n    <tr>\n      <th>11</th>\n      <td>5157</td>\n      <td>1</td>\n      <td>medium</td>\n      <td>59</td>\n    </tr>\n    <tr>\n      <th>12</th>\n      <td>1427</td>\n      <td>0</td>\n      <td>medium</td>\n      <td>65</td>\n    </tr>\n    <tr>\n      <th>13</th>\n      <td>1674</td>\n      <td>0</td>\n      <td>medium</td>\n      <td>41</td>\n    </tr>\n    <tr>\n      <th>17</th>\n      <td>9025</td>\n      <td>0</td>\n      <td>medium</td>\n      <td>36</td>\n    </tr>\n    <tr>\n      <th>19</th>\n      <td>3309</td>\n      <td>0</td>\n      <td>medium</td>\n      <td>56</td>\n    </tr>\n    <tr>\n      <th>21</th>\n      <td>8006</td>\n      <td>0</td>\n      <td>medium</td>\n      <td>49</td>\n    </tr>\n    <tr>\n      <th>24</th>\n      <td>5873</td>\n      <td>0</td>\n      <td>medium</td>\n      <td>58</td>\n    </tr>\n  </tbody>\n</table>\n</div>"
     },
     "execution_count": 8,
     "metadata": {},
     "output_type": "execute_result"
    }
   ],
   "source": [
    "medium_35"
   ],
   "metadata": {
    "collapsed": false,
    "pycharm": {
     "name": "#%%\n"
    }
   }
  },
  {
   "cell_type": "code",
   "execution_count": 9,
   "outputs": [],
   "source": [
    "medium_36 = df.query('wealth == \"medium\" and age > 35')"
   ],
   "metadata": {
    "collapsed": false,
    "pycharm": {
     "name": "#%%\n"
    }
   }
  },
  {
   "cell_type": "code",
   "source": [
    "medium_36"
   ],
   "metadata": {
    "collapsed": false,
    "pycharm": {
     "name": "#%%\n"
    }
   },
   "execution_count": 10,
   "outputs": [
    {
     "data": {
      "text/plain": "    client_id  sex  wealth  age\n9        7329    0  medium   55\n11       5157    1  medium   59\n12       1427    0  medium   65\n13       1674    0  medium   41\n17       9025    0  medium   36\n19       3309    0  medium   56\n21       8006    0  medium   49\n24       5873    0  medium   58",
      "text/html": "<div>\n<style scoped>\n    .dataframe tbody tr th:only-of-type {\n        vertical-align: middle;\n    }\n\n    .dataframe tbody tr th {\n        vertical-align: top;\n    }\n\n    .dataframe thead th {\n        text-align: right;\n    }\n</style>\n<table border=\"1\" class=\"dataframe\">\n  <thead>\n    <tr style=\"text-align: right;\">\n      <th></th>\n      <th>client_id</th>\n      <th>sex</th>\n      <th>wealth</th>\n      <th>age</th>\n    </tr>\n  </thead>\n  <tbody>\n    <tr>\n      <th>9</th>\n      <td>7329</td>\n      <td>0</td>\n      <td>medium</td>\n      <td>55</td>\n    </tr>\n    <tr>\n      <th>11</th>\n      <td>5157</td>\n      <td>1</td>\n      <td>medium</td>\n      <td>59</td>\n    </tr>\n    <tr>\n      <th>12</th>\n      <td>1427</td>\n      <td>0</td>\n      <td>medium</td>\n      <td>65</td>\n    </tr>\n    <tr>\n      <th>13</th>\n      <td>1674</td>\n      <td>0</td>\n      <td>medium</td>\n      <td>41</td>\n    </tr>\n    <tr>\n      <th>17</th>\n      <td>9025</td>\n      <td>0</td>\n      <td>medium</td>\n      <td>36</td>\n    </tr>\n    <tr>\n      <th>19</th>\n      <td>3309</td>\n      <td>0</td>\n      <td>medium</td>\n      <td>56</td>\n    </tr>\n    <tr>\n      <th>21</th>\n      <td>8006</td>\n      <td>0</td>\n      <td>medium</td>\n      <td>49</td>\n    </tr>\n    <tr>\n      <th>24</th>\n      <td>5873</td>\n      <td>0</td>\n      <td>medium</td>\n      <td>58</td>\n    </tr>\n  </tbody>\n</table>\n</div>"
     },
     "execution_count": 10,
     "metadata": {},
     "output_type": "execute_result"
    }
   ]
  },
  {
   "cell_type": "code",
   "execution_count": 11,
   "outputs": [],
   "source": [
    "df1 = df.rename(columns={'client_id': 'Клиент id', 'sex': 'Пол', 'wealth': 'Благосостояние', 'age': 'Возраст'})"
   ],
   "metadata": {
    "collapsed": false,
    "pycharm": {
     "name": "#%%\n"
    }
   }
  },
  {
   "cell_type": "code",
   "execution_count": 12,
   "outputs": [
    {
     "data": {
      "text/plain": "    Клиент id  Пол Благосостояние  Возраст\n0        2717    0            low       26\n1        1366    1            low       51\n2        2198    0           high       45\n3        9278    0           high       37\n4        2887    1           high       22\n5        4957    0            low       55\n6        3337    1            low       29\n7        3136    0           high       52\n8        1083    0            low       54\n9        7329    0         medium       55\n10       6706    0            low       46\n11       5157    1         medium       59\n12       1427    0         medium       65\n13       1674    0         medium       41\n14       1250    1            low       34\n15       6110    0            low       30\n16       6069    0            low       66\n17       9025    0         medium       36\n18       1213    1           high       20\n19       3309    0         medium       56\n20       7152    0            low       27\n21       8006    0         medium       49\n22       6263    1            low       29\n23       8547    1           high       59\n24       5873    0         medium       58\n25       4113    0            low       36\n26       9248    1           high       24\n27       9291    0           high       69\n28       2442    0           high       32\n29       8808    1           high       24",
      "text/html": "<div>\n<style scoped>\n    .dataframe tbody tr th:only-of-type {\n        vertical-align: middle;\n    }\n\n    .dataframe tbody tr th {\n        vertical-align: top;\n    }\n\n    .dataframe thead th {\n        text-align: right;\n    }\n</style>\n<table border=\"1\" class=\"dataframe\">\n  <thead>\n    <tr style=\"text-align: right;\">\n      <th></th>\n      <th>Клиент id</th>\n      <th>Пол</th>\n      <th>Благосостояние</th>\n      <th>Возраст</th>\n    </tr>\n  </thead>\n  <tbody>\n    <tr>\n      <th>0</th>\n      <td>2717</td>\n      <td>0</td>\n      <td>low</td>\n      <td>26</td>\n    </tr>\n    <tr>\n      <th>1</th>\n      <td>1366</td>\n      <td>1</td>\n      <td>low</td>\n      <td>51</td>\n    </tr>\n    <tr>\n      <th>2</th>\n      <td>2198</td>\n      <td>0</td>\n      <td>high</td>\n      <td>45</td>\n    </tr>\n    <tr>\n      <th>3</th>\n      <td>9278</td>\n      <td>0</td>\n      <td>high</td>\n      <td>37</td>\n    </tr>\n    <tr>\n      <th>4</th>\n      <td>2887</td>\n      <td>1</td>\n      <td>high</td>\n      <td>22</td>\n    </tr>\n    <tr>\n      <th>5</th>\n      <td>4957</td>\n      <td>0</td>\n      <td>low</td>\n      <td>55</td>\n    </tr>\n    <tr>\n      <th>6</th>\n      <td>3337</td>\n      <td>1</td>\n      <td>low</td>\n      <td>29</td>\n    </tr>\n    <tr>\n      <th>7</th>\n      <td>3136</td>\n      <td>0</td>\n      <td>high</td>\n      <td>52</td>\n    </tr>\n    <tr>\n      <th>8</th>\n      <td>1083</td>\n      <td>0</td>\n      <td>low</td>\n      <td>54</td>\n    </tr>\n    <tr>\n      <th>9</th>\n      <td>7329</td>\n      <td>0</td>\n      <td>medium</td>\n      <td>55</td>\n    </tr>\n    <tr>\n      <th>10</th>\n      <td>6706</td>\n      <td>0</td>\n      <td>low</td>\n      <td>46</td>\n    </tr>\n    <tr>\n      <th>11</th>\n      <td>5157</td>\n      <td>1</td>\n      <td>medium</td>\n      <td>59</td>\n    </tr>\n    <tr>\n      <th>12</th>\n      <td>1427</td>\n      <td>0</td>\n      <td>medium</td>\n      <td>65</td>\n    </tr>\n    <tr>\n      <th>13</th>\n      <td>1674</td>\n      <td>0</td>\n      <td>medium</td>\n      <td>41</td>\n    </tr>\n    <tr>\n      <th>14</th>\n      <td>1250</td>\n      <td>1</td>\n      <td>low</td>\n      <td>34</td>\n    </tr>\n    <tr>\n      <th>15</th>\n      <td>6110</td>\n      <td>0</td>\n      <td>low</td>\n      <td>30</td>\n    </tr>\n    <tr>\n      <th>16</th>\n      <td>6069</td>\n      <td>0</td>\n      <td>low</td>\n      <td>66</td>\n    </tr>\n    <tr>\n      <th>17</th>\n      <td>9025</td>\n      <td>0</td>\n      <td>medium</td>\n      <td>36</td>\n    </tr>\n    <tr>\n      <th>18</th>\n      <td>1213</td>\n      <td>1</td>\n      <td>high</td>\n      <td>20</td>\n    </tr>\n    <tr>\n      <th>19</th>\n      <td>3309</td>\n      <td>0</td>\n      <td>medium</td>\n      <td>56</td>\n    </tr>\n    <tr>\n      <th>20</th>\n      <td>7152</td>\n      <td>0</td>\n      <td>low</td>\n      <td>27</td>\n    </tr>\n    <tr>\n      <th>21</th>\n      <td>8006</td>\n      <td>0</td>\n      <td>medium</td>\n      <td>49</td>\n    </tr>\n    <tr>\n      <th>22</th>\n      <td>6263</td>\n      <td>1</td>\n      <td>low</td>\n      <td>29</td>\n    </tr>\n    <tr>\n      <th>23</th>\n      <td>8547</td>\n      <td>1</td>\n      <td>high</td>\n      <td>59</td>\n    </tr>\n    <tr>\n      <th>24</th>\n      <td>5873</td>\n      <td>0</td>\n      <td>medium</td>\n      <td>58</td>\n    </tr>\n    <tr>\n      <th>25</th>\n      <td>4113</td>\n      <td>0</td>\n      <td>low</td>\n      <td>36</td>\n    </tr>\n    <tr>\n      <th>26</th>\n      <td>9248</td>\n      <td>1</td>\n      <td>high</td>\n      <td>24</td>\n    </tr>\n    <tr>\n      <th>27</th>\n      <td>9291</td>\n      <td>0</td>\n      <td>high</td>\n      <td>69</td>\n    </tr>\n    <tr>\n      <th>28</th>\n      <td>2442</td>\n      <td>0</td>\n      <td>high</td>\n      <td>32</td>\n    </tr>\n    <tr>\n      <th>29</th>\n      <td>8808</td>\n      <td>1</td>\n      <td>high</td>\n      <td>24</td>\n    </tr>\n  </tbody>\n</table>\n</div>"
     },
     "execution_count": 12,
     "metadata": {},
     "output_type": "execute_result"
    }
   ],
   "source": [
    "df1"
   ],
   "metadata": {
    "collapsed": false,
    "pycharm": {
     "name": "#%%\n"
    }
   }
  },
  {
   "cell_type": "code",
   "execution_count": 13,
   "outputs": [],
   "source": [
    "df2 = df1.rename(columns={'Клиент id': 'client_id',\n",
    "                          'Пол': 'sex',\n",
    "                          'Благосостояние': 'wealth',\n",
    "                          'Возраст': 'age'})"
   ],
   "metadata": {
    "collapsed": false,
    "pycharm": {
     "name": "#%%\n"
    }
   }
  },
  {
   "cell_type": "code",
   "execution_count": 14,
   "outputs": [
    {
     "data": {
      "text/plain": "    client_id  sex  wealth  age\n0        2717    0     low   26\n1        1366    1     low   51\n2        2198    0    high   45\n3        9278    0    high   37\n4        2887    1    high   22\n5        4957    0     low   55\n6        3337    1     low   29\n7        3136    0    high   52\n8        1083    0     low   54\n9        7329    0  medium   55\n10       6706    0     low   46\n11       5157    1  medium   59\n12       1427    0  medium   65\n13       1674    0  medium   41\n14       1250    1     low   34\n15       6110    0     low   30\n16       6069    0     low   66\n17       9025    0  medium   36\n18       1213    1    high   20\n19       3309    0  medium   56\n20       7152    0     low   27\n21       8006    0  medium   49\n22       6263    1     low   29\n23       8547    1    high   59\n24       5873    0  medium   58\n25       4113    0     low   36\n26       9248    1    high   24\n27       9291    0    high   69\n28       2442    0    high   32\n29       8808    1    high   24",
      "text/html": "<div>\n<style scoped>\n    .dataframe tbody tr th:only-of-type {\n        vertical-align: middle;\n    }\n\n    .dataframe tbody tr th {\n        vertical-align: top;\n    }\n\n    .dataframe thead th {\n        text-align: right;\n    }\n</style>\n<table border=\"1\" class=\"dataframe\">\n  <thead>\n    <tr style=\"text-align: right;\">\n      <th></th>\n      <th>client_id</th>\n      <th>sex</th>\n      <th>wealth</th>\n      <th>age</th>\n    </tr>\n  </thead>\n  <tbody>\n    <tr>\n      <th>0</th>\n      <td>2717</td>\n      <td>0</td>\n      <td>low</td>\n      <td>26</td>\n    </tr>\n    <tr>\n      <th>1</th>\n      <td>1366</td>\n      <td>1</td>\n      <td>low</td>\n      <td>51</td>\n    </tr>\n    <tr>\n      <th>2</th>\n      <td>2198</td>\n      <td>0</td>\n      <td>high</td>\n      <td>45</td>\n    </tr>\n    <tr>\n      <th>3</th>\n      <td>9278</td>\n      <td>0</td>\n      <td>high</td>\n      <td>37</td>\n    </tr>\n    <tr>\n      <th>4</th>\n      <td>2887</td>\n      <td>1</td>\n      <td>high</td>\n      <td>22</td>\n    </tr>\n    <tr>\n      <th>5</th>\n      <td>4957</td>\n      <td>0</td>\n      <td>low</td>\n      <td>55</td>\n    </tr>\n    <tr>\n      <th>6</th>\n      <td>3337</td>\n      <td>1</td>\n      <td>low</td>\n      <td>29</td>\n    </tr>\n    <tr>\n      <th>7</th>\n      <td>3136</td>\n      <td>0</td>\n      <td>high</td>\n      <td>52</td>\n    </tr>\n    <tr>\n      <th>8</th>\n      <td>1083</td>\n      <td>0</td>\n      <td>low</td>\n      <td>54</td>\n    </tr>\n    <tr>\n      <th>9</th>\n      <td>7329</td>\n      <td>0</td>\n      <td>medium</td>\n      <td>55</td>\n    </tr>\n    <tr>\n      <th>10</th>\n      <td>6706</td>\n      <td>0</td>\n      <td>low</td>\n      <td>46</td>\n    </tr>\n    <tr>\n      <th>11</th>\n      <td>5157</td>\n      <td>1</td>\n      <td>medium</td>\n      <td>59</td>\n    </tr>\n    <tr>\n      <th>12</th>\n      <td>1427</td>\n      <td>0</td>\n      <td>medium</td>\n      <td>65</td>\n    </tr>\n    <tr>\n      <th>13</th>\n      <td>1674</td>\n      <td>0</td>\n      <td>medium</td>\n      <td>41</td>\n    </tr>\n    <tr>\n      <th>14</th>\n      <td>1250</td>\n      <td>1</td>\n      <td>low</td>\n      <td>34</td>\n    </tr>\n    <tr>\n      <th>15</th>\n      <td>6110</td>\n      <td>0</td>\n      <td>low</td>\n      <td>30</td>\n    </tr>\n    <tr>\n      <th>16</th>\n      <td>6069</td>\n      <td>0</td>\n      <td>low</td>\n      <td>66</td>\n    </tr>\n    <tr>\n      <th>17</th>\n      <td>9025</td>\n      <td>0</td>\n      <td>medium</td>\n      <td>36</td>\n    </tr>\n    <tr>\n      <th>18</th>\n      <td>1213</td>\n      <td>1</td>\n      <td>high</td>\n      <td>20</td>\n    </tr>\n    <tr>\n      <th>19</th>\n      <td>3309</td>\n      <td>0</td>\n      <td>medium</td>\n      <td>56</td>\n    </tr>\n    <tr>\n      <th>20</th>\n      <td>7152</td>\n      <td>0</td>\n      <td>low</td>\n      <td>27</td>\n    </tr>\n    <tr>\n      <th>21</th>\n      <td>8006</td>\n      <td>0</td>\n      <td>medium</td>\n      <td>49</td>\n    </tr>\n    <tr>\n      <th>22</th>\n      <td>6263</td>\n      <td>1</td>\n      <td>low</td>\n      <td>29</td>\n    </tr>\n    <tr>\n      <th>23</th>\n      <td>8547</td>\n      <td>1</td>\n      <td>high</td>\n      <td>59</td>\n    </tr>\n    <tr>\n      <th>24</th>\n      <td>5873</td>\n      <td>0</td>\n      <td>medium</td>\n      <td>58</td>\n    </tr>\n    <tr>\n      <th>25</th>\n      <td>4113</td>\n      <td>0</td>\n      <td>low</td>\n      <td>36</td>\n    </tr>\n    <tr>\n      <th>26</th>\n      <td>9248</td>\n      <td>1</td>\n      <td>high</td>\n      <td>24</td>\n    </tr>\n    <tr>\n      <th>27</th>\n      <td>9291</td>\n      <td>0</td>\n      <td>high</td>\n      <td>69</td>\n    </tr>\n    <tr>\n      <th>28</th>\n      <td>2442</td>\n      <td>0</td>\n      <td>high</td>\n      <td>32</td>\n    </tr>\n    <tr>\n      <th>29</th>\n      <td>8808</td>\n      <td>1</td>\n      <td>high</td>\n      <td>24</td>\n    </tr>\n  </tbody>\n</table>\n</div>"
     },
     "execution_count": 14,
     "metadata": {},
     "output_type": "execute_result"
    }
   ],
   "source": [
    "df2"
   ],
   "metadata": {
    "collapsed": false,
    "pycharm": {
     "name": "#%%\n"
    }
   }
  },
  {
   "cell_type": "code",
   "execution_count": null,
   "outputs": [],
   "source": [],
   "metadata": {
    "collapsed": false,
    "pycharm": {
     "name": "#%%\n"
    }
   }
  },
  {
   "cell_type": "code",
   "execution_count": 15,
   "outputs": [],
   "source": [
    "df['older_than_30'] = df.age > 30"
   ],
   "metadata": {
    "collapsed": false,
    "pycharm": {
     "name": "#%%\n"
    }
   }
  },
  {
   "cell_type": "code",
   "execution_count": 16,
   "outputs": [
    {
     "data": {
      "text/plain": "    client_id  sex  wealth  age  older_than_30\n0        2717    0     low   26          False\n1        1366    1     low   51           True\n2        2198    0    high   45           True\n3        9278    0    high   37           True\n4        2887    1    high   22          False\n5        4957    0     low   55           True\n6        3337    1     low   29          False\n7        3136    0    high   52           True\n8        1083    0     low   54           True\n9        7329    0  medium   55           True\n10       6706    0     low   46           True\n11       5157    1  medium   59           True\n12       1427    0  medium   65           True\n13       1674    0  medium   41           True\n14       1250    1     low   34           True\n15       6110    0     low   30          False\n16       6069    0     low   66           True\n17       9025    0  medium   36           True\n18       1213    1    high   20          False\n19       3309    0  medium   56           True\n20       7152    0     low   27          False\n21       8006    0  medium   49           True\n22       6263    1     low   29          False\n23       8547    1    high   59           True\n24       5873    0  medium   58           True\n25       4113    0     low   36           True\n26       9248    1    high   24          False\n27       9291    0    high   69           True\n28       2442    0    high   32           True\n29       8808    1    high   24          False",
      "text/html": "<div>\n<style scoped>\n    .dataframe tbody tr th:only-of-type {\n        vertical-align: middle;\n    }\n\n    .dataframe tbody tr th {\n        vertical-align: top;\n    }\n\n    .dataframe thead th {\n        text-align: right;\n    }\n</style>\n<table border=\"1\" class=\"dataframe\">\n  <thead>\n    <tr style=\"text-align: right;\">\n      <th></th>\n      <th>client_id</th>\n      <th>sex</th>\n      <th>wealth</th>\n      <th>age</th>\n      <th>older_than_30</th>\n    </tr>\n  </thead>\n  <tbody>\n    <tr>\n      <th>0</th>\n      <td>2717</td>\n      <td>0</td>\n      <td>low</td>\n      <td>26</td>\n      <td>False</td>\n    </tr>\n    <tr>\n      <th>1</th>\n      <td>1366</td>\n      <td>1</td>\n      <td>low</td>\n      <td>51</td>\n      <td>True</td>\n    </tr>\n    <tr>\n      <th>2</th>\n      <td>2198</td>\n      <td>0</td>\n      <td>high</td>\n      <td>45</td>\n      <td>True</td>\n    </tr>\n    <tr>\n      <th>3</th>\n      <td>9278</td>\n      <td>0</td>\n      <td>high</td>\n      <td>37</td>\n      <td>True</td>\n    </tr>\n    <tr>\n      <th>4</th>\n      <td>2887</td>\n      <td>1</td>\n      <td>high</td>\n      <td>22</td>\n      <td>False</td>\n    </tr>\n    <tr>\n      <th>5</th>\n      <td>4957</td>\n      <td>0</td>\n      <td>low</td>\n      <td>55</td>\n      <td>True</td>\n    </tr>\n    <tr>\n      <th>6</th>\n      <td>3337</td>\n      <td>1</td>\n      <td>low</td>\n      <td>29</td>\n      <td>False</td>\n    </tr>\n    <tr>\n      <th>7</th>\n      <td>3136</td>\n      <td>0</td>\n      <td>high</td>\n      <td>52</td>\n      <td>True</td>\n    </tr>\n    <tr>\n      <th>8</th>\n      <td>1083</td>\n      <td>0</td>\n      <td>low</td>\n      <td>54</td>\n      <td>True</td>\n    </tr>\n    <tr>\n      <th>9</th>\n      <td>7329</td>\n      <td>0</td>\n      <td>medium</td>\n      <td>55</td>\n      <td>True</td>\n    </tr>\n    <tr>\n      <th>10</th>\n      <td>6706</td>\n      <td>0</td>\n      <td>low</td>\n      <td>46</td>\n      <td>True</td>\n    </tr>\n    <tr>\n      <th>11</th>\n      <td>5157</td>\n      <td>1</td>\n      <td>medium</td>\n      <td>59</td>\n      <td>True</td>\n    </tr>\n    <tr>\n      <th>12</th>\n      <td>1427</td>\n      <td>0</td>\n      <td>medium</td>\n      <td>65</td>\n      <td>True</td>\n    </tr>\n    <tr>\n      <th>13</th>\n      <td>1674</td>\n      <td>0</td>\n      <td>medium</td>\n      <td>41</td>\n      <td>True</td>\n    </tr>\n    <tr>\n      <th>14</th>\n      <td>1250</td>\n      <td>1</td>\n      <td>low</td>\n      <td>34</td>\n      <td>True</td>\n    </tr>\n    <tr>\n      <th>15</th>\n      <td>6110</td>\n      <td>0</td>\n      <td>low</td>\n      <td>30</td>\n      <td>False</td>\n    </tr>\n    <tr>\n      <th>16</th>\n      <td>6069</td>\n      <td>0</td>\n      <td>low</td>\n      <td>66</td>\n      <td>True</td>\n    </tr>\n    <tr>\n      <th>17</th>\n      <td>9025</td>\n      <td>0</td>\n      <td>medium</td>\n      <td>36</td>\n      <td>True</td>\n    </tr>\n    <tr>\n      <th>18</th>\n      <td>1213</td>\n      <td>1</td>\n      <td>high</td>\n      <td>20</td>\n      <td>False</td>\n    </tr>\n    <tr>\n      <th>19</th>\n      <td>3309</td>\n      <td>0</td>\n      <td>medium</td>\n      <td>56</td>\n      <td>True</td>\n    </tr>\n    <tr>\n      <th>20</th>\n      <td>7152</td>\n      <td>0</td>\n      <td>low</td>\n      <td>27</td>\n      <td>False</td>\n    </tr>\n    <tr>\n      <th>21</th>\n      <td>8006</td>\n      <td>0</td>\n      <td>medium</td>\n      <td>49</td>\n      <td>True</td>\n    </tr>\n    <tr>\n      <th>22</th>\n      <td>6263</td>\n      <td>1</td>\n      <td>low</td>\n      <td>29</td>\n      <td>False</td>\n    </tr>\n    <tr>\n      <th>23</th>\n      <td>8547</td>\n      <td>1</td>\n      <td>high</td>\n      <td>59</td>\n      <td>True</td>\n    </tr>\n    <tr>\n      <th>24</th>\n      <td>5873</td>\n      <td>0</td>\n      <td>medium</td>\n      <td>58</td>\n      <td>True</td>\n    </tr>\n    <tr>\n      <th>25</th>\n      <td>4113</td>\n      <td>0</td>\n      <td>low</td>\n      <td>36</td>\n      <td>True</td>\n    </tr>\n    <tr>\n      <th>26</th>\n      <td>9248</td>\n      <td>1</td>\n      <td>high</td>\n      <td>24</td>\n      <td>False</td>\n    </tr>\n    <tr>\n      <th>27</th>\n      <td>9291</td>\n      <td>0</td>\n      <td>high</td>\n      <td>69</td>\n      <td>True</td>\n    </tr>\n    <tr>\n      <th>28</th>\n      <td>2442</td>\n      <td>0</td>\n      <td>high</td>\n      <td>32</td>\n      <td>True</td>\n    </tr>\n    <tr>\n      <th>29</th>\n      <td>8808</td>\n      <td>1</td>\n      <td>high</td>\n      <td>24</td>\n      <td>False</td>\n    </tr>\n  </tbody>\n</table>\n</div>"
     },
     "execution_count": 16,
     "metadata": {},
     "output_type": "execute_result"
    }
   ],
   "source": [
    "df"
   ],
   "metadata": {
    "collapsed": false,
    "pycharm": {
     "name": "#%%\n"
    }
   }
  },
  {
   "cell_type": "code",
   "execution_count": 18,
   "outputs": [],
   "source": [
    "unique_num = df.nunique()"
   ],
   "metadata": {
    "collapsed": false,
    "pycharm": {
     "name": "#%%\n"
    }
   }
  },
  {
   "cell_type": "code",
   "execution_count": 19,
   "outputs": [
    {
     "data": {
      "text/plain": "client_id        30\nsex               2\nwealth            3\nage              25\nolder_than_30     2\ndtype: int64"
     },
     "execution_count": 19,
     "metadata": {},
     "output_type": "execute_result"
    }
   ],
   "source": [
    "unique_num"
   ],
   "metadata": {
    "collapsed": false,
    "pycharm": {
     "name": "#%%\n"
    }
   }
  },
  {
   "cell_type": "code",
   "execution_count": null,
   "outputs": [],
   "source": [],
   "metadata": {
    "collapsed": false,
    "pycharm": {
     "name": "#%%\n"
    }
   }
  },
  {
   "cell_type": "code",
   "execution_count": 26,
   "outputs": [],
   "source": [
    "def read_n_agg(path):\n",
    "    df = pd.read_csv(path, sep=';')\n",
    "    mean = df.groupby('company').agg({'income': 'mean'})\n",
    "    return mean"
   ],
   "metadata": {
    "collapsed": false,
    "pycharm": {
     "name": "#%%\n"
    }
   }
  },
  {
   "cell_type": "code",
   "execution_count": 20,
   "outputs": [],
   "source": [
    "df_f = pd.read_csv('companies.csv', sep=';')"
   ],
   "metadata": {
    "collapsed": false,
    "pycharm": {
     "name": "#%%\n"
    }
   }
  },
  {
   "cell_type": "code",
   "execution_count": 21,
   "outputs": [
    {
     "data": {
      "text/plain": "                                  company       income        date\n0    ЗАО «Доронин, Колобов и Калашникова»   1221331958  2019-09-09\n1                            ООО «Авдеев»  21116804375  1972-12-21\n2                  РАО «Аксенов Сорокина»  79257158759  2007-03-05\n3                  Ларионов Инкорпорэйтед  36799366126  2011-08-11\n4                 Григорьев Инкорпорэйтед  48201837498  1989-09-02\n..                                    ...          ...         ...\n288                            Сэтл групп   6152279994  2004-03-30\n289                  ОАО «Горшков Чернов»  26623978007  2004-03-30\n290                          НПО «Фадеев»  84314056422  1998-09-03\n291                    Петролеум Трейдинг  95528839292  1975-01-31\n292                         ОАО «Жданова»  40620723709  2016-04-19\n\n[293 rows x 3 columns]",
      "text/html": "<div>\n<style scoped>\n    .dataframe tbody tr th:only-of-type {\n        vertical-align: middle;\n    }\n\n    .dataframe tbody tr th {\n        vertical-align: top;\n    }\n\n    .dataframe thead th {\n        text-align: right;\n    }\n</style>\n<table border=\"1\" class=\"dataframe\">\n  <thead>\n    <tr style=\"text-align: right;\">\n      <th></th>\n      <th>company</th>\n      <th>income</th>\n      <th>date</th>\n    </tr>\n  </thead>\n  <tbody>\n    <tr>\n      <th>0</th>\n      <td>ЗАО «Доронин, Колобов и Калашникова»</td>\n      <td>1221331958</td>\n      <td>2019-09-09</td>\n    </tr>\n    <tr>\n      <th>1</th>\n      <td>ООО «Авдеев»</td>\n      <td>21116804375</td>\n      <td>1972-12-21</td>\n    </tr>\n    <tr>\n      <th>2</th>\n      <td>РАО «Аксенов Сорокина»</td>\n      <td>79257158759</td>\n      <td>2007-03-05</td>\n    </tr>\n    <tr>\n      <th>3</th>\n      <td>Ларионов Инкорпорэйтед</td>\n      <td>36799366126</td>\n      <td>2011-08-11</td>\n    </tr>\n    <tr>\n      <th>4</th>\n      <td>Григорьев Инкорпорэйтед</td>\n      <td>48201837498</td>\n      <td>1989-09-02</td>\n    </tr>\n    <tr>\n      <th>...</th>\n      <td>...</td>\n      <td>...</td>\n      <td>...</td>\n    </tr>\n    <tr>\n      <th>288</th>\n      <td>Сэтл групп</td>\n      <td>6152279994</td>\n      <td>2004-03-30</td>\n    </tr>\n    <tr>\n      <th>289</th>\n      <td>ОАО «Горшков Чернов»</td>\n      <td>26623978007</td>\n      <td>2004-03-30</td>\n    </tr>\n    <tr>\n      <th>290</th>\n      <td>НПО «Фадеев»</td>\n      <td>84314056422</td>\n      <td>1998-09-03</td>\n    </tr>\n    <tr>\n      <th>291</th>\n      <td>Петролеум Трейдинг</td>\n      <td>95528839292</td>\n      <td>1975-01-31</td>\n    </tr>\n    <tr>\n      <th>292</th>\n      <td>ОАО «Жданова»</td>\n      <td>40620723709</td>\n      <td>2016-04-19</td>\n    </tr>\n  </tbody>\n</table>\n<p>293 rows × 3 columns</p>\n</div>"
     },
     "execution_count": 21,
     "metadata": {},
     "output_type": "execute_result"
    }
   ],
   "source": [
    "df_f"
   ],
   "metadata": {
    "collapsed": false,
    "pycharm": {
     "name": "#%%\n"
    }
   }
  },
  {
   "cell_type": "code",
   "execution_count": 22,
   "outputs": [
    {
     "data": {
      "text/plain": "                                                income\ncompany                                               \nEn +                                      9.962187e+10\nАО «Александрова, Савельев и Мельникова»  7.206782e+10\nАО «Андреев-Анисимов»                     6.931948e+09\nАО «Андреев-Макарова»                     8.934380e+10\nАО «Большаков Кошелева»                   7.860861e+10\n...                                                ...\nЩекиноазот                                4.309092e+10\nЩукин Лимитед                             6.703036e+10\nЭйвон Бьюти Продактс Компани (Avon)       2.503657e+10\nЯковлева Инкорпорэйтед                    3.523436e+10\nЯкушев Лимитед                            3.876468e+10\n\n[289 rows x 1 columns]",
      "text/html": "<div>\n<style scoped>\n    .dataframe tbody tr th:only-of-type {\n        vertical-align: middle;\n    }\n\n    .dataframe tbody tr th {\n        vertical-align: top;\n    }\n\n    .dataframe thead th {\n        text-align: right;\n    }\n</style>\n<table border=\"1\" class=\"dataframe\">\n  <thead>\n    <tr style=\"text-align: right;\">\n      <th></th>\n      <th>income</th>\n    </tr>\n    <tr>\n      <th>company</th>\n      <th></th>\n    </tr>\n  </thead>\n  <tbody>\n    <tr>\n      <th>En +</th>\n      <td>9.962187e+10</td>\n    </tr>\n    <tr>\n      <th>АО «Александрова, Савельев и Мельникова»</th>\n      <td>7.206782e+10</td>\n    </tr>\n    <tr>\n      <th>АО «Андреев-Анисимов»</th>\n      <td>6.931948e+09</td>\n    </tr>\n    <tr>\n      <th>АО «Андреев-Макарова»</th>\n      <td>8.934380e+10</td>\n    </tr>\n    <tr>\n      <th>АО «Большаков Кошелева»</th>\n      <td>7.860861e+10</td>\n    </tr>\n    <tr>\n      <th>...</th>\n      <td>...</td>\n    </tr>\n    <tr>\n      <th>Щекиноазот</th>\n      <td>4.309092e+10</td>\n    </tr>\n    <tr>\n      <th>Щукин Лимитед</th>\n      <td>6.703036e+10</td>\n    </tr>\n    <tr>\n      <th>Эйвон Бьюти Продактс Компани (Avon)</th>\n      <td>2.503657e+10</td>\n    </tr>\n    <tr>\n      <th>Яковлева Инкорпорэйтед</th>\n      <td>3.523436e+10</td>\n    </tr>\n    <tr>\n      <th>Якушев Лимитед</th>\n      <td>3.876468e+10</td>\n    </tr>\n  </tbody>\n</table>\n<p>289 rows × 1 columns</p>\n</div>"
     },
     "execution_count": 22,
     "metadata": {},
     "output_type": "execute_result"
    }
   ],
   "source": [
    "df_f.groupby('company').agg({'income': 'mean'})"
   ],
   "metadata": {
    "collapsed": false,
    "pycharm": {
     "name": "#%%\n"
    }
   }
  },
  {
   "cell_type": "code",
   "execution_count": 25,
   "outputs": [
    {
     "data": {
      "text/plain": "                                                income\ncompany                                               \nEn +                                      9.962187e+10\nАО «Александрова, Савельев и Мельникова»  7.206782e+10\nАО «Андреев-Анисимов»                     6.931948e+09\nАО «Андреев-Макарова»                     8.934380e+10\nАО «Большаков Кошелева»                   7.860861e+10\n...                                                ...\nЩекиноазот                                4.309092e+10\nЩукин Лимитед                             6.703036e+10\nЭйвон Бьюти Продактс Компани (Avon)       2.503657e+10\nЯковлева Инкорпорэйтед                    3.523436e+10\nЯкушев Лимитед                            3.876468e+10\n\n[289 rows x 1 columns]",
      "text/html": "<div>\n<style scoped>\n    .dataframe tbody tr th:only-of-type {\n        vertical-align: middle;\n    }\n\n    .dataframe tbody tr th {\n        vertical-align: top;\n    }\n\n    .dataframe thead th {\n        text-align: right;\n    }\n</style>\n<table border=\"1\" class=\"dataframe\">\n  <thead>\n    <tr style=\"text-align: right;\">\n      <th></th>\n      <th>income</th>\n    </tr>\n    <tr>\n      <th>company</th>\n      <th></th>\n    </tr>\n  </thead>\n  <tbody>\n    <tr>\n      <th>En +</th>\n      <td>9.962187e+10</td>\n    </tr>\n    <tr>\n      <th>АО «Александрова, Савельев и Мельникова»</th>\n      <td>7.206782e+10</td>\n    </tr>\n    <tr>\n      <th>АО «Андреев-Анисимов»</th>\n      <td>6.931948e+09</td>\n    </tr>\n    <tr>\n      <th>АО «Андреев-Макарова»</th>\n      <td>8.934380e+10</td>\n    </tr>\n    <tr>\n      <th>АО «Большаков Кошелева»</th>\n      <td>7.860861e+10</td>\n    </tr>\n    <tr>\n      <th>...</th>\n      <td>...</td>\n    </tr>\n    <tr>\n      <th>Щекиноазот</th>\n      <td>4.309092e+10</td>\n    </tr>\n    <tr>\n      <th>Щукин Лимитед</th>\n      <td>6.703036e+10</td>\n    </tr>\n    <tr>\n      <th>Эйвон Бьюти Продактс Компани (Avon)</th>\n      <td>2.503657e+10</td>\n    </tr>\n    <tr>\n      <th>Яковлева Инкорпорэйтед</th>\n      <td>3.523436e+10</td>\n    </tr>\n    <tr>\n      <th>Якушев Лимитед</th>\n      <td>3.876468e+10</td>\n    </tr>\n  </tbody>\n</table>\n<p>289 rows × 1 columns</p>\n</div>"
     },
     "execution_count": 25,
     "metadata": {},
     "output_type": "execute_result"
    }
   ],
   "source": [
    "read_n_agg('companies.csv')"
   ],
   "metadata": {
    "collapsed": false,
    "pycharm": {
     "name": "#%%\n"
    }
   }
  },
  {
   "cell_type": "code",
   "execution_count": null,
   "outputs": [],
   "source": [],
   "metadata": {
    "collapsed": false,
    "pycharm": {
     "name": "#%%\n"
    }
   }
  },
  {
   "cell_type": "code",
   "execution_count": null,
   "outputs": [],
   "source": [],
   "metadata": {
    "collapsed": false,
    "pycharm": {
     "name": "#%%\n"
    }
   }
  }
 ],
 "metadata": {
  "kernelspec": {
   "display_name": "Python 3",
   "language": "python",
   "name": "python3"
  },
  "language_info": {
   "codemirror_mode": {
    "name": "ipython",
    "version": 2
   },
   "file_extension": ".py",
   "mimetype": "text/x-python",
   "name": "python",
   "nbconvert_exporter": "python",
   "pygments_lexer": "ipython2",
   "version": "2.7.6"
  }
 },
 "nbformat": 4,
 "nbformat_minor": 0
}