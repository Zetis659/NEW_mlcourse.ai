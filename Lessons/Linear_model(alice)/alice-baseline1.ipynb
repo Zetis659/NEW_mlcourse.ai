{
 "cells": [
  {
   "cell_type": "code",
   "execution_count": 2,
   "metadata": {
    "_cell_guid": "fb777394-ad80-455a-b740-3316a97103d5",
    "_uuid": "74dae92e7724c0527bcef0c9e0df43c98555ce44",
    "execution": {
     "iopub.execute_input": "2022-04-07T11:43:46.260868Z",
     "iopub.status.busy": "2022-04-07T11:43:46.260236Z",
     "iopub.status.idle": "2022-04-07T11:43:47.771563Z",
     "shell.execute_reply": "2022-04-07T11:43:47.77053Z",
     "shell.execute_reply.started": "2022-04-07T11:43:46.260815Z"
    }
   },
   "outputs": [],
   "source": [
    "# Import libraries and set desired options\n",
    "%matplotlib inline\n",
    "from matplotlib import pyplot as plt\n",
    "\n",
    "import pickle\n",
    "import numpy as np\n",
    "import pandas as pd\n",
    "\n",
    "from sklearn.feature_extraction.text import CountVectorizer\n",
    "from sklearn.metrics import roc_auc_score\n",
    "from sklearn.linear_model import LogisticRegression"
   ]
  },
  {
   "cell_type": "markdown",
   "metadata": {
    "_cell_guid": "0cf36110-0ecb-4c85-9148-6b7b1e0cf55d",
    "_uuid": "7c5cf8a9330aa1a9f767a56fde8f48fa842e2fe8"
   },
   "source": [
    "Notebook by Yuri Kashnitsky, edited by Ivan Komarov. \n",
    "\n",
    "In this competition we are going to analyze a sequence of websites visited by a person to predict whether this person is Alice or not. The metric of evaluation is [ROC AUC](https://en.wikipedia.org/wiki/Receiver_operating_characteristic). "
   ]
  },
  {
   "cell_type": "markdown",
   "metadata": {
    "_cell_guid": "7e0b3ca3-790c-4bf3-9bec-356d3de9f274",
    "_uuid": "e6a46d89c9b912f5858baa9930e6280b11750892"
   },
   "source": [
    "###  Data Downloading and Transformation\n",
    "First, read the training and test sets. "
   ]
  },
  {
   "cell_type": "code",
   "execution_count": 3,
   "metadata": {
    "execution": {
     "iopub.execute_input": "2022-04-07T11:43:54.25832Z",
     "iopub.status.busy": "2022-04-07T11:43:54.257675Z",
     "iopub.status.idle": "2022-04-07T11:43:54.26551Z",
     "shell.execute_reply": "2022-04-07T11:43:54.264596Z",
     "shell.execute_reply.started": "2022-04-07T11:43:54.258256Z"
    }
   },
   "outputs": [
    {
     "data": {
      "text/plain": "['time1',\n 'time2',\n 'time3',\n 'time4',\n 'time5',\n 'time6',\n 'time7',\n 'time8',\n 'time9',\n 'time10']"
     },
     "execution_count": 3,
     "metadata": {},
     "output_type": "execute_result"
    }
   ],
   "source": [
    "times = ['time'+str(i) for i in range(1,11)]\n",
    "times"
   ]
  },
  {
   "cell_type": "code",
   "execution_count": 4,
   "metadata": {
    "_cell_guid": "a46803c1-86dc-4a19-9007-17e0da493a05",
    "_uuid": "eb4a1b566bef6a987555baf485809e94e08c31f6",
    "execution": {
     "iopub.execute_input": "2022-04-07T11:43:47.774521Z",
     "iopub.status.busy": "2022-04-07T11:43:47.77399Z",
     "iopub.status.idle": "2022-04-07T11:43:54.256103Z",
     "shell.execute_reply": "2022-04-07T11:43:54.255122Z",
     "shell.execute_reply.started": "2022-04-07T11:43:47.774464Z"
    }
   },
   "outputs": [
    {
     "data": {
      "text/plain": "            site1               time1    site2               time2    site3  \\\nsession_id                                                                    \n27554       41475 2013-11-15 07:39:35   6725.0 2013-11-15 07:39:35   6725.0   \n81350       41476 2013-11-15 07:44:25  41475.0 2013-11-15 07:44:25  41476.0   \n234665       4802 2013-11-15 07:52:17     23.0 2013-11-15 07:52:18   4803.0   \n97610          23 2013-11-15 07:52:28     23.0 2013-11-15 07:52:29     22.0   \n161358      41476 2013-11-15 07:57:50  41476.0 2013-11-15 07:57:51   6725.0   \n\n                         time3    site4               time4    site5  \\\nsession_id                                                             \n27554      2013-11-15 07:39:36  41475.0 2013-11-15 07:39:36  41476.0   \n81350      2013-11-15 07:57:45   6725.0 2013-11-15 07:57:45  41475.0   \n234665     2013-11-15 07:52:19     38.0 2013-11-15 07:52:19     38.0   \n97610      2013-11-15 07:52:37     21.0 2013-11-15 07:52:37     63.0   \n161358     2013-11-15 07:59:34  41475.0 2013-11-15 07:59:34  41476.0   \n\n                         time5  ...               time6    site7  \\\nsession_id                      ...                                \n27554      2013-11-15 07:39:40  ... 2013-11-15 07:39:41   6725.0   \n81350      2013-11-15 07:57:45  ... 2013-11-15 07:57:46  41476.0   \n234665     2013-11-15 07:52:20  ... 2013-11-15 07:52:20   4804.0   \n97610      2013-11-15 07:55:10  ... 2013-11-15 07:55:10    784.0   \n161358     2013-11-15 07:59:34  ...                 NaT      NaN   \n\n                         time7    site8               time8    site9  \\\nsession_id                                                             \n27554      2013-11-15 07:42:50  41475.0 2013-11-15 07:42:50  41476.0   \n81350      2013-11-15 07:57:47   6725.0 2013-11-15 07:57:49  41475.0   \n234665     2013-11-15 07:52:23     21.0 2013-11-15 07:52:26     23.0   \n97610      2013-11-15 07:55:56   4804.0 2013-11-15 07:57:50   4804.0   \n161358                     NaT      NaN                 NaT      NaN   \n\n                         time9   site10              time10 target  \nsession_id                                                          \n27554      2013-11-15 07:42:50   6725.0 2013-11-15 07:44:25      0  \n81350      2013-11-15 07:57:49  41476.0 2013-11-15 07:57:49      0  \n234665     2013-11-15 07:52:26     22.0 2013-11-15 07:52:28      0  \n97610      2013-11-15 08:01:18    784.0 2013-11-15 08:01:26      0  \n161358                     NaT      NaN                 NaT      0  \n\n[5 rows x 21 columns]",
      "text/html": "<div>\n<style scoped>\n    .dataframe tbody tr th:only-of-type {\n        vertical-align: middle;\n    }\n\n    .dataframe tbody tr th {\n        vertical-align: top;\n    }\n\n    .dataframe thead th {\n        text-align: right;\n    }\n</style>\n<table border=\"1\" class=\"dataframe\">\n  <thead>\n    <tr style=\"text-align: right;\">\n      <th></th>\n      <th>site1</th>\n      <th>time1</th>\n      <th>site2</th>\n      <th>time2</th>\n      <th>site3</th>\n      <th>time3</th>\n      <th>site4</th>\n      <th>time4</th>\n      <th>site5</th>\n      <th>time5</th>\n      <th>...</th>\n      <th>time6</th>\n      <th>site7</th>\n      <th>time7</th>\n      <th>site8</th>\n      <th>time8</th>\n      <th>site9</th>\n      <th>time9</th>\n      <th>site10</th>\n      <th>time10</th>\n      <th>target</th>\n    </tr>\n    <tr>\n      <th>session_id</th>\n      <th></th>\n      <th></th>\n      <th></th>\n      <th></th>\n      <th></th>\n      <th></th>\n      <th></th>\n      <th></th>\n      <th></th>\n      <th></th>\n      <th></th>\n      <th></th>\n      <th></th>\n      <th></th>\n      <th></th>\n      <th></th>\n      <th></th>\n      <th></th>\n      <th></th>\n      <th></th>\n      <th></th>\n    </tr>\n  </thead>\n  <tbody>\n    <tr>\n      <th>27554</th>\n      <td>41475</td>\n      <td>2013-11-15 07:39:35</td>\n      <td>6725.0</td>\n      <td>2013-11-15 07:39:35</td>\n      <td>6725.0</td>\n      <td>2013-11-15 07:39:36</td>\n      <td>41475.0</td>\n      <td>2013-11-15 07:39:36</td>\n      <td>41476.0</td>\n      <td>2013-11-15 07:39:40</td>\n      <td>...</td>\n      <td>2013-11-15 07:39:41</td>\n      <td>6725.0</td>\n      <td>2013-11-15 07:42:50</td>\n      <td>41475.0</td>\n      <td>2013-11-15 07:42:50</td>\n      <td>41476.0</td>\n      <td>2013-11-15 07:42:50</td>\n      <td>6725.0</td>\n      <td>2013-11-15 07:44:25</td>\n      <td>0</td>\n    </tr>\n    <tr>\n      <th>81350</th>\n      <td>41476</td>\n      <td>2013-11-15 07:44:25</td>\n      <td>41475.0</td>\n      <td>2013-11-15 07:44:25</td>\n      <td>41476.0</td>\n      <td>2013-11-15 07:57:45</td>\n      <td>6725.0</td>\n      <td>2013-11-15 07:57:45</td>\n      <td>41475.0</td>\n      <td>2013-11-15 07:57:45</td>\n      <td>...</td>\n      <td>2013-11-15 07:57:46</td>\n      <td>41476.0</td>\n      <td>2013-11-15 07:57:47</td>\n      <td>6725.0</td>\n      <td>2013-11-15 07:57:49</td>\n      <td>41475.0</td>\n      <td>2013-11-15 07:57:49</td>\n      <td>41476.0</td>\n      <td>2013-11-15 07:57:49</td>\n      <td>0</td>\n    </tr>\n    <tr>\n      <th>234665</th>\n      <td>4802</td>\n      <td>2013-11-15 07:52:17</td>\n      <td>23.0</td>\n      <td>2013-11-15 07:52:18</td>\n      <td>4803.0</td>\n      <td>2013-11-15 07:52:19</td>\n      <td>38.0</td>\n      <td>2013-11-15 07:52:19</td>\n      <td>38.0</td>\n      <td>2013-11-15 07:52:20</td>\n      <td>...</td>\n      <td>2013-11-15 07:52:20</td>\n      <td>4804.0</td>\n      <td>2013-11-15 07:52:23</td>\n      <td>21.0</td>\n      <td>2013-11-15 07:52:26</td>\n      <td>23.0</td>\n      <td>2013-11-15 07:52:26</td>\n      <td>22.0</td>\n      <td>2013-11-15 07:52:28</td>\n      <td>0</td>\n    </tr>\n    <tr>\n      <th>97610</th>\n      <td>23</td>\n      <td>2013-11-15 07:52:28</td>\n      <td>23.0</td>\n      <td>2013-11-15 07:52:29</td>\n      <td>22.0</td>\n      <td>2013-11-15 07:52:37</td>\n      <td>21.0</td>\n      <td>2013-11-15 07:52:37</td>\n      <td>63.0</td>\n      <td>2013-11-15 07:55:10</td>\n      <td>...</td>\n      <td>2013-11-15 07:55:10</td>\n      <td>784.0</td>\n      <td>2013-11-15 07:55:56</td>\n      <td>4804.0</td>\n      <td>2013-11-15 07:57:50</td>\n      <td>4804.0</td>\n      <td>2013-11-15 08:01:18</td>\n      <td>784.0</td>\n      <td>2013-11-15 08:01:26</td>\n      <td>0</td>\n    </tr>\n    <tr>\n      <th>161358</th>\n      <td>41476</td>\n      <td>2013-11-15 07:57:50</td>\n      <td>41476.0</td>\n      <td>2013-11-15 07:57:51</td>\n      <td>6725.0</td>\n      <td>2013-11-15 07:59:34</td>\n      <td>41475.0</td>\n      <td>2013-11-15 07:59:34</td>\n      <td>41476.0</td>\n      <td>2013-11-15 07:59:34</td>\n      <td>...</td>\n      <td>NaT</td>\n      <td>NaN</td>\n      <td>NaT</td>\n      <td>NaN</td>\n      <td>NaT</td>\n      <td>NaN</td>\n      <td>NaT</td>\n      <td>NaN</td>\n      <td>NaT</td>\n      <td>0</td>\n    </tr>\n  </tbody>\n</table>\n<p>5 rows × 21 columns</p>\n</div>"
     },
     "execution_count": 4,
     "metadata": {},
     "output_type": "execute_result"
    }
   ],
   "source": [
    "# Read the training and test data sets and parse dates\n",
    "train_df = pd.read_csv('train.csv',\n",
    "                       index_col='session_id', parse_dates=times)\n",
    "\n",
    "test_df = pd.read_csv('test.csv',\n",
    "                      index_col='session_id', parse_dates=['time1'])\n",
    "\n",
    "# Sort the data by time\n",
    "train_df = train_df.sort_values(by='time1')\n",
    "\n",
    "# Look at the first rows of the training set\n",
    "train_df.head()"
   ]
  },
  {
   "cell_type": "code",
   "execution_count": 5,
   "metadata": {
    "execution": {
     "iopub.execute_input": "2022-04-07T11:43:54.26759Z",
     "iopub.status.busy": "2022-04-07T11:43:54.26702Z",
     "iopub.status.idle": "2022-04-07T11:43:54.3888Z",
     "shell.execute_reply": "2022-04-07T11:43:54.38759Z",
     "shell.execute_reply.started": "2022-04-07T11:43:54.267527Z"
    }
   },
   "outputs": [
    {
     "name": "stdout",
     "output_type": "stream",
     "text": [
      "<class 'pandas.core.frame.DataFrame'>\n",
      "Int64Index: 253561 entries, 27554 to 11690\n",
      "Data columns (total 21 columns):\n",
      " #   Column  Non-Null Count   Dtype         \n",
      "---  ------  --------------   -----         \n",
      " 0   site1   253561 non-null  int64         \n",
      " 1   time1   253561 non-null  datetime64[ns]\n",
      " 2   site2   250098 non-null  float64       \n",
      " 3   time2   250098 non-null  datetime64[ns]\n",
      " 4   site3   246919 non-null  float64       \n",
      " 5   time3   246919 non-null  datetime64[ns]\n",
      " 6   site4   244321 non-null  float64       \n",
      " 7   time4   244321 non-null  datetime64[ns]\n",
      " 8   site5   241829 non-null  float64       \n",
      " 9   time5   241829 non-null  datetime64[ns]\n",
      " 10  site6   239495 non-null  float64       \n",
      " 11  time6   239495 non-null  datetime64[ns]\n",
      " 12  site7   237297 non-null  float64       \n",
      " 13  time7   237297 non-null  datetime64[ns]\n",
      " 14  site8   235224 non-null  float64       \n",
      " 15  time8   235224 non-null  datetime64[ns]\n",
      " 16  site9   233084 non-null  float64       \n",
      " 17  time9   233084 non-null  datetime64[ns]\n",
      " 18  site10  231052 non-null  float64       \n",
      " 19  time10  231052 non-null  datetime64[ns]\n",
      " 20  target  253561 non-null  int64         \n",
      "dtypes: datetime64[ns](10), float64(9), int64(2)\n",
      "memory usage: 42.6 MB\n"
     ]
    }
   ],
   "source": [
    "train_df.info()"
   ]
  },
  {
   "cell_type": "markdown",
   "metadata": {
    "_cell_guid": "ae5799dd-3adc-45e8-a203-27459b4ac388",
    "_uuid": "d22359e8d787e79accf47d05c089c52373c8fb4e"
   },
   "source": [
    "The training data set contains the following features:\n",
    "\n",
    "- **site1** – ID of the first visited website in the session\n",
    "- **time1** – visiting time for the first website in the session\n",
    "- ...\n",
    "- **site10** – ID of the tenth visited website in the session\n",
    "- **time10** – visiting time for the tenth website in the session\n",
    "- **target** – target variable, equals 1 for Alice's sessions, and 0 otherwise\n",
    "    \n",
    "**User sessions end either if a user has visited ten websites or if a session has lasted over thirty minutes.**\n",
    "\n",
    "There are some empty values in the table, it means that some sessions contain less than ten websites. Replace empty values with 0 and change columns types to integer. Also load the websites dictionary and check how it looks:"
   ]
  },
  {
   "cell_type": "code",
   "execution_count": 6,
   "metadata": {
    "_cell_guid": "0f7b0c81-a791-4842-8b05-30f214507f2f",
    "_uuid": "7fb01efc8ae51a6e919382054d0e39ce842cda01",
    "execution": {
     "iopub.execute_input": "2022-04-07T11:43:54.391089Z",
     "iopub.status.busy": "2022-04-07T11:43:54.390736Z",
     "iopub.status.idle": "2022-04-07T11:43:54.561505Z",
     "shell.execute_reply": "2022-04-07T11:43:54.560478Z",
     "shell.execute_reply.started": "2022-04-07T11:43:54.391029Z"
    }
   },
   "outputs": [
    {
     "name": "stdout",
     "output_type": "stream",
     "text": [
      "Websites total: 48371\n"
     ]
    }
   ],
   "source": [
    "# Change site1, ..., site10 columns type to integer and fill NA-values with zeros\n",
    "sites = ['site'+str(i) for i in range(1, 11)]\n",
    "train_df[sites] = train_df[sites].fillna(0).astype('int')\n",
    "test_df[sites] = test_df[sites].fillna(0).astype('int')\n",
    "\n",
    "# Load websites dictionary\n",
    "with open(r\"site_dic.pkl\", \"rb\") as input_file:\n",
    "    site_dict = pickle.load(input_file)\n",
    "    \n",
    "# r before a string means \"raw\", i.e. take the string as it comes,\n",
    "# e.g. as a file path without interpreting special symbols like \\n\n",
    "\n",
    "print('Websites total:', len(site_dict))\n",
    "\n"
   ]
  },
  {
   "cell_type": "code",
   "execution_count": 7,
   "metadata": {
    "execution": {
     "iopub.execute_input": "2022-04-07T11:43:54.565282Z",
     "iopub.status.busy": "2022-04-07T11:43:54.565006Z",
     "iopub.status.idle": "2022-04-07T11:43:54.60317Z",
     "shell.execute_reply": "2022-04-07T11:43:54.602201Z",
     "shell.execute_reply.started": "2022-04-07T11:43:54.565237Z"
    }
   },
   "outputs": [
    {
     "data": {
      "text/plain": "[('www.abmecatronique.com', 25075),\n ('groups.live.com', 13997),\n ('majeureliguefootball.wordpress.com', 42436)]"
     },
     "execution_count": 7,
     "metadata": {},
     "output_type": "execute_result"
    }
   ],
   "source": [
    "# See what's in the dict\n",
    "list(site_dict.items())[:3]"
   ]
  },
  {
   "cell_type": "code",
   "execution_count": 8,
   "metadata": {
    "_cell_guid": "dcac415c-7145-4159-8ea6-ed30272c1a43",
    "_uuid": "d839d194074efadac75da4dfb5e23e7fa09ac04f",
    "execution": {
     "iopub.execute_input": "2022-04-07T11:43:54.605092Z",
     "iopub.status.busy": "2022-04-07T11:43:54.604571Z",
     "iopub.status.idle": "2022-04-07T11:43:54.610954Z",
     "shell.execute_reply": "2022-04-07T11:43:54.610035Z",
     "shell.execute_reply.started": "2022-04-07T11:43:54.605037Z"
    },
    "scrolled": true
   },
   "outputs": [
    {
     "name": "stdout",
     "output_type": "stream",
     "text": [
      "(82797, 20) (253561, 21)\n"
     ]
    }
   ],
   "source": [
    "# Size of the sets\n",
    "print(test_df.shape, train_df.shape)"
   ]
  },
  {
   "cell_type": "code",
   "execution_count": 9,
   "metadata": {
    "execution": {
     "iopub.execute_input": "2022-04-07T11:43:54.612865Z",
     "iopub.status.busy": "2022-04-07T11:43:54.612542Z",
     "iopub.status.idle": "2022-04-07T11:43:54.675781Z",
     "shell.execute_reply": "2022-04-07T11:43:54.674874Z",
     "shell.execute_reply.started": "2022-04-07T11:43:54.612807Z"
    }
   },
   "outputs": [
    {
     "data": {
      "text/plain": "            site1               time1  site2               time2  site3  \\\nsession_id                                                                \n27554       41475 2013-11-15 07:39:35   6725 2013-11-15 07:39:35   6725   \n81350       41476 2013-11-15 07:44:25  41475 2013-11-15 07:44:25  41476   \n234665       4802 2013-11-15 07:52:17     23 2013-11-15 07:52:18   4803   \n97610          23 2013-11-15 07:52:28     23 2013-11-15 07:52:29     22   \n161358      41476 2013-11-15 07:57:50  41476 2013-11-15 07:57:51   6725   \n\n                         time3  site4               time4  site5  \\\nsession_id                                                         \n27554      2013-11-15 07:39:36  41475 2013-11-15 07:39:36  41476   \n81350      2013-11-15 07:57:45   6725 2013-11-15 07:57:45  41475   \n234665     2013-11-15 07:52:19     38 2013-11-15 07:52:19     38   \n97610      2013-11-15 07:52:37     21 2013-11-15 07:52:37     63   \n161358     2013-11-15 07:59:34  41475 2013-11-15 07:59:34  41476   \n\n                         time5  ...               time6  site7  \\\nsession_id                      ...                              \n27554      2013-11-15 07:39:40  ... 2013-11-15 07:39:41   6725   \n81350      2013-11-15 07:57:45  ... 2013-11-15 07:57:46  41476   \n234665     2013-11-15 07:52:20  ... 2013-11-15 07:52:20   4804   \n97610      2013-11-15 07:55:10  ... 2013-11-15 07:55:10    784   \n161358     2013-11-15 07:59:34  ...                 NaT      0   \n\n                         time7  site8               time8  site9  \\\nsession_id                                                         \n27554      2013-11-15 07:42:50  41475 2013-11-15 07:42:50  41476   \n81350      2013-11-15 07:57:47   6725 2013-11-15 07:57:49  41475   \n234665     2013-11-15 07:52:23     21 2013-11-15 07:52:26     23   \n97610      2013-11-15 07:55:56   4804 2013-11-15 07:57:50   4804   \n161358                     NaT      0                 NaT      0   \n\n                         time9 site10              time10 target  \nsession_id                                                        \n27554      2013-11-15 07:42:50   6725 2013-11-15 07:44:25      0  \n81350      2013-11-15 07:57:49  41476 2013-11-15 07:57:49      0  \n234665     2013-11-15 07:52:26     22 2013-11-15 07:52:28      0  \n97610      2013-11-15 08:01:18    784 2013-11-15 08:01:26      0  \n161358                     NaT      0                 NaT      0  \n\n[5 rows x 21 columns]",
      "text/html": "<div>\n<style scoped>\n    .dataframe tbody tr th:only-of-type {\n        vertical-align: middle;\n    }\n\n    .dataframe tbody tr th {\n        vertical-align: top;\n    }\n\n    .dataframe thead th {\n        text-align: right;\n    }\n</style>\n<table border=\"1\" class=\"dataframe\">\n  <thead>\n    <tr style=\"text-align: right;\">\n      <th></th>\n      <th>site1</th>\n      <th>time1</th>\n      <th>site2</th>\n      <th>time2</th>\n      <th>site3</th>\n      <th>time3</th>\n      <th>site4</th>\n      <th>time4</th>\n      <th>site5</th>\n      <th>time5</th>\n      <th>...</th>\n      <th>time6</th>\n      <th>site7</th>\n      <th>time7</th>\n      <th>site8</th>\n      <th>time8</th>\n      <th>site9</th>\n      <th>time9</th>\n      <th>site10</th>\n      <th>time10</th>\n      <th>target</th>\n    </tr>\n    <tr>\n      <th>session_id</th>\n      <th></th>\n      <th></th>\n      <th></th>\n      <th></th>\n      <th></th>\n      <th></th>\n      <th></th>\n      <th></th>\n      <th></th>\n      <th></th>\n      <th></th>\n      <th></th>\n      <th></th>\n      <th></th>\n      <th></th>\n      <th></th>\n      <th></th>\n      <th></th>\n      <th></th>\n      <th></th>\n      <th></th>\n    </tr>\n  </thead>\n  <tbody>\n    <tr>\n      <th>27554</th>\n      <td>41475</td>\n      <td>2013-11-15 07:39:35</td>\n      <td>6725</td>\n      <td>2013-11-15 07:39:35</td>\n      <td>6725</td>\n      <td>2013-11-15 07:39:36</td>\n      <td>41475</td>\n      <td>2013-11-15 07:39:36</td>\n      <td>41476</td>\n      <td>2013-11-15 07:39:40</td>\n      <td>...</td>\n      <td>2013-11-15 07:39:41</td>\n      <td>6725</td>\n      <td>2013-11-15 07:42:50</td>\n      <td>41475</td>\n      <td>2013-11-15 07:42:50</td>\n      <td>41476</td>\n      <td>2013-11-15 07:42:50</td>\n      <td>6725</td>\n      <td>2013-11-15 07:44:25</td>\n      <td>0</td>\n    </tr>\n    <tr>\n      <th>81350</th>\n      <td>41476</td>\n      <td>2013-11-15 07:44:25</td>\n      <td>41475</td>\n      <td>2013-11-15 07:44:25</td>\n      <td>41476</td>\n      <td>2013-11-15 07:57:45</td>\n      <td>6725</td>\n      <td>2013-11-15 07:57:45</td>\n      <td>41475</td>\n      <td>2013-11-15 07:57:45</td>\n      <td>...</td>\n      <td>2013-11-15 07:57:46</td>\n      <td>41476</td>\n      <td>2013-11-15 07:57:47</td>\n      <td>6725</td>\n      <td>2013-11-15 07:57:49</td>\n      <td>41475</td>\n      <td>2013-11-15 07:57:49</td>\n      <td>41476</td>\n      <td>2013-11-15 07:57:49</td>\n      <td>0</td>\n    </tr>\n    <tr>\n      <th>234665</th>\n      <td>4802</td>\n      <td>2013-11-15 07:52:17</td>\n      <td>23</td>\n      <td>2013-11-15 07:52:18</td>\n      <td>4803</td>\n      <td>2013-11-15 07:52:19</td>\n      <td>38</td>\n      <td>2013-11-15 07:52:19</td>\n      <td>38</td>\n      <td>2013-11-15 07:52:20</td>\n      <td>...</td>\n      <td>2013-11-15 07:52:20</td>\n      <td>4804</td>\n      <td>2013-11-15 07:52:23</td>\n      <td>21</td>\n      <td>2013-11-15 07:52:26</td>\n      <td>23</td>\n      <td>2013-11-15 07:52:26</td>\n      <td>22</td>\n      <td>2013-11-15 07:52:28</td>\n      <td>0</td>\n    </tr>\n    <tr>\n      <th>97610</th>\n      <td>23</td>\n      <td>2013-11-15 07:52:28</td>\n      <td>23</td>\n      <td>2013-11-15 07:52:29</td>\n      <td>22</td>\n      <td>2013-11-15 07:52:37</td>\n      <td>21</td>\n      <td>2013-11-15 07:52:37</td>\n      <td>63</td>\n      <td>2013-11-15 07:55:10</td>\n      <td>...</td>\n      <td>2013-11-15 07:55:10</td>\n      <td>784</td>\n      <td>2013-11-15 07:55:56</td>\n      <td>4804</td>\n      <td>2013-11-15 07:57:50</td>\n      <td>4804</td>\n      <td>2013-11-15 08:01:18</td>\n      <td>784</td>\n      <td>2013-11-15 08:01:26</td>\n      <td>0</td>\n    </tr>\n    <tr>\n      <th>161358</th>\n      <td>41476</td>\n      <td>2013-11-15 07:57:50</td>\n      <td>41476</td>\n      <td>2013-11-15 07:57:51</td>\n      <td>6725</td>\n      <td>2013-11-15 07:59:34</td>\n      <td>41475</td>\n      <td>2013-11-15 07:59:34</td>\n      <td>41476</td>\n      <td>2013-11-15 07:59:34</td>\n      <td>...</td>\n      <td>NaT</td>\n      <td>0</td>\n      <td>NaT</td>\n      <td>0</td>\n      <td>NaT</td>\n      <td>0</td>\n      <td>NaT</td>\n      <td>0</td>\n      <td>NaT</td>\n      <td>0</td>\n    </tr>\n  </tbody>\n</table>\n<p>5 rows × 21 columns</p>\n</div>"
     },
     "execution_count": 9,
     "metadata": {},
     "output_type": "execute_result"
    }
   ],
   "source": [
    "# What's inside the train\n",
    "train_df.head()"
   ]
  },
  {
   "cell_type": "markdown",
   "metadata": {
    "_cell_guid": "2bccda21-944c-4808-83a1-9ca3e1580220",
    "_uuid": "d3c63c91f13663e02c486cb0b545ccadc2dec318"
   },
   "source": [
    "For the very basic model, we will use only the visited websites in the session (we will not take into account timestamp features). \n",
    "\n",
    "*Alice has her favorite sites, and the more often you see these sites in the session, the higher probability that this is an Alice session, and vice versa.*\n",
    "\n",
    "Let us prepare the data, we will take only features `site1, site2, ... , site10` from the whole dataframe. Keep in mind that the missing values are replaced with zero. Here is what the first rows of the dataframe look like:"
   ]
  },
  {
   "cell_type": "code",
   "execution_count": 10,
   "metadata": {
    "execution": {
     "iopub.execute_input": "2022-04-07T11:43:54.684767Z",
     "iopub.status.busy": "2022-04-07T11:43:54.684447Z",
     "iopub.status.idle": "2022-04-07T11:43:54.757709Z",
     "shell.execute_reply": "2022-04-07T11:43:54.756999Z",
     "shell.execute_reply.started": "2022-04-07T11:43:54.68471Z"
    }
   },
   "outputs": [
    {
     "data": {
      "text/plain": "            site1  site2  site3  site4  site5  site6  site7  site8  site9  \\\nsession_id                                                                  \n27554       41475   6725   6725  41475  41476  41476   6725  41475  41476   \n81350       41476  41475  41476   6725  41475  41476  41476   6725  41475   \n234665       4802     23   4803     38     38   4804   4804     21     23   \n97610          23     23     22     21     63     66    784   4804   4804   \n161358      41476  41476   6725  41475  41476      0      0      0      0   \n\n            site10  \nsession_id          \n27554         6725  \n81350        41476  \n234665          22  \n97610          784  \n161358           0  ",
      "text/html": "<div>\n<style scoped>\n    .dataframe tbody tr th:only-of-type {\n        vertical-align: middle;\n    }\n\n    .dataframe tbody tr th {\n        vertical-align: top;\n    }\n\n    .dataframe thead th {\n        text-align: right;\n    }\n</style>\n<table border=\"1\" class=\"dataframe\">\n  <thead>\n    <tr style=\"text-align: right;\">\n      <th></th>\n      <th>site1</th>\n      <th>site2</th>\n      <th>site3</th>\n      <th>site4</th>\n      <th>site5</th>\n      <th>site6</th>\n      <th>site7</th>\n      <th>site8</th>\n      <th>site9</th>\n      <th>site10</th>\n    </tr>\n    <tr>\n      <th>session_id</th>\n      <th></th>\n      <th></th>\n      <th></th>\n      <th></th>\n      <th></th>\n      <th></th>\n      <th></th>\n      <th></th>\n      <th></th>\n      <th></th>\n    </tr>\n  </thead>\n  <tbody>\n    <tr>\n      <th>27554</th>\n      <td>41475</td>\n      <td>6725</td>\n      <td>6725</td>\n      <td>41475</td>\n      <td>41476</td>\n      <td>41476</td>\n      <td>6725</td>\n      <td>41475</td>\n      <td>41476</td>\n      <td>6725</td>\n    </tr>\n    <tr>\n      <th>81350</th>\n      <td>41476</td>\n      <td>41475</td>\n      <td>41476</td>\n      <td>6725</td>\n      <td>41475</td>\n      <td>41476</td>\n      <td>41476</td>\n      <td>6725</td>\n      <td>41475</td>\n      <td>41476</td>\n    </tr>\n    <tr>\n      <th>234665</th>\n      <td>4802</td>\n      <td>23</td>\n      <td>4803</td>\n      <td>38</td>\n      <td>38</td>\n      <td>4804</td>\n      <td>4804</td>\n      <td>21</td>\n      <td>23</td>\n      <td>22</td>\n    </tr>\n    <tr>\n      <th>97610</th>\n      <td>23</td>\n      <td>23</td>\n      <td>22</td>\n      <td>21</td>\n      <td>63</td>\n      <td>66</td>\n      <td>784</td>\n      <td>4804</td>\n      <td>4804</td>\n      <td>784</td>\n    </tr>\n    <tr>\n      <th>161358</th>\n      <td>41476</td>\n      <td>41476</td>\n      <td>6725</td>\n      <td>41475</td>\n      <td>41476</td>\n      <td>0</td>\n      <td>0</td>\n      <td>0</td>\n      <td>0</td>\n      <td>0</td>\n    </tr>\n  </tbody>\n</table>\n</div>"
     },
     "execution_count": 10,
     "metadata": {},
     "output_type": "execute_result"
    }
   ],
   "source": [
    "train_df[sites].head()"
   ]
  },
  {
   "cell_type": "markdown",
   "metadata": {},
   "source": [
    "Since IDs of sites have no meaning (does not matter if a site has an ID of 1 or 100), we need to think about how to encode the meaning of \"this site in a session means higher probablity that it is an Alice session\". \n",
    "\n",
    "We will use a technique called [\"bag of words plus n-gram model\"](https://en.wikipedia.org/wiki/Bag-of-words_model).\n",
    "\n",
    "We will make a \"site-session\" matrix analogous to the term-document matrix.\n",
    "\n",
    "We are not the first, and luckily there is a function CountVectorizer that will implement the above model. Type help(CountVectorizer) to learn about the function. "
   ]
  },
  {
   "cell_type": "markdown",
   "metadata": {
    "execution": {
     "iopub.execute_input": "2022-04-07T11:54:59.202729Z",
     "iopub.status.busy": "2022-04-07T11:54:59.202402Z",
     "iopub.status.idle": "2022-04-07T11:54:59.207219Z",
     "shell.execute_reply": "2022-04-07T11:54:59.206225Z",
     "shell.execute_reply.started": "2022-04-07T11:54:59.20268Z"
    }
   },
   "source": [
    "We will now initialize a \"cv\" (CountVectorizer's) instance which we need to train. \n",
    "\n",
    "We will use the following parameters:\n",
    "\n",
    "_ngram range=(1, 3)_ - here we decide that we will use \n",
    "1) the name of the site, \n",
    "2) two consecutive site names, and \n",
    "3) three consecutive site names as features. \n",
    "E.g. \"google.com\" or \"google.com vk.com\" or \"google.com vk.com groups.live.com\". \n",
    "\n",
    "CountVectorizer will create a large dictionary of 1, 2, and 3-gram strings of sites represented by their numerical IDs. However, this dictionary will be so so large that we may run into trouble with memory or we will just be inefficent chasing phantom combinations.\n",
    "\n",
    "We will thus limit the dictionary to 50K of the most frequent n-grams:\n",
    "\n",
    "_max features=50000_\n",
    "\n",
    "Here is our empty instance:"
   ]
  },
  {
   "cell_type": "code",
   "execution_count": 11,
   "metadata": {},
   "outputs": [],
   "source": [
    "cv = CountVectorizer(ngram_range=(1, 3), max_features=50000)"
   ]
  },
  {
   "cell_type": "markdown",
   "metadata": {},
   "source": [
    "CountVectorizer accepts \"document strings\", so let's prepare a string of our \"documents\" (i.e. sites), divided by space. Since the string will be huge, we will write this string in a text file using pandas:"
   ]
  },
  {
   "cell_type": "code",
   "execution_count": 12,
   "metadata": {
    "_cell_guid": "9e35cd8d-5cdc-4eef-a7d6-1e6fc12edcfd",
    "_uuid": "1249386daf13151565cd4a33cdfa3ca0bcb59505",
    "execution": {
     "iopub.execute_input": "2022-04-07T11:51:51.351437Z",
     "iopub.status.busy": "2022-04-07T11:51:51.350353Z",
     "iopub.status.idle": "2022-04-07T11:51:57.87576Z",
     "shell.execute_reply": "2022-04-07T11:51:57.874891Z",
     "shell.execute_reply.started": "2022-04-07T11:51:51.351376Z"
    }
   },
   "outputs": [],
   "source": [
    "train_df[sites].fillna(0).to_csv('train_sessions_text.txt', \n",
    "                                 sep=' ', index=None, header=None)\n",
    "test_df[sites].fillna(0).to_csv('test_sessions_text.txt', \n",
    "                                sep=' ', index=None, header=None)"
   ]
  },
  {
   "cell_type": "markdown",
   "metadata": {
    "collapsed": true,
    "execution": {
     "iopub.execute_input": "2022-04-07T11:44:43.700127Z",
     "iopub.status.busy": "2022-04-07T11:44:43.699539Z",
     "iopub.status.idle": "2022-04-07T11:44:43.750425Z",
     "shell.execute_reply": "2022-04-07T11:44:43.749546Z",
     "shell.execute_reply.started": "2022-04-07T11:44:43.700057Z"
    },
    "jupyter": {
     "outputs_hidden": true
    }
   },
   "source": [
    "Before we start using CountVectorizer, let's see how it works on a sub-set of 5 sessions:"
   ]
  },
  {
   "cell_type": "code",
   "execution_count": 13,
   "metadata": {
    "execution": {
     "iopub.execute_input": "2022-04-07T11:52:42.67481Z",
     "iopub.status.busy": "2022-04-07T11:52:42.674326Z",
     "iopub.status.idle": "2022-04-07T11:52:42.690575Z",
     "shell.execute_reply": "2022-04-07T11:52:42.689795Z",
     "shell.execute_reply.started": "2022-04-07T11:52:42.674754Z"
    }
   },
   "outputs": [],
   "source": [
    "five_sess = pd.read_csv('train_sessions_text.txt', sep=' ', nrows=5, header=None)"
   ]
  },
  {
   "cell_type": "code",
   "execution_count": 14,
   "metadata": {
    "execution": {
     "iopub.execute_input": "2022-04-07T11:52:45.022484Z",
     "iopub.status.busy": "2022-04-07T11:52:45.022015Z",
     "iopub.status.idle": "2022-04-07T11:52:45.046309Z",
     "shell.execute_reply": "2022-04-07T11:52:45.045522Z",
     "shell.execute_reply.started": "2022-04-07T11:52:45.022442Z"
    }
   },
   "outputs": [
    {
     "data": {
      "text/plain": "       0      1      2      3      4      5      6      7      8      9\n0  41475   6725   6725  41475  41476  41476   6725  41475  41476   6725\n1  41476  41475  41476   6725  41475  41476  41476   6725  41475  41476\n2   4802     23   4803     38     38   4804   4804     21     23     22\n3     23     23     22     21     63     66    784   4804   4804    784\n4  41476  41476   6725  41475  41476      0      0      0      0      0",
      "text/html": "<div>\n<style scoped>\n    .dataframe tbody tr th:only-of-type {\n        vertical-align: middle;\n    }\n\n    .dataframe tbody tr th {\n        vertical-align: top;\n    }\n\n    .dataframe thead th {\n        text-align: right;\n    }\n</style>\n<table border=\"1\" class=\"dataframe\">\n  <thead>\n    <tr style=\"text-align: right;\">\n      <th></th>\n      <th>0</th>\n      <th>1</th>\n      <th>2</th>\n      <th>3</th>\n      <th>4</th>\n      <th>5</th>\n      <th>6</th>\n      <th>7</th>\n      <th>8</th>\n      <th>9</th>\n    </tr>\n  </thead>\n  <tbody>\n    <tr>\n      <th>0</th>\n      <td>41475</td>\n      <td>6725</td>\n      <td>6725</td>\n      <td>41475</td>\n      <td>41476</td>\n      <td>41476</td>\n      <td>6725</td>\n      <td>41475</td>\n      <td>41476</td>\n      <td>6725</td>\n    </tr>\n    <tr>\n      <th>1</th>\n      <td>41476</td>\n      <td>41475</td>\n      <td>41476</td>\n      <td>6725</td>\n      <td>41475</td>\n      <td>41476</td>\n      <td>41476</td>\n      <td>6725</td>\n      <td>41475</td>\n      <td>41476</td>\n    </tr>\n    <tr>\n      <th>2</th>\n      <td>4802</td>\n      <td>23</td>\n      <td>4803</td>\n      <td>38</td>\n      <td>38</td>\n      <td>4804</td>\n      <td>4804</td>\n      <td>21</td>\n      <td>23</td>\n      <td>22</td>\n    </tr>\n    <tr>\n      <th>3</th>\n      <td>23</td>\n      <td>23</td>\n      <td>22</td>\n      <td>21</td>\n      <td>63</td>\n      <td>66</td>\n      <td>784</td>\n      <td>4804</td>\n      <td>4804</td>\n      <td>784</td>\n    </tr>\n    <tr>\n      <th>4</th>\n      <td>41476</td>\n      <td>41476</td>\n      <td>6725</td>\n      <td>41475</td>\n      <td>41476</td>\n      <td>0</td>\n      <td>0</td>\n      <td>0</td>\n      <td>0</td>\n      <td>0</td>\n    </tr>\n  </tbody>\n</table>\n</div>"
     },
     "execution_count": 14,
     "metadata": {},
     "output_type": "execute_result"
    }
   ],
   "source": [
    "five_sess"
   ]
  },
  {
   "cell_type": "markdown",
   "metadata": {},
   "source": [
    "First of all, let's make an inverse dictionary which gives us a site name for ID.\n",
    "The direct dictionary came to us like this:"
   ]
  },
  {
   "cell_type": "code",
   "execution_count": 15,
   "metadata": {
    "execution": {
     "iopub.execute_input": "2022-04-07T11:53:45.030222Z",
     "iopub.status.busy": "2022-04-07T11:53:45.029856Z",
     "iopub.status.idle": "2022-04-07T11:53:45.036002Z",
     "shell.execute_reply": "2022-04-07T11:53:45.034005Z",
     "shell.execute_reply.started": "2022-04-07T11:53:45.030169Z"
    }
   },
   "outputs": [
    {
     "data": {
      "text/plain": "[('www.abmecatronique.com', 25075),\n ('groups.live.com', 13997),\n ('majeureliguefootball.wordpress.com', 42436)]"
     },
     "execution_count": 15,
     "metadata": {},
     "output_type": "execute_result"
    }
   ],
   "source": [
    "list(site_dict.items())[:3]"
   ]
  },
  {
   "cell_type": "code",
   "execution_count": 16,
   "metadata": {
    "execution": {
     "iopub.execute_input": "2022-04-07T11:53:42.095623Z",
     "iopub.status.busy": "2022-04-07T11:53:42.095178Z",
     "iopub.status.idle": "2022-04-07T11:53:42.126674Z",
     "shell.execute_reply": "2022-04-07T11:53:42.125463Z",
     "shell.execute_reply.started": "2022-04-07T11:53:42.095576Z"
    }
   },
   "outputs": [],
   "source": [
    "# The inverse dictionary:\n",
    "\n",
    "new_dict = {}\n",
    "for key in site_dict:\n",
    "    new_dict[site_dict[key]] = key"
   ]
  },
  {
   "cell_type": "code",
   "execution_count": 17,
   "metadata": {
    "execution": {
     "iopub.execute_input": "2022-04-07T11:53:48.926092Z",
     "iopub.status.busy": "2022-04-07T11:53:48.925589Z",
     "iopub.status.idle": "2022-04-07T11:53:48.932805Z",
     "shell.execute_reply": "2022-04-07T11:53:48.932039Z",
     "shell.execute_reply.started": "2022-04-07T11:53:48.926043Z"
    }
   },
   "outputs": [
    {
     "data": {
      "text/plain": "[(25075, 'www.abmecatronique.com'),\n (13997, 'groups.live.com'),\n (42436, 'majeureliguefootball.wordpress.com')]"
     },
     "execution_count": 17,
     "metadata": {},
     "output_type": "execute_result"
    }
   ],
   "source": [
    "# Let's check what's in it:\n",
    "\n",
    "list(new_dict.items())[:3]"
   ]
  },
  {
   "cell_type": "code",
   "execution_count": 18,
   "metadata": {
    "execution": {
     "iopub.execute_input": "2022-04-07T11:54:04.095135Z",
     "iopub.status.busy": "2022-04-07T11:54:04.094408Z",
     "iopub.status.idle": "2022-04-07T11:54:04.102594Z",
     "shell.execute_reply": "2022-04-07T11:54:04.101902Z",
     "shell.execute_reply.started": "2022-04-07T11:54:04.095075Z"
    }
   },
   "outputs": [
    {
     "name": "stdout",
     "output_type": "stream",
     "text": [
      "41475 6725 6725 41475 41476 41476 6725 41475 41476 6725\n",
      "41476 41475 41476 6725 41475 41476 41476 6725 41475 41476\n",
      "4802 23 4803 38 38 4804 4804 21 23 22\n",
      "23 23 22 21 63 66 784 4804 4804 784\n",
      "41476 41476 6725 41475 41476\n",
      "\n",
      "security.debian.org www-fourier.ujf-grenoble.fr www-fourier.ujf-grenoble.fr security.debian.org backports.debian.org backports.debian.org www-fourier.ujf-grenoble.fr security.debian.org backports.debian.org www-fourier.ujf-grenoble.fr\n",
      "backports.debian.org security.debian.org backports.debian.org www-fourier.ujf-grenoble.fr security.debian.org backports.debian.org backports.debian.org www-fourier.ujf-grenoble.fr security.debian.org backports.debian.org\n",
      "cnfg.toolbarservices.com www.google.com utils.delta-search.com ajax.googleapis.com ajax.googleapis.com img.babylon.com img.babylon.com www.google.fr www.google.com apis.google.com\n",
      "www.google.com www.google.com apis.google.com www.google.fr ieonline.microsoft.com go.microsoft.com javadl-esd-secure.oracle.com img.babylon.com img.babylon.com javadl-esd-secure.oracle.com\n",
      "backports.debian.org backports.debian.org www-fourier.ujf-grenoble.fr security.debian.org backports.debian.org\n"
     ]
    }
   ],
   "source": [
    "# Let's see site names in the five first sessions:\n",
    "\n",
    "list_sites = []\n",
    "for row in five_sess.values:\n",
    "    row_sites = ' '.join([str(i) for i in row if i!=0])\n",
    "    print(row_sites)\n",
    "    list_sites.append(row_sites) \n",
    "\n",
    "print()\n",
    "    \n",
    "list_sites_names = []\n",
    "for row in five_sess.values:\n",
    "    row_sites = ' '.join([new_dict[i] for i in row if i!=0])\n",
    "    print(row_sites)\n",
    "    list_sites_names.append(row_sites)"
   ]
  },
  {
   "cell_type": "markdown",
   "metadata": {},
   "source": [
    "Here is what the fit and transform method -- i.e. learn the dictionary and make the matrix -- produces in our \"cv\":\n",
    "a sparse matrix. Why sparse? Because nrows * dict_size = usually will not fit in memory \n",
    "(obviously, our 5 sessions will fit in memory so that we can look at them)"
   ]
  },
  {
   "cell_type": "code",
   "execution_count": 19,
   "metadata": {
    "execution": {
     "iopub.execute_input": "2022-04-07T11:55:04.927195Z",
     "iopub.status.busy": "2022-04-07T11:55:04.926495Z",
     "iopub.status.idle": "2022-04-07T11:55:04.945337Z",
     "shell.execute_reply": "2022-04-07T11:55:04.944114Z",
     "shell.execute_reply.started": "2022-04-07T11:55:04.927126Z"
    }
   },
   "outputs": [
    {
     "data": {
      "text/plain": "<5x60 sparse matrix of type '<class 'numpy.int64'>'\n\twith 88 stored elements in Compressed Sparse Row format>"
     },
     "execution_count": 19,
     "metadata": {},
     "output_type": "execute_result"
    }
   ],
   "source": [
    "see_vect = cv.fit_transform(list_sites)\n",
    "\n",
    "# Matrix dimensions: 5 sessions of 60 elements\n",
    "see_vect"
   ]
  },
  {
   "cell_type": "code",
   "execution_count": 20,
   "metadata": {
    "execution": {
     "iopub.execute_input": "2022-04-07T11:56:11.894299Z",
     "iopub.status.busy": "2022-04-07T11:56:11.893888Z",
     "iopub.status.idle": "2022-04-07T11:56:11.901546Z",
     "shell.execute_reply": "2022-04-07T11:56:11.900821Z",
     "shell.execute_reply.started": "2022-04-07T11:56:11.894234Z"
    },
    "scrolled": false
   },
   "outputs": [
    {
     "name": "stderr",
     "output_type": "stream",
     "text": [
      "C:\\Users\\Zetis\\AppData\\Local\\Programs\\Python\\Python311\\Lib\\site-packages\\sklearn\\utils\\deprecation.py:87: FutureWarning: Function get_feature_names is deprecated; get_feature_names is deprecated in 1.0 and will be removed in 1.2. Please use get_feature_names_out instead.\n",
      "  warnings.warn(msg, category=FutureWarning)\n"
     ]
    },
    {
     "data": {
      "text/plain": "['21', '21 23', '21 23 22', '21 63', '21 63 66', '22']"
     },
     "execution_count": 20,
     "metadata": {},
     "output_type": "execute_result"
    }
   ],
   "source": [
    "# Here is the dictionary of sites, 1 to 3-gram words. First 6 elements in the matrix:\n",
    "\n",
    "cv.get_feature_names()[:6]"
   ]
  },
  {
   "cell_type": "code",
   "execution_count": 21,
   "metadata": {},
   "outputs": [
    {
     "name": "stdout",
     "output_type": "stream",
     "text": [
      "1 www.google.fr \n",
      "2 www.google.fr www.google.com \n",
      "3 www.google.fr www.google.com apis.google.com \n",
      "4 www.google.fr ieonline.microsoft.com \n",
      "5 www.google.fr ieonline.microsoft.com go.microsoft.com \n",
      "6 apis.google.com \n",
      "7 apis.google.com www.google.fr \n",
      "8 apis.google.com www.google.fr ieonline.microsoft.com \n",
      "9 www.google.com \n",
      "10 www.google.com apis.google.com \n",
      "11 www.google.com apis.google.com www.google.fr \n",
      "12 www.google.com www.google.com \n",
      "13 www.google.com www.google.com apis.google.com \n",
      "14 www.google.com utils.delta-search.com \n",
      "15 www.google.com utils.delta-search.com ajax.googleapis.com \n",
      "16 ajax.googleapis.com \n",
      "17 ajax.googleapis.com ajax.googleapis.com \n",
      "18 ajax.googleapis.com ajax.googleapis.com img.babylon.com \n",
      "19 ajax.googleapis.com img.babylon.com \n",
      "20 ajax.googleapis.com img.babylon.com img.babylon.com \n",
      "21 security.debian.org \n"
     ]
    }
   ],
   "source": [
    "# A version with the site names. Note that security.debian.org has ID of 21.\n",
    "\n",
    "for i, string in enumerate(cv.get_feature_names()):\n",
    "    if i < 21:\n",
    "        print (i+1, end=\" \")\n",
    "        for num in string.split():\n",
    "            print(new_dict[int(num)], end=\" \")\n",
    "        print()"
   ]
  },
  {
   "cell_type": "code",
   "execution_count": 22,
   "metadata": {
    "execution": {
     "iopub.execute_input": "2022-04-07T11:56:36.148451Z",
     "iopub.status.busy": "2022-04-07T11:56:36.147711Z",
     "iopub.status.idle": "2022-04-07T11:56:36.155891Z",
     "shell.execute_reply": "2022-04-07T11:56:36.155119Z",
     "shell.execute_reply.started": "2022-04-07T11:56:36.148398Z"
    }
   },
   "outputs": [
    {
     "data": {
      "text/plain": "array([[0, 0, 0, 0, 0, 0, 0, 0, 0, 0, 0, 0, 0, 0, 0, 0, 0, 0, 0, 0, 3, 2,\n        1, 1, 1, 1, 3, 0, 0, 1, 1, 2, 1, 0, 0, 0, 0, 0, 0, 0, 0, 0, 0, 0,\n        0, 0, 0, 0, 0, 0, 0, 0, 4, 2, 2, 1, 1, 0, 0, 0],\n       [0, 0, 0, 0, 0, 0, 0, 0, 0, 0, 0, 0, 0, 0, 0, 0, 0, 0, 0, 0, 3, 3,\n        1, 1, 0, 0, 5, 1, 1, 1, 1, 2, 2, 0, 0, 0, 0, 0, 0, 0, 0, 0, 0, 0,\n        0, 0, 0, 0, 0, 0, 0, 0, 2, 2, 2, 0, 0, 0, 0, 0],\n       [1, 1, 1, 0, 0, 1, 0, 0, 2, 1, 0, 0, 0, 1, 1, 2, 1, 1, 1, 1, 0, 0,\n        0, 0, 0, 0, 0, 0, 0, 0, 0, 0, 0, 1, 1, 1, 1, 1, 1, 2, 1, 1, 1, 1,\n        0, 0, 0, 0, 0, 0, 0, 0, 0, 0, 0, 0, 0, 0, 0, 0],\n       [1, 0, 0, 1, 1, 1, 1, 1, 2, 1, 1, 1, 1, 0, 0, 0, 0, 0, 0, 0, 0, 0,\n        0, 0, 0, 0, 0, 0, 0, 0, 0, 0, 0, 0, 0, 0, 0, 0, 0, 2, 0, 0, 1, 0,\n        1, 1, 1, 1, 1, 1, 1, 1, 0, 0, 0, 0, 0, 2, 1, 1],\n       [0, 0, 0, 0, 0, 0, 0, 0, 0, 0, 0, 0, 0, 0, 0, 0, 0, 0, 0, 0, 1, 1,\n        0, 0, 0, 0, 3, 0, 0, 1, 1, 1, 1, 0, 0, 0, 0, 0, 0, 0, 0, 0, 0, 0,\n        0, 0, 0, 0, 0, 0, 0, 0, 1, 1, 1, 0, 0, 0, 0, 0]], dtype=int64)"
     },
     "execution_count": 22,
     "metadata": {},
     "output_type": "execute_result"
    }
   ],
   "source": [
    "# Here is the session-site matrix, toarrray() helps us to see a sparse matrix since it is not large.\n",
    "\n",
    "see_vect.toarray()"
   ]
  },
  {
   "cell_type": "code",
   "execution_count": 23,
   "metadata": {},
   "outputs": [
    {
     "data": {
      "text/plain": "'security.debian.org www-fourier.ujf-grenoble.fr www-fourier.ujf-grenoble.fr security.debian.org backports.debian.org backports.debian.org www-fourier.ujf-grenoble.fr security.debian.org backports.debian.org www-fourier.ujf-grenoble.fr'"
     },
     "execution_count": 23,
     "metadata": {},
     "output_type": "execute_result"
    }
   ],
   "source": [
    "# The first session (row in the matrix) is this:\n",
    "\n",
    "list_sites_names[0]"
   ]
  },
  {
   "cell_type": "markdown",
   "metadata": {},
   "source": [
    "Let's see how the first site of the first session, \"security.debian.org\", is recorded in the session-site matrix. \n",
    "Its ID is 21 which corresponds to 3. It is the number of times this site was seen in the first session.\n",
    "Indeed, count for yourself in the cell above. "
   ]
  },
  {
   "cell_type": "code",
   "execution_count": 24,
   "metadata": {},
   "outputs": [
    {
     "name": "stdout",
     "output_type": "stream",
     "text": [
      "1 0\n",
      "2 0\n",
      "3 0\n",
      "4 0\n",
      "5 0\n",
      "6 0\n",
      "7 0\n",
      "8 0\n",
      "9 0\n",
      "10 0\n",
      "11 0\n",
      "12 0\n",
      "13 0\n",
      "14 0\n",
      "15 0\n",
      "16 0\n",
      "17 0\n",
      "18 0\n",
      "19 0\n",
      "20 0\n",
      "21 3\n"
     ]
    }
   ],
   "source": [
    "\n",
    "first_row = see_vect.toarray()[0]\n",
    "\n",
    "for one, two in zip(range(60),first_row):\n",
    "    if one < 21:\n",
    "        print (one+1, two)\n"
   ]
  },
  {
   "cell_type": "markdown",
   "metadata": {},
   "source": [
    "Let's go back to all sessions."
   ]
  },
  {
   "cell_type": "markdown",
   "metadata": {
    "_uuid": "df2d4246d8542eae60adbbf3e2d599c80d5044a4"
   },
   "source": [
    "Fit `CountVectorizer` to train data and transform the train and test data with it."
   ]
  },
  {
   "cell_type": "code",
   "execution_count": 25,
   "metadata": {
    "execution": {
     "iopub.execute_input": "2022-04-07T11:59:16.803945Z",
     "iopub.status.busy": "2022-04-07T11:59:16.802761Z",
     "iopub.status.idle": "2022-04-07T11:59:37.310285Z",
     "shell.execute_reply": "2022-04-07T11:59:37.309436Z",
     "shell.execute_reply.started": "2022-04-07T11:59:16.803848Z"
    }
   },
   "outputs": [
    {
     "name": "stdout",
     "output_type": "stream",
     "text": [
      "(253561, 50000) (82797, 50000)\n",
      "CPU times: total: 8.67 s\n",
      "Wall time: 8.69 s\n"
     ]
    }
   ],
   "source": [
    "%%time\n",
    "\n",
    "with open('train_sessions_text.txt') as inp_train_file:\n",
    "    X_train = cv.fit_transform(inp_train_file)\n",
    "with open('test_sessions_text.txt') as inp_test_file:\n",
    "    X_test = cv.transform(inp_test_file)\n",
    "\n",
    "print(X_train.shape, X_test.shape)\n",
    "\n",
    "# Note very big dimensions of matrices: 253561 * 50000 = 12678050000 elements in train! Only sparse matrices can take it."
   ]
  },
  {
   "cell_type": "markdown",
   "metadata": {
    "_cell_guid": "f5424973-a5b0-40be-add7-bebb788adcfa",
    "_uuid": "e6d8be7bcbbf3aea078cada2195f43b689c181af"
   },
   "source": [
    "### Training the first model\n",
    "\n",
    "So, we have an algorithm and data for it. Let us build our first model, using [logistic regression](http://scikit-learn.org/stable/modules/generated/sklearn.linear_model.LogisticRegression.html) implementation from ` Sklearn` with default parameters. We will use the first 90% of the data for training (the training data set is sorted by time) and the remaining 10% for validation. Let's write a simple function that returns the quality of the model and then train our first classifier:"
   ]
  },
  {
   "cell_type": "code",
   "execution_count": 26,
   "metadata": {
    "_cell_guid": "bbcea30d-1e1e-4f14-bbd7-49930d165d7d",
    "_uuid": "0e5a5f750b7406290c52a00614e0ecf8a44e00bf",
    "execution": {
     "iopub.execute_input": "2022-04-07T12:06:54.137479Z",
     "iopub.status.busy": "2022-04-07T12:06:54.137046Z",
     "iopub.status.idle": "2022-04-07T12:06:54.144817Z",
     "shell.execute_reply": "2022-04-07T12:06:54.143131Z",
     "shell.execute_reply.started": "2022-04-07T12:06:54.13741Z"
    }
   },
   "outputs": [],
   "source": [
    "def get_auc_lr_valid(X, y, C=1.0, seed=17, ratio = 0.9):\n",
    "    \n",
    "    # Split the data into the training and validation sets\n",
    "    idx = int(round(X.shape[0] * ratio))\n",
    "    \n",
    "    # Classifier training\n",
    "    lr = LogisticRegression(C=C, random_state=seed, solver='lbfgs', max_iter=500).fit(X[:idx, :], y[:idx])\n",
    "    \n",
    "    # Prediction for validation set\n",
    "    y_pred = lr.predict_proba(X[idx:, :])[:, 1]\n",
    "    \n",
    "    # Calculate the quality\n",
    "    score = roc_auc_score(y[idx:], y_pred)\n",
    "    \n",
    "    return score"
   ]
  },
  {
   "cell_type": "code",
   "execution_count": 27,
   "metadata": {
    "_cell_guid": "9f3b378b-a11a-44c9-a7d1-0da152a42aae",
    "_uuid": "8f7b6e88162f02f298cd2edab0aa336d8f377607",
    "execution": {
     "iopub.execute_input": "2022-04-07T11:43:54.677941Z",
     "iopub.status.busy": "2022-04-07T11:43:54.677361Z",
     "iopub.status.idle": "2022-04-07T11:43:54.683147Z",
     "shell.execute_reply": "2022-04-07T11:43:54.682077Z",
     "shell.execute_reply.started": "2022-04-07T11:43:54.67774Z"
    }
   },
   "outputs": [],
   "source": [
    "# Our target variable\n",
    "y_train = train_df['target'].values"
   ]
  },
  {
   "cell_type": "code",
   "execution_count": 28,
   "metadata": {
    "_cell_guid": "c966e06b-024f-425d-8a17-347bace41214",
    "_uuid": "6b0670f406f20a741823e55f110738373af7eb51",
    "execution": {
     "iopub.execute_input": "2022-04-07T12:07:22.102357Z",
     "iopub.status.busy": "2022-04-07T12:07:22.101573Z",
     "iopub.status.idle": "2022-04-07T12:07:43.138674Z",
     "shell.execute_reply": "2022-04-07T12:07:43.137487Z",
     "shell.execute_reply.started": "2022-04-07T12:07:22.102302Z"
    }
   },
   "outputs": [
    {
     "name": "stdout",
     "output_type": "stream",
     "text": [
      "0.9122554756073407\n",
      "CPU times: total: 7.58 s\n",
      "Wall time: 7.25 s\n"
     ]
    }
   ],
   "source": [
    "%%time\n",
    "# Calculate metric on the validation set. 90% of train data for training. 10% for validation.\n",
    "\n",
    "print(get_auc_lr_valid(X_train, y_train))"
   ]
  },
  {
   "cell_type": "code",
   "execution_count": 29,
   "metadata": {
    "execution": {
     "iopub.execute_input": "2022-04-07T12:08:42.560724Z",
     "iopub.status.busy": "2022-04-07T12:08:42.560054Z",
     "iopub.status.idle": "2022-04-07T12:08:56.956133Z",
     "shell.execute_reply": "2022-04-07T12:08:56.955086Z",
     "shell.execute_reply.started": "2022-04-07T12:08:42.560645Z"
    }
   },
   "outputs": [
    {
     "data": {
      "text/plain": "0.8225181151083711"
     },
     "execution_count": 29,
     "metadata": {},
     "output_type": "execute_result"
    }
   ],
   "source": [
    "# 50% of train data for training:\n",
    "\n",
    "get_auc_lr_valid(X_train, y_train, ratio=0.5)"
   ]
  },
  {
   "cell_type": "code",
   "execution_count": 30,
   "metadata": {
    "execution": {
     "iopub.execute_input": "2022-03-31T10:22:18.267007Z",
     "iopub.status.busy": "2022-03-31T10:22:18.26632Z",
     "iopub.status.idle": "2022-03-31T10:22:18.271725Z",
     "shell.execute_reply": "2022-03-31T10:22:18.270772Z",
     "shell.execute_reply.started": "2022-03-31T10:22:18.266941Z"
    }
   },
   "outputs": [],
   "source": [
    "# Wow! Big data rules in this task: .82 -> .91"
   ]
  },
  {
   "cell_type": "code",
   "execution_count": 31,
   "metadata": {
    "_cell_guid": "4e7590d4-096f-4282-b0c6-702b5b5e8917",
    "_uuid": "d6457c4112f39c8d5721fba91feb1a4e74d3ed98",
    "execution": {
     "iopub.execute_input": "2022-04-07T12:12:08.196316Z",
     "iopub.status.busy": "2022-04-07T12:12:08.195957Z",
     "iopub.status.idle": "2022-04-07T12:12:08.201861Z",
     "shell.execute_reply": "2022-04-07T12:12:08.200826Z",
     "shell.execute_reply.started": "2022-04-07T12:12:08.196265Z"
    }
   },
   "outputs": [],
   "source": [
    "# Function for writing predictions to a file\n",
    "def write_to_submission_file(predicted_labels, out_file,\n",
    "                             target='target', index_label=\"session_id\"):\n",
    "    predicted_df = pd.DataFrame(predicted_labels,\n",
    "                                index = range(1, predicted_labels.shape[0] + 1),\n",
    "                                columns=[target])\n",
    "    predicted_df.to_csv(out_file, index_label=index_label)"
   ]
  },
  {
   "cell_type": "code",
   "execution_count": 32,
   "metadata": {
    "_cell_guid": "43108119-ddee-4eaf-830b-91adec26009b",
    "_uuid": "2c055eb78026fc951216ed7dbdbedcfa47b61898",
    "execution": {
     "iopub.execute_input": "2022-04-07T12:12:42.559522Z",
     "iopub.status.busy": "2022-04-07T12:12:42.559052Z",
     "iopub.status.idle": "2022-04-07T12:13:07.978637Z",
     "shell.execute_reply": "2022-04-07T12:13:07.977572Z",
     "shell.execute_reply.started": "2022-04-07T12:12:42.55948Z"
    }
   },
   "outputs": [],
   "source": [
    "# Train the model on the whole training data set\n",
    "# Use random_state=17 for reproducibility\n",
    "# Parameter C=1 by default, but here we set it explicitly\n",
    "\n",
    "lr = LogisticRegression(C=1.0, random_state=17, solver='lbfgs', max_iter=500).fit(X_train, y_train)\n",
    "\n",
    "# Make a prediction for test data set\n",
    "y_test = lr.predict_proba(X_test)[:, 1]\n",
    "\n",
    "# Write it to the file which could be submitted\n",
    "write_to_submission_file(y_test, 'baseline_1.csv')"
   ]
  },
  {
   "cell_type": "markdown",
   "metadata": {},
   "source": [
    "The first model demonstrated the quality of 0.9235 on the validation set. Let's take it as the first baseline and starting point. "
   ]
  },
  {
   "cell_type": "markdown",
   "source": [
    "### Задание №1 Какой процент сессий Элис из всех сессий?"
   ],
   "metadata": {
    "collapsed": false,
    "pycharm": {
     "name": "#%% md\n"
    }
   }
  },
  {
   "cell_type": "markdown",
   "source": [
    "Всего сессий:"
   ],
   "metadata": {
    "collapsed": false,
    "pycharm": {
     "name": "#%% md\n"
    }
   }
  },
  {
   "cell_type": "code",
   "execution_count": 33,
   "outputs": [
    {
     "data": {
      "text/plain": "253561"
     },
     "execution_count": 33,
     "metadata": {},
     "output_type": "execute_result"
    }
   ],
   "source": [
    "train_df['target'].count()"
   ],
   "metadata": {
    "collapsed": false,
    "pycharm": {
     "name": "#%%\n"
    }
   }
  },
  {
   "cell_type": "code",
   "execution_count": 48,
   "outputs": [
    {
     "data": {
      "text/plain": "0    251264\n1      2297\nName: target, dtype: int64"
     },
     "execution_count": 48,
     "metadata": {},
     "output_type": "execute_result"
    }
   ],
   "source": [
    "train_df['target'].value_counts()  # Сессий где была (1) и НЕ была (0) Элис"
   ],
   "metadata": {
    "collapsed": false,
    "pycharm": {
     "name": "#%%\n"
    }
   }
  },
  {
   "cell_type": "code",
   "execution_count": 35,
   "outputs": [
    {
     "data": {
      "text/plain": "0.00905896411514389"
     },
     "execution_count": 35,
     "metadata": {},
     "output_type": "execute_result"
    }
   ],
   "source": [
    "2297 / 253561"
   ],
   "metadata": {
    "collapsed": false,
    "pycharm": {
     "name": "#%%\n"
    }
   }
  },
  {
   "cell_type": "code",
   "execution_count": 53,
   "outputs": [
    {
     "data": {
      "text/plain": "<Figure size 640x480 with 1 Axes>",
      "image/png": "[encoded data removed]"
     },
     "metadata": {},
     "output_type": "display_data"
    }
   ],
   "source": [
    "td = train_df['target'].value_counts()\n",
    "plt.pie(td, startangle=90, autopct='%1.1f%%', labels=td.index)\n",
    "plt.axis('equal')\n",
    "plt.title('target')\n",
    "plt.show()"
   ],
   "metadata": {
    "collapsed": false,
    "pycharm": {
     "name": "#%%\n"
    }
   }
  },
  {
   "cell_type": "markdown",
   "source": [
    "**Ответ:** 0.9%"
   ],
   "metadata": {
    "collapsed": false,
    "pycharm": {
     "name": "#%% md\n"
    }
   }
  },
  {
   "cell_type": "markdown",
   "source": [
    "### Задание №2 в какой день недели Элис появилась в первый раз?"
   ],
   "metadata": {
    "collapsed": false,
    "pycharm": {
     "name": "#%% md\n"
    }
   }
  },
  {
   "cell_type": "code",
   "execution_count": 37,
   "outputs": [
    {
     "data": {
      "text/plain": "            site1               time1  site2               time2  site3  \\\nsession_id                                                                \n79635         270 2013-11-15 12:18:58     63 2013-11-15 12:21:25     21   \n11791        7832 2013-11-15 12:27:29     29 2013-11-15 12:27:30   7832   \n250238       7832 2013-11-15 12:28:02     30 2013-11-15 12:28:02     29   \n72789          29 2013-11-15 12:28:30     37 2013-11-15 12:29:02   7832   \n184885         29 2013-11-15 12:32:07     37 2013-11-15 12:32:28     29   \n...           ...                 ...    ...                 ...    ...   \n188473         37 2014-04-15 17:42:12   2271 2014-04-15 17:42:13     37   \n40139          29 2014-04-15 17:42:36     37 2014-04-15 17:42:37   2271   \n205622      18728 2014-04-15 17:42:49   1444 2014-04-15 17:42:50    157   \n60720           2 2014-04-15 18:06:02      3 2014-04-15 18:06:03      3   \n244233         12 2014-04-15 18:07:48     11 2014-04-15 18:07:48  11241   \n\n                         time3  site4               time4  site5  \\\nsession_id                                                         \n79635      2013-11-15 12:27:04     21 2013-11-15 12:27:05     22   \n11791      2013-11-15 12:27:31     37 2013-11-15 12:27:32   7832   \n250238     2013-11-15 12:28:03     30 2013-11-15 12:28:09   7832   \n72789      2013-11-15 12:31:41     30 2013-11-15 12:31:41     29   \n184885     2013-11-15 12:34:41   7832 2013-11-15 12:34:41     30   \n...                        ...    ...                 ...    ...   \n188473     2014-04-15 17:42:32    656 2014-04-15 17:42:32  17283   \n40139      2014-04-15 17:42:38     21 2014-04-15 17:42:39     21   \n205622     2014-04-15 17:42:53  18727 2014-04-15 17:42:54    319   \n60720      2014-04-15 18:06:04      8 2014-04-15 18:06:06      8   \n244233     2014-04-15 18:07:50     11 2014-04-15 18:07:50      0   \n\n                         time5  ...               time6 site7  \\\nsession_id                      ...                             \n79635      2013-11-15 12:27:06  ... 2013-11-15 12:27:25    21   \n11791      2013-11-15 12:27:41  ... 2013-11-15 12:27:41    29   \n250238     2013-11-15 12:28:09  ... 2013-11-15 12:28:09    37   \n72789      2013-11-15 12:31:42  ... 2013-11-15 12:31:53    30   \n184885     2013-11-15 12:34:41  ... 2013-11-15 12:35:05  7832   \n...                        ...  ...                 ...   ...   \n188473     2014-04-15 17:42:32  ... 2014-04-15 17:42:33   656   \n40139      2014-04-15 17:42:46  ... 2014-04-15 17:42:46    37   \n205622     2014-04-15 17:42:55  ... 2014-04-15 17:44:37  1444   \n60720      2014-04-15 18:06:17  ... 2014-04-15 18:06:34    14   \n244233                     NaT  ...                 NaT     0   \n\n                         time7  site8               time8  site9  \\\nsession_id                                                         \n79635      2013-11-15 12:27:25   7832 2013-11-15 12:27:28     21   \n11791      2013-11-15 12:27:41   7832 2013-11-15 12:27:47     30   \n250238     2013-11-15 12:28:18     21 2013-11-15 12:28:28   7832   \n72789      2013-11-15 12:31:53     29 2013-11-15 12:31:53   7832   \n184885     2013-11-15 12:35:06     30 2013-11-15 12:35:07     29   \n...                        ...    ...                 ...    ...   \n188473     2014-04-15 17:42:33     35 2014-04-15 17:42:34  17283   \n40139      2014-04-15 17:42:46  18727 2014-04-15 17:42:47     38   \n205622     2014-04-15 17:44:41  18727 2014-04-15 17:57:33   1444   \n60720      2014-04-15 18:06:42      4 2014-04-15 18:06:43      6   \n244233                     NaT      0                 NaT      0   \n\n                         time9 site10              time10 target  \nsession_id                                                        \n79635      2013-11-15 12:27:28     30 2013-11-15 12:27:29      1  \n11791      2013-11-15 12:27:47     29 2013-11-15 12:27:47      1  \n250238     2013-11-15 12:28:30     30 2013-11-15 12:28:30      1  \n72789      2013-11-15 12:32:06     30 2013-11-15 12:32:07      1  \n184885     2013-11-15 12:35:07   7832 2013-11-15 12:35:17      1  \n...                        ...    ...                 ...    ...  \n188473     2014-04-15 17:42:34    233 2014-04-15 17:42:35      1  \n40139      2014-04-15 17:42:48   1444 2014-04-15 17:42:49      1  \n205622     2014-04-15 17:57:37  18727 2014-04-15 17:58:30      1  \n60720      2014-04-15 18:06:45     14 2014-04-15 18:06:49      1  \n244233                     NaT      0                 NaT      1  \n\n[2297 rows x 21 columns]",
      "text/html": "<div>\n<style scoped>\n    .dataframe tbody tr th:only-of-type {\n        vertical-align: middle;\n    }\n\n    .dataframe tbody tr th {\n        vertical-align: top;\n    }\n\n    .dataframe thead th {\n        text-align: right;\n    }\n</style>\n<table border=\"1\" class=\"dataframe\">\n  <thead>\n    <tr style=\"text-align: right;\">\n      <th></th>\n      <th>site1</th>\n      <th>time1</th>\n      <th>site2</th>\n      <th>time2</th>\n      <th>site3</th>\n      <th>time3</th>\n      <th>site4</th>\n      <th>time4</th>\n      <th>site5</th>\n      <th>time5</th>\n      <th>...</th>\n      <th>time6</th>\n      <th>site7</th>\n      <th>time7</th>\n      <th>site8</th>\n      <th>time8</th>\n      <th>site9</th>\n      <th>time9</th>\n      <th>site10</th>\n      <th>time10</th>\n      <th>target</th>\n    </tr>\n    <tr>\n      <th>session_id</th>\n      <th></th>\n      <th></th>\n      <th></th>\n      <th></th>\n      <th></th>\n      <th></th>\n      <th></th>\n      <th></th>\n      <th></th>\n      <th></th>\n      <th></th>\n      <th></th>\n      <th></th>\n      <th></th>\n      <th></th>\n      <th></th>\n      <th></th>\n      <th></th>\n      <th></th>\n      <th></th>\n      <th></th>\n    </tr>\n  </thead>\n  <tbody>\n    <tr>\n      <th>79635</th>\n      <td>270</td>\n      <td>2013-11-15 12:18:58</td>\n      <td>63</td>\n      <td>2013-11-15 12:21:25</td>\n      <td>21</td>\n      <td>2013-11-15 12:27:04</td>\n      <td>21</td>\n      <td>2013-11-15 12:27:05</td>\n      <td>22</td>\n      <td>2013-11-15 12:27:06</td>\n      <td>...</td>\n      <td>2013-11-15 12:27:25</td>\n      <td>21</td>\n      <td>2013-11-15 12:27:25</td>\n      <td>7832</td>\n      <td>2013-11-15 12:27:28</td>\n      <td>21</td>\n      <td>2013-11-15 12:27:28</td>\n      <td>30</td>\n      <td>2013-11-15 12:27:29</td>\n      <td>1</td>\n    </tr>\n    <tr>\n      <th>11791</th>\n      <td>7832</td>\n      <td>2013-11-15 12:27:29</td>\n      <td>29</td>\n      <td>2013-11-15 12:27:30</td>\n      <td>7832</td>\n      <td>2013-11-15 12:27:31</td>\n      <td>37</td>\n      <td>2013-11-15 12:27:32</td>\n      <td>7832</td>\n      <td>2013-11-15 12:27:41</td>\n      <td>...</td>\n      <td>2013-11-15 12:27:41</td>\n      <td>29</td>\n      <td>2013-11-15 12:27:41</td>\n      <td>7832</td>\n      <td>2013-11-15 12:27:47</td>\n      <td>30</td>\n      <td>2013-11-15 12:27:47</td>\n      <td>29</td>\n      <td>2013-11-15 12:27:47</td>\n      <td>1</td>\n    </tr>\n    <tr>\n      <th>250238</th>\n      <td>7832</td>\n      <td>2013-11-15 12:28:02</td>\n      <td>30</td>\n      <td>2013-11-15 12:28:02</td>\n      <td>29</td>\n      <td>2013-11-15 12:28:03</td>\n      <td>30</td>\n      <td>2013-11-15 12:28:09</td>\n      <td>7832</td>\n      <td>2013-11-15 12:28:09</td>\n      <td>...</td>\n      <td>2013-11-15 12:28:09</td>\n      <td>37</td>\n      <td>2013-11-15 12:28:18</td>\n      <td>21</td>\n      <td>2013-11-15 12:28:28</td>\n      <td>7832</td>\n      <td>2013-11-15 12:28:30</td>\n      <td>30</td>\n      <td>2013-11-15 12:28:30</td>\n      <td>1</td>\n    </tr>\n    <tr>\n      <th>72789</th>\n      <td>29</td>\n      <td>2013-11-15 12:28:30</td>\n      <td>37</td>\n      <td>2013-11-15 12:29:02</td>\n      <td>7832</td>\n      <td>2013-11-15 12:31:41</td>\n      <td>30</td>\n      <td>2013-11-15 12:31:41</td>\n      <td>29</td>\n      <td>2013-11-15 12:31:42</td>\n      <td>...</td>\n      <td>2013-11-15 12:31:53</td>\n      <td>30</td>\n      <td>2013-11-15 12:31:53</td>\n      <td>29</td>\n      <td>2013-11-15 12:31:53</td>\n      <td>7832</td>\n      <td>2013-11-15 12:32:06</td>\n      <td>30</td>\n      <td>2013-11-15 12:32:07</td>\n      <td>1</td>\n    </tr>\n    <tr>\n      <th>184885</th>\n      <td>29</td>\n      <td>2013-11-15 12:32:07</td>\n      <td>37</td>\n      <td>2013-11-15 12:32:28</td>\n      <td>29</td>\n      <td>2013-11-15 12:34:41</td>\n      <td>7832</td>\n      <td>2013-11-15 12:34:41</td>\n      <td>30</td>\n      <td>2013-11-15 12:34:41</td>\n      <td>...</td>\n      <td>2013-11-15 12:35:05</td>\n      <td>7832</td>\n      <td>2013-11-15 12:35:06</td>\n      <td>30</td>\n      <td>2013-11-15 12:35:07</td>\n      <td>29</td>\n      <td>2013-11-15 12:35:07</td>\n      <td>7832</td>\n      <td>2013-11-15 12:35:17</td>\n      <td>1</td>\n    </tr>\n    <tr>\n      <th>...</th>\n      <td>...</td>\n      <td>...</td>\n      <td>...</td>\n      <td>...</td>\n      <td>...</td>\n      <td>...</td>\n      <td>...</td>\n      <td>...</td>\n      <td>...</td>\n      <td>...</td>\n      <td>...</td>\n      <td>...</td>\n      <td>...</td>\n      <td>...</td>\n      <td>...</td>\n      <td>...</td>\n      <td>...</td>\n      <td>...</td>\n      <td>...</td>\n      <td>...</td>\n      <td>...</td>\n    </tr>\n    <tr>\n      <th>188473</th>\n      <td>37</td>\n      <td>2014-04-15 17:42:12</td>\n      <td>2271</td>\n      <td>2014-04-15 17:42:13</td>\n      <td>37</td>\n      <td>2014-04-15 17:42:32</td>\n      <td>656</td>\n      <td>2014-04-15 17:42:32</td>\n      <td>17283</td>\n      <td>2014-04-15 17:42:32</td>\n      <td>...</td>\n      <td>2014-04-15 17:42:33</td>\n      <td>656</td>\n      <td>2014-04-15 17:42:33</td>\n      <td>35</td>\n      <td>2014-04-15 17:42:34</td>\n      <td>17283</td>\n      <td>2014-04-15 17:42:34</td>\n      <td>233</td>\n      <td>2014-04-15 17:42:35</td>\n      <td>1</td>\n    </tr>\n    <tr>\n      <th>40139</th>\n      <td>29</td>\n      <td>2014-04-15 17:42:36</td>\n      <td>37</td>\n      <td>2014-04-15 17:42:37</td>\n      <td>2271</td>\n      <td>2014-04-15 17:42:38</td>\n      <td>21</td>\n      <td>2014-04-15 17:42:39</td>\n      <td>21</td>\n      <td>2014-04-15 17:42:46</td>\n      <td>...</td>\n      <td>2014-04-15 17:42:46</td>\n      <td>37</td>\n      <td>2014-04-15 17:42:46</td>\n      <td>18727</td>\n      <td>2014-04-15 17:42:47</td>\n      <td>38</td>\n      <td>2014-04-15 17:42:48</td>\n      <td>1444</td>\n      <td>2014-04-15 17:42:49</td>\n      <td>1</td>\n    </tr>\n    <tr>\n      <th>205622</th>\n      <td>18728</td>\n      <td>2014-04-15 17:42:49</td>\n      <td>1444</td>\n      <td>2014-04-15 17:42:50</td>\n      <td>157</td>\n      <td>2014-04-15 17:42:53</td>\n      <td>18727</td>\n      <td>2014-04-15 17:42:54</td>\n      <td>319</td>\n      <td>2014-04-15 17:42:55</td>\n      <td>...</td>\n      <td>2014-04-15 17:44:37</td>\n      <td>1444</td>\n      <td>2014-04-15 17:44:41</td>\n      <td>18727</td>\n      <td>2014-04-15 17:57:33</td>\n      <td>1444</td>\n      <td>2014-04-15 17:57:37</td>\n      <td>18727</td>\n      <td>2014-04-15 17:58:30</td>\n      <td>1</td>\n    </tr>\n    <tr>\n      <th>60720</th>\n      <td>2</td>\n      <td>2014-04-15 18:06:02</td>\n      <td>3</td>\n      <td>2014-04-15 18:06:03</td>\n      <td>3</td>\n      <td>2014-04-15 18:06:04</td>\n      <td>8</td>\n      <td>2014-04-15 18:06:06</td>\n      <td>8</td>\n      <td>2014-04-15 18:06:17</td>\n      <td>...</td>\n      <td>2014-04-15 18:06:34</td>\n      <td>14</td>\n      <td>2014-04-15 18:06:42</td>\n      <td>4</td>\n      <td>2014-04-15 18:06:43</td>\n      <td>6</td>\n      <td>2014-04-15 18:06:45</td>\n      <td>14</td>\n      <td>2014-04-15 18:06:49</td>\n      <td>1</td>\n    </tr>\n    <tr>\n      <th>244233</th>\n      <td>12</td>\n      <td>2014-04-15 18:07:48</td>\n      <td>11</td>\n      <td>2014-04-15 18:07:48</td>\n      <td>11241</td>\n      <td>2014-04-15 18:07:50</td>\n      <td>11</td>\n      <td>2014-04-15 18:07:50</td>\n      <td>0</td>\n      <td>NaT</td>\n      <td>...</td>\n      <td>NaT</td>\n      <td>0</td>\n      <td>NaT</td>\n      <td>0</td>\n      <td>NaT</td>\n      <td>0</td>\n      <td>NaT</td>\n      <td>0</td>\n      <td>NaT</td>\n      <td>1</td>\n    </tr>\n  </tbody>\n</table>\n<p>2297 rows × 21 columns</p>\n</div>"
     },
     "execution_count": 37,
     "metadata": {},
     "output_type": "execute_result"
    }
   ],
   "source": [
    "train_df[train_df.target == 1]"
   ],
   "metadata": {
    "collapsed": false,
    "pycharm": {
     "name": "#%%\n"
    }
   }
  },
  {
   "cell_type": "code",
   "execution_count": 38,
   "outputs": [
    {
     "data": {
      "text/plain": "5"
     },
     "execution_count": 38,
     "metadata": {},
     "output_type": "execute_result"
    }
   ],
   "source": [
    "train_df['time1'].min().isoweekday()  #.isoweekday() - показывает день недели, где 1 - понедельник, 7 - воскресенье"
   ],
   "metadata": {
    "collapsed": false,
    "pycharm": {
     "name": "#%%\n"
    }
   }
  },
  {
   "cell_type": "markdown",
   "source": [
    "**Ответ:** Пятница (2013-11-15 - 15 ноября 2013 года - пятница)"
   ],
   "metadata": {
    "collapsed": false,
    "pycharm": {
     "name": "#%% md\n"
    }
   }
  },
  {
   "cell_type": "markdown",
   "source": [
    "### Задание №3 Какие года присутствуют в обучающей выборке?"
   ],
   "metadata": {
    "collapsed": false,
    "pycharm": {
     "name": "#%% md\n"
    }
   }
  },
  {
   "cell_type": "code",
   "execution_count": 39,
   "outputs": [
    {
     "data": {
      "text/plain": "            site1               time1  site2               time2  site3  \\\nsession_id                                                                \n27554       41475 2013-11-15 07:39:35   6725 2013-11-15 07:39:35   6725   \n81350       41476 2013-11-15 07:44:25  41475 2013-11-15 07:44:25  41476   \n234665       4802 2013-11-15 07:52:17     23 2013-11-15 07:52:18   4803   \n97610          23 2013-11-15 07:52:28     23 2013-11-15 07:52:29     22   \n161358      41476 2013-11-15 07:57:50  41476 2013-11-15 07:57:51   6725   \n...           ...                 ...    ...                 ...    ...   \n129606       6003 2014-05-03 18:06:13      0                 NaT      0   \n53628        6003 2014-05-03 18:09:26      0                 NaT      0   \n84754        6003 2014-05-03 18:11:21      0                 NaT      0   \n153398       6003 2014-05-03 18:15:57   6003 2014-05-03 18:15:58      0   \n11690         305 2014-05-04 17:30:57    306 2014-05-04 17:30:58    306   \n\n                         time3  site4               time4  site5  \\\nsession_id                                                         \n27554      2013-11-15 07:39:36  41475 2013-11-15 07:39:36  41476   \n81350      2013-11-15 07:57:45   6725 2013-11-15 07:57:45  41475   \n234665     2013-11-15 07:52:19     38 2013-11-15 07:52:19     38   \n97610      2013-11-15 07:52:37     21 2013-11-15 07:52:37     63   \n161358     2013-11-15 07:59:34  41475 2013-11-15 07:59:34  41476   \n...                        ...    ...                 ...    ...   \n129606                     NaT      0                 NaT      0   \n53628                      NaT      0                 NaT      0   \n84754                      NaT      0                 NaT      0   \n153398                     NaT      0                 NaT      0   \n11690      2014-05-04 17:31:00    979 2014-05-04 17:33:07      0   \n\n                         time5  ...               time6  site7  \\\nsession_id                      ...                              \n27554      2013-11-15 07:39:40  ... 2013-11-15 07:39:41   6725   \n81350      2013-11-15 07:57:45  ... 2013-11-15 07:57:46  41476   \n234665     2013-11-15 07:52:20  ... 2013-11-15 07:52:20   4804   \n97610      2013-11-15 07:55:10  ... 2013-11-15 07:55:10    784   \n161358     2013-11-15 07:59:34  ...                 NaT      0   \n...                        ...  ...                 ...    ...   \n129606                     NaT  ...                 NaT      0   \n53628                      NaT  ...                 NaT      0   \n84754                      NaT  ...                 NaT      0   \n153398                     NaT  ...                 NaT      0   \n11690                      NaT  ...                 NaT      0   \n\n                         time7  site8               time8  site9  \\\nsession_id                                                         \n27554      2013-11-15 07:42:50  41475 2013-11-15 07:42:50  41476   \n81350      2013-11-15 07:57:47   6725 2013-11-15 07:57:49  41475   \n234665     2013-11-15 07:52:23     21 2013-11-15 07:52:26     23   \n97610      2013-11-15 07:55:56   4804 2013-11-15 07:57:50   4804   \n161358                     NaT      0                 NaT      0   \n...                        ...    ...                 ...    ...   \n129606                     NaT      0                 NaT      0   \n53628                      NaT      0                 NaT      0   \n84754                      NaT      0                 NaT      0   \n153398                     NaT      0                 NaT      0   \n11690                      NaT      0                 NaT      0   \n\n                         time9 site10              time10 target  \nsession_id                                                        \n27554      2013-11-15 07:42:50   6725 2013-11-15 07:44:25      0  \n81350      2013-11-15 07:57:49  41476 2013-11-15 07:57:49      0  \n234665     2013-11-15 07:52:26     22 2013-11-15 07:52:28      0  \n97610      2013-11-15 08:01:18    784 2013-11-15 08:01:26      0  \n161358                     NaT      0                 NaT      0  \n...                        ...    ...                 ...    ...  \n129606                     NaT      0                 NaT      0  \n53628                      NaT      0                 NaT      0  \n84754                      NaT      0                 NaT      0  \n153398                     NaT      0                 NaT      0  \n11690                      NaT      0                 NaT      0  \n\n[253561 rows x 21 columns]",
      "text/html": "<div>\n<style scoped>\n    .dataframe tbody tr th:only-of-type {\n        vertical-align: middle;\n    }\n\n    .dataframe tbody tr th {\n        vertical-align: top;\n    }\n\n    .dataframe thead th {\n        text-align: right;\n    }\n</style>\n<table border=\"1\" class=\"dataframe\">\n  <thead>\n    <tr style=\"text-align: right;\">\n      <th></th>\n      <th>site1</th>\n      <th>time1</th>\n      <th>site2</th>\n      <th>time2</th>\n      <th>site3</th>\n      <th>time3</th>\n      <th>site4</th>\n      <th>time4</th>\n      <th>site5</th>\n      <th>time5</th>\n      <th>...</th>\n      <th>time6</th>\n      <th>site7</th>\n      <th>time7</th>\n      <th>site8</th>\n      <th>time8</th>\n      <th>site9</th>\n      <th>time9</th>\n      <th>site10</th>\n      <th>time10</th>\n      <th>target</th>\n    </tr>\n    <tr>\n      <th>session_id</th>\n      <th></th>\n      <th></th>\n      <th></th>\n      <th></th>\n      <th></th>\n      <th></th>\n      <th></th>\n      <th></th>\n      <th></th>\n      <th></th>\n      <th></th>\n      <th></th>\n      <th></th>\n      <th></th>\n      <th></th>\n      <th></th>\n      <th></th>\n      <th></th>\n      <th></th>\n      <th></th>\n      <th></th>\n    </tr>\n  </thead>\n  <tbody>\n    <tr>\n      <th>27554</th>\n      <td>41475</td>\n      <td>2013-11-15 07:39:35</td>\n      <td>6725</td>\n      <td>2013-11-15 07:39:35</td>\n      <td>6725</td>\n      <td>2013-11-15 07:39:36</td>\n      <td>41475</td>\n      <td>2013-11-15 07:39:36</td>\n      <td>41476</td>\n      <td>2013-11-15 07:39:40</td>\n      <td>...</td>\n      <td>2013-11-15 07:39:41</td>\n      <td>6725</td>\n      <td>2013-11-15 07:42:50</td>\n      <td>41475</td>\n      <td>2013-11-15 07:42:50</td>\n      <td>41476</td>\n      <td>2013-11-15 07:42:50</td>\n      <td>6725</td>\n      <td>2013-11-15 07:44:25</td>\n      <td>0</td>\n    </tr>\n    <tr>\n      <th>81350</th>\n      <td>41476</td>\n      <td>2013-11-15 07:44:25</td>\n      <td>41475</td>\n      <td>2013-11-15 07:44:25</td>\n      <td>41476</td>\n      <td>2013-11-15 07:57:45</td>\n      <td>6725</td>\n      <td>2013-11-15 07:57:45</td>\n      <td>41475</td>\n      <td>2013-11-15 07:57:45</td>\n      <td>...</td>\n      <td>2013-11-15 07:57:46</td>\n      <td>41476</td>\n      <td>2013-11-15 07:57:47</td>\n      <td>6725</td>\n      <td>2013-11-15 07:57:49</td>\n      <td>41475</td>\n      <td>2013-11-15 07:57:49</td>\n      <td>41476</td>\n      <td>2013-11-15 07:57:49</td>\n      <td>0</td>\n    </tr>\n    <tr>\n      <th>234665</th>\n      <td>4802</td>\n      <td>2013-11-15 07:52:17</td>\n      <td>23</td>\n      <td>2013-11-15 07:52:18</td>\n      <td>4803</td>\n      <td>2013-11-15 07:52:19</td>\n      <td>38</td>\n      <td>2013-11-15 07:52:19</td>\n      <td>38</td>\n      <td>2013-11-15 07:52:20</td>\n      <td>...</td>\n      <td>2013-11-15 07:52:20</td>\n      <td>4804</td>\n      <td>2013-11-15 07:52:23</td>\n      <td>21</td>\n      <td>2013-11-15 07:52:26</td>\n      <td>23</td>\n      <td>2013-11-15 07:52:26</td>\n      <td>22</td>\n      <td>2013-11-15 07:52:28</td>\n      <td>0</td>\n    </tr>\n    <tr>\n      <th>97610</th>\n      <td>23</td>\n      <td>2013-11-15 07:52:28</td>\n      <td>23</td>\n      <td>2013-11-15 07:52:29</td>\n      <td>22</td>\n      <td>2013-11-15 07:52:37</td>\n      <td>21</td>\n      <td>2013-11-15 07:52:37</td>\n      <td>63</td>\n      <td>2013-11-15 07:55:10</td>\n      <td>...</td>\n      <td>2013-11-15 07:55:10</td>\n      <td>784</td>\n      <td>2013-11-15 07:55:56</td>\n      <td>4804</td>\n      <td>2013-11-15 07:57:50</td>\n      <td>4804</td>\n      <td>2013-11-15 08:01:18</td>\n      <td>784</td>\n      <td>2013-11-15 08:01:26</td>\n      <td>0</td>\n    </tr>\n    <tr>\n      <th>161358</th>\n      <td>41476</td>\n      <td>2013-11-15 07:57:50</td>\n      <td>41476</td>\n      <td>2013-11-15 07:57:51</td>\n      <td>6725</td>\n      <td>2013-11-15 07:59:34</td>\n      <td>41475</td>\n      <td>2013-11-15 07:59:34</td>\n      <td>41476</td>\n      <td>2013-11-15 07:59:34</td>\n      <td>...</td>\n      <td>NaT</td>\n      <td>0</td>\n      <td>NaT</td>\n      <td>0</td>\n      <td>NaT</td>\n      <td>0</td>\n      <td>NaT</td>\n      <td>0</td>\n      <td>NaT</td>\n      <td>0</td>\n    </tr>\n    <tr>\n      <th>...</th>\n      <td>...</td>\n      <td>...</td>\n      <td>...</td>\n      <td>...</td>\n      <td>...</td>\n      <td>...</td>\n      <td>...</td>\n      <td>...</td>\n      <td>...</td>\n      <td>...</td>\n      <td>...</td>\n      <td>...</td>\n      <td>...</td>\n      <td>...</td>\n      <td>...</td>\n      <td>...</td>\n      <td>...</td>\n      <td>...</td>\n      <td>...</td>\n      <td>...</td>\n      <td>...</td>\n    </tr>\n    <tr>\n      <th>129606</th>\n      <td>6003</td>\n      <td>2014-05-03 18:06:13</td>\n      <td>0</td>\n      <td>NaT</td>\n      <td>0</td>\n      <td>NaT</td>\n      <td>0</td>\n      <td>NaT</td>\n      <td>0</td>\n      <td>NaT</td>\n      <td>...</td>\n      <td>NaT</td>\n      <td>0</td>\n      <td>NaT</td>\n      <td>0</td>\n      <td>NaT</td>\n      <td>0</td>\n      <td>NaT</td>\n      <td>0</td>\n      <td>NaT</td>\n      <td>0</td>\n    </tr>\n    <tr>\n      <th>53628</th>\n      <td>6003</td>\n      <td>2014-05-03 18:09:26</td>\n      <td>0</td>\n      <td>NaT</td>\n      <td>0</td>\n      <td>NaT</td>\n      <td>0</td>\n      <td>NaT</td>\n      <td>0</td>\n      <td>NaT</td>\n      <td>...</td>\n      <td>NaT</td>\n      <td>0</td>\n      <td>NaT</td>\n      <td>0</td>\n      <td>NaT</td>\n      <td>0</td>\n      <td>NaT</td>\n      <td>0</td>\n      <td>NaT</td>\n      <td>0</td>\n    </tr>\n    <tr>\n      <th>84754</th>\n      <td>6003</td>\n      <td>2014-05-03 18:11:21</td>\n      <td>0</td>\n      <td>NaT</td>\n      <td>0</td>\n      <td>NaT</td>\n      <td>0</td>\n      <td>NaT</td>\n      <td>0</td>\n      <td>NaT</td>\n      <td>...</td>\n      <td>NaT</td>\n      <td>0</td>\n      <td>NaT</td>\n      <td>0</td>\n      <td>NaT</td>\n      <td>0</td>\n      <td>NaT</td>\n      <td>0</td>\n      <td>NaT</td>\n      <td>0</td>\n    </tr>\n    <tr>\n      <th>153398</th>\n      <td>6003</td>\n      <td>2014-05-03 18:15:57</td>\n      <td>6003</td>\n      <td>2014-05-03 18:15:58</td>\n      <td>0</td>\n      <td>NaT</td>\n      <td>0</td>\n      <td>NaT</td>\n      <td>0</td>\n      <td>NaT</td>\n      <td>...</td>\n      <td>NaT</td>\n      <td>0</td>\n      <td>NaT</td>\n      <td>0</td>\n      <td>NaT</td>\n      <td>0</td>\n      <td>NaT</td>\n      <td>0</td>\n      <td>NaT</td>\n      <td>0</td>\n    </tr>\n    <tr>\n      <th>11690</th>\n      <td>305</td>\n      <td>2014-05-04 17:30:57</td>\n      <td>306</td>\n      <td>2014-05-04 17:30:58</td>\n      <td>306</td>\n      <td>2014-05-04 17:31:00</td>\n      <td>979</td>\n      <td>2014-05-04 17:33:07</td>\n      <td>0</td>\n      <td>NaT</td>\n      <td>...</td>\n      <td>NaT</td>\n      <td>0</td>\n      <td>NaT</td>\n      <td>0</td>\n      <td>NaT</td>\n      <td>0</td>\n      <td>NaT</td>\n      <td>0</td>\n      <td>NaT</td>\n      <td>0</td>\n    </tr>\n  </tbody>\n</table>\n<p>253561 rows × 21 columns</p>\n</div>"
     },
     "execution_count": 39,
     "metadata": {},
     "output_type": "execute_result"
    }
   ],
   "source": [
    "train_df"
   ],
   "metadata": {
    "collapsed": false,
    "pycharm": {
     "name": "#%%\n"
    }
   }
  },
  {
   "cell_type": "code",
   "execution_count": 40,
   "outputs": [
    {
     "data": {
      "text/plain": "time1\n2013     74675\n2014    178886\nName: time1, dtype: int64"
     },
     "execution_count": 40,
     "metadata": {},
     "output_type": "execute_result"
    }
   ],
   "source": [
    "train_df['time1'].groupby(train_df['time1'].dt.year).count()  # Группировка по году"
   ],
   "metadata": {
    "collapsed": false,
    "pycharm": {
     "name": "#%%\n"
    }
   }
  },
  {
   "cell_type": "code",
   "execution_count": 55,
   "outputs": [
    {
     "data": {
      "text/plain": "time1\n1     28058\n2     53108\n3     55275\n4     42358\n5        87\n11    31118\n12    43557\nName: time1, dtype: int64"
     },
     "execution_count": 55,
     "metadata": {},
     "output_type": "execute_result"
    }
   ],
   "source": [
    "train_df['time1'].groupby(train_df['time1'].dt.month).count() # Группировка по месяцу"
   ],
   "metadata": {
    "collapsed": false,
    "pycharm": {
     "name": "#%%\n"
    }
   }
  },
  {
   "cell_type": "markdown",
   "source": [
    "**Ответ:** 2013, 2014"
   ],
   "metadata": {
    "collapsed": false,
    "pycharm": {
     "name": "#%% md\n"
    }
   }
  },
  {
   "cell_type": "markdown",
   "source": [
    "### Задание №4 Какой сайт в обучающей выборке чаще всего посещает первым Элис и обычный пользователь?"
   ],
   "metadata": {
    "collapsed": false,
    "pycharm": {
     "name": "#%% md\n"
    }
   }
  },
  {
   "cell_type": "code",
   "execution_count": 41,
   "outputs": [],
   "source": [
    "df = train_df[['site1', 'target']]\n",
    "df_alice = df[df['target']==1]\n",
    "df_user = df[df['target']==0]"
   ],
   "metadata": {
    "collapsed": false,
    "pycharm": {
     "name": "#%%\n"
    }
   }
  },
  {
   "cell_type": "code",
   "execution_count": 42,
   "outputs": [
    {
     "data": {
      "text/plain": "            site1  target\nsession_id               \n79635         270       1\n11791        7832       1\n250238       7832       1\n72789          29       1\n184885         29       1\n...           ...     ...\n188473         37       1\n40139          29       1\n205622      18728       1\n60720           2       1\n244233         12       1\n\n[2297 rows x 2 columns]",
      "text/html": "<div>\n<style scoped>\n    .dataframe tbody tr th:only-of-type {\n        vertical-align: middle;\n    }\n\n    .dataframe tbody tr th {\n        vertical-align: top;\n    }\n\n    .dataframe thead th {\n        text-align: right;\n    }\n</style>\n<table border=\"1\" class=\"dataframe\">\n  <thead>\n    <tr style=\"text-align: right;\">\n      <th></th>\n      <th>site1</th>\n      <th>target</th>\n    </tr>\n    <tr>\n      <th>session_id</th>\n      <th></th>\n      <th></th>\n    </tr>\n  </thead>\n  <tbody>\n    <tr>\n      <th>79635</th>\n      <td>270</td>\n      <td>1</td>\n    </tr>\n    <tr>\n      <th>11791</th>\n      <td>7832</td>\n      <td>1</td>\n    </tr>\n    <tr>\n      <th>250238</th>\n      <td>7832</td>\n      <td>1</td>\n    </tr>\n    <tr>\n      <th>72789</th>\n      <td>29</td>\n      <td>1</td>\n    </tr>\n    <tr>\n      <th>184885</th>\n      <td>29</td>\n      <td>1</td>\n    </tr>\n    <tr>\n      <th>...</th>\n      <td>...</td>\n      <td>...</td>\n    </tr>\n    <tr>\n      <th>188473</th>\n      <td>37</td>\n      <td>1</td>\n    </tr>\n    <tr>\n      <th>40139</th>\n      <td>29</td>\n      <td>1</td>\n    </tr>\n    <tr>\n      <th>205622</th>\n      <td>18728</td>\n      <td>1</td>\n    </tr>\n    <tr>\n      <th>60720</th>\n      <td>2</td>\n      <td>1</td>\n    </tr>\n    <tr>\n      <th>244233</th>\n      <td>12</td>\n      <td>1</td>\n    </tr>\n  </tbody>\n</table>\n<p>2297 rows × 2 columns</p>\n</div>"
     },
     "execution_count": 42,
     "metadata": {},
     "output_type": "execute_result"
    }
   ],
   "source": [
    "df_alice  # Сайты, которые посещала Элис"
   ],
   "metadata": {
    "collapsed": false,
    "pycharm": {
     "name": "#%%\n"
    }
   }
  },
  {
   "cell_type": "code",
   "execution_count": 43,
   "outputs": [
    {
     "data": {
      "text/plain": "            site1  target\nsession_id               \n79635         270       1\n11791        7832       1\n250238       7832       1\n72789          29       1\n184885         29       1\n...           ...     ...\n188473         37       1\n40139          29       1\n205622      18728       1\n60720           2       1\n244233         12       1\n\n[2297 rows x 2 columns]",
      "text/html": "<div>\n<style scoped>\n    .dataframe tbody tr th:only-of-type {\n        vertical-align: middle;\n    }\n\n    .dataframe tbody tr th {\n        vertical-align: top;\n    }\n\n    .dataframe thead th {\n        text-align: right;\n    }\n</style>\n<table border=\"1\" class=\"dataframe\">\n  <thead>\n    <tr style=\"text-align: right;\">\n      <th></th>\n      <th>site1</th>\n      <th>target</th>\n    </tr>\n    <tr>\n      <th>session_id</th>\n      <th></th>\n      <th></th>\n    </tr>\n  </thead>\n  <tbody>\n    <tr>\n      <th>79635</th>\n      <td>270</td>\n      <td>1</td>\n    </tr>\n    <tr>\n      <th>11791</th>\n      <td>7832</td>\n      <td>1</td>\n    </tr>\n    <tr>\n      <th>250238</th>\n      <td>7832</td>\n      <td>1</td>\n    </tr>\n    <tr>\n      <th>72789</th>\n      <td>29</td>\n      <td>1</td>\n    </tr>\n    <tr>\n      <th>184885</th>\n      <td>29</td>\n      <td>1</td>\n    </tr>\n    <tr>\n      <th>...</th>\n      <td>...</td>\n      <td>...</td>\n    </tr>\n    <tr>\n      <th>188473</th>\n      <td>37</td>\n      <td>1</td>\n    </tr>\n    <tr>\n      <th>40139</th>\n      <td>29</td>\n      <td>1</td>\n    </tr>\n    <tr>\n      <th>205622</th>\n      <td>18728</td>\n      <td>1</td>\n    </tr>\n    <tr>\n      <th>60720</th>\n      <td>2</td>\n      <td>1</td>\n    </tr>\n    <tr>\n      <th>244233</th>\n      <td>12</td>\n      <td>1</td>\n    </tr>\n  </tbody>\n</table>\n<p>2297 rows × 2 columns</p>\n</div>"
     },
     "execution_count": 43,
     "metadata": {},
     "output_type": "execute_result"
    }
   ],
   "source": [
    "train_df[['site1', 'target']][train_df[['site1', 'target']]['target']==1]  # ↑ Тоже самое, но без сокращений"
   ],
   "metadata": {
    "collapsed": false,
    "pycharm": {
     "name": "#%%\n"
    }
   }
  },
  {
   "cell_type": "code",
   "execution_count": 44,
   "outputs": [
    {
     "data": {
      "text/plain": "site1\n21     13794\n23      9193\n782     7769\n29      5403\n22      5378\ndtype: int64"
     },
     "execution_count": 44,
     "metadata": {},
     "output_type": "execute_result"
    }
   ],
   "source": [
    "df_user.value_counts(subset='site1').head(5)  # Топ 5 ПЕРВЫХ(site1) посещаемых сайтов пользователями (по количеству сессий)"
   ],
   "metadata": {
    "collapsed": false,
    "pycharm": {
     "name": "#%%\n"
    }
   }
  },
  {
   "cell_type": "code",
   "execution_count": 45,
   "outputs": [
    {
     "data": {
      "text/plain": "'www.google.fr'"
     },
     "execution_count": 45,
     "metadata": {},
     "output_type": "execute_result"
    }
   ],
   "source": [
    "new_dict[21]  # Самый популярный сайт среди пользователей"
   ],
   "metadata": {
    "collapsed": false,
    "pycharm": {
     "name": "#%%\n"
    }
   }
  },
  {
   "cell_type": "code",
   "execution_count": 46,
   "outputs": [
    {
     "data": {
      "text/plain": "site1\n80    142\n77    141\n76    130\n29     98\n21     80\ndtype: int64"
     },
     "execution_count": 46,
     "metadata": {},
     "output_type": "execute_result"
    }
   ],
   "source": [
    "df_alice.value_counts(subset='site1').head(5)  # Топ 5 ПЕРВЫХ(site1) посещаемых сайтов Элис (по количеству сессий)"
   ],
   "metadata": {
    "collapsed": false,
    "pycharm": {
     "name": "#%%\n"
    }
   }
  },
  {
   "cell_type": "code",
   "execution_count": 47,
   "outputs": [
    {
     "data": {
      "text/plain": "'s.youtube.com'"
     },
     "execution_count": 47,
     "metadata": {},
     "output_type": "execute_result"
    }
   ],
   "source": [
    "new_dict[80]  # Самый посещаемый сайт Элис"
   ],
   "metadata": {
    "collapsed": false,
    "pycharm": {
     "name": "#%%\n"
    }
   }
  },
  {
   "cell_type": "markdown",
   "source": [
    "**Ответ:** s.youtube.com, www.google.fr"
   ],
   "metadata": {
    "collapsed": false,
    "pycharm": {
     "name": "#%% md\n"
    }
   }
  },
  {
   "cell_type": "markdown",
   "source": [
    "### Задание №5 Какой сайт в обучающей выборке является вторым по популярности в 2014 году и сколько раз его посещали в 2014 году?"
   ],
   "metadata": {
    "collapsed": false,
    "pycharm": {
     "name": "#%% md\n"
    }
   }
  },
  {
   "cell_type": "code",
   "execution_count": 64,
   "outputs": [],
   "source": [
    "df_14 = train_df[train_df['time1'].dt.year == 2014]  # Создадим датафрейм с данными, начиная с 2014 года"
   ],
   "metadata": {
    "collapsed": false,
    "pycharm": {
     "name": "#%%\n"
    }
   }
  },
  {
   "cell_type": "code",
   "execution_count": 76,
   "outputs": [],
   "source": [
    "all_sites = pd.concat([df_14['site1'], df_14['site2'], df_14['site3'], df_14['site4'], df_14['site5'], df_14['site6'], df_14['site7'], df_14['site8'], df_14['site9'], df_14['site10']], axis=0).reset_index(name='site')  # Создание датафрейма, который объединяет сессии всех сайтов в одну"
   ],
   "metadata": {
    "collapsed": false,
    "pycharm": {
     "name": "#%%\n"
    }
   }
  },
  {
   "cell_type": "code",
   "execution_count": 75,
   "outputs": [
    {
     "data": {
      "text/plain": "         session_id  site\n0            228341    21\n1             65195  1037\n2            176539   820\n3             12346   820\n4            181211   820\n...             ...   ...\n1788855      129606     0\n1788856       53628     0\n1788857       84754     0\n1788858      153398     0\n1788859       11690     0\n\n[1788860 rows x 2 columns]",
      "text/html": "<div>\n<style scoped>\n    .dataframe tbody tr th:only-of-type {\n        vertical-align: middle;\n    }\n\n    .dataframe tbody tr th {\n        vertical-align: top;\n    }\n\n    .dataframe thead th {\n        text-align: right;\n    }\n</style>\n<table border=\"1\" class=\"dataframe\">\n  <thead>\n    <tr style=\"text-align: right;\">\n      <th></th>\n      <th>session_id</th>\n      <th>site</th>\n    </tr>\n  </thead>\n  <tbody>\n    <tr>\n      <th>0</th>\n      <td>228341</td>\n      <td>21</td>\n    </tr>\n    <tr>\n      <th>1</th>\n      <td>65195</td>\n      <td>1037</td>\n    </tr>\n    <tr>\n      <th>2</th>\n      <td>176539</td>\n      <td>820</td>\n    </tr>\n    <tr>\n      <th>3</th>\n      <td>12346</td>\n      <td>820</td>\n    </tr>\n    <tr>\n      <th>4</th>\n      <td>181211</td>\n      <td>820</td>\n    </tr>\n    <tr>\n      <th>...</th>\n      <td>...</td>\n      <td>...</td>\n    </tr>\n    <tr>\n      <th>1788855</th>\n      <td>129606</td>\n      <td>0</td>\n    </tr>\n    <tr>\n      <th>1788856</th>\n      <td>53628</td>\n      <td>0</td>\n    </tr>\n    <tr>\n      <th>1788857</th>\n      <td>84754</td>\n      <td>0</td>\n    </tr>\n    <tr>\n      <th>1788858</th>\n      <td>153398</td>\n      <td>0</td>\n    </tr>\n    <tr>\n      <th>1788859</th>\n      <td>11690</td>\n      <td>0</td>\n    </tr>\n  </tbody>\n</table>\n<p>1788860 rows × 2 columns</p>\n</div>"
     },
     "execution_count": 75,
     "metadata": {},
     "output_type": "execute_result"
    }
   ],
   "source": [
    "all_sites"
   ],
   "metadata": {
    "collapsed": false,
    "pycharm": {
     "name": "#%%\n"
    }
   }
  },
  {
   "cell_type": "code",
   "execution_count": 67,
   "outputs": [
    {
     "data": {
      "text/plain": "        site  session_id\n21        21       86090\n0          0       81887\n779      782       77039\n23        23       56333\n777      780       40610\n...      ...         ...\n22872  28342           1\n22873  28343           1\n22874  28344           1\n10774  12529           1\n23209  28767           1\n\n[33244 rows x 2 columns]",
      "text/html": "<div>\n<style scoped>\n    .dataframe tbody tr th:only-of-type {\n        vertical-align: middle;\n    }\n\n    .dataframe tbody tr th {\n        vertical-align: top;\n    }\n\n    .dataframe thead th {\n        text-align: right;\n    }\n</style>\n<table border=\"1\" class=\"dataframe\">\n  <thead>\n    <tr style=\"text-align: right;\">\n      <th></th>\n      <th>site</th>\n      <th>session_id</th>\n    </tr>\n  </thead>\n  <tbody>\n    <tr>\n      <th>21</th>\n      <td>21</td>\n      <td>86090</td>\n    </tr>\n    <tr>\n      <th>0</th>\n      <td>0</td>\n      <td>81887</td>\n    </tr>\n    <tr>\n      <th>779</th>\n      <td>782</td>\n      <td>77039</td>\n    </tr>\n    <tr>\n      <th>23</th>\n      <td>23</td>\n      <td>56333</td>\n    </tr>\n    <tr>\n      <th>777</th>\n      <td>780</td>\n      <td>40610</td>\n    </tr>\n    <tr>\n      <th>...</th>\n      <td>...</td>\n      <td>...</td>\n    </tr>\n    <tr>\n      <th>22872</th>\n      <td>28342</td>\n      <td>1</td>\n    </tr>\n    <tr>\n      <th>22873</th>\n      <td>28343</td>\n      <td>1</td>\n    </tr>\n    <tr>\n      <th>22874</th>\n      <td>28344</td>\n      <td>1</td>\n    </tr>\n    <tr>\n      <th>10774</th>\n      <td>12529</td>\n      <td>1</td>\n    </tr>\n    <tr>\n      <th>23209</th>\n      <td>28767</td>\n      <td>1</td>\n    </tr>\n  </tbody>\n</table>\n<p>33244 rows × 2 columns</p>\n</div>"
     },
     "execution_count": 67,
     "metadata": {},
     "output_type": "execute_result"
    }
   ],
   "source": [
    "all_sites.groupby('site', as_index=False).agg({'session_id': 'count'}).sort_values(by='session_id', ascending=False)  # Группировка и сортировка данных по убыванию популярности посещения сайтов"
   ],
   "metadata": {
    "collapsed": false,
    "pycharm": {
     "name": "#%%\n"
    }
   }
  },
  {
   "cell_type": "code",
   "execution_count": 78,
   "outputs": [
    {
     "data": {
      "text/plain": "'annotathon.org'"
     },
     "execution_count": 78,
     "metadata": {},
     "output_type": "execute_result"
    }
   ],
   "source": [
    "new_dict[782]  # Второй по посещаемости сайт среди всех в 2014 году (77039 посещений)"
   ],
   "metadata": {
    "collapsed": false,
    "pycharm": {
     "name": "#%%\n"
    }
   }
  },
  {
   "cell_type": "markdown",
   "source": [
    "**Ответ:** annotathon.org"
   ],
   "metadata": {
    "collapsed": false,
    "pycharm": {
     "name": "#%% md\n"
    }
   }
  },
  {
   "cell_type": "markdown",
   "source": [
    "### Задание №6 Сколько всего сессий обучающей выборки содержат в себе меньше чем 10 сайтов?"
   ],
   "metadata": {
    "collapsed": false,
    "pycharm": {
     "name": "#%% md\n"
    }
   }
  },
  {
   "cell_type": "code",
   "execution_count": 82,
   "outputs": [
    {
     "data": {
      "text/plain": "22509"
     },
     "execution_count": 82,
     "metadata": {},
     "output_type": "execute_result"
    }
   ],
   "source": [
    "(train_df[sites]==0).any(axis=1).sum()"
   ],
   "metadata": {
    "collapsed": false,
    "pycharm": {
     "name": "#%%\n"
    }
   }
  },
  {
   "cell_type": "markdown",
   "source": [
    "### Задание №7 Выберите верные утверждения для обучающей выборки:"
   ],
   "metadata": {
    "collapsed": false,
    "pycharm": {
     "name": "#%% md\n"
    }
   }
  },
  {
   "cell_type": "code",
   "execution_count": 101,
   "outputs": [],
   "source": [
    "tr_ch = train_df.reset_index()  # train_df БЕЗ индекса сессии в начале"
   ],
   "metadata": {
    "collapsed": false,
    "pycharm": {
     "name": "#%%\n"
    }
   }
  },
  {
   "cell_type": "code",
   "execution_count": 102,
   "outputs": [
    {
     "data": {
      "text/plain": "            dif12\ntarget           \n0       19.220060\n1       16.832963",
      "text/html": "<div>\n<style scoped>\n    .dataframe tbody tr th:only-of-type {\n        vertical-align: middle;\n    }\n\n    .dataframe tbody tr th {\n        vertical-align: top;\n    }\n\n    .dataframe thead th {\n        text-align: right;\n    }\n</style>\n<table border=\"1\" class=\"dataframe\">\n  <thead>\n    <tr style=\"text-align: right;\">\n      <th></th>\n      <th>dif12</th>\n    </tr>\n    <tr>\n      <th>target</th>\n      <th></th>\n    </tr>\n  </thead>\n  <tbody>\n    <tr>\n      <th>0</th>\n      <td>19.220060</td>\n    </tr>\n    <tr>\n      <th>1</th>\n      <td>16.832963</td>\n    </tr>\n  </tbody>\n</table>\n</div>"
     },
     "execution_count": 102,
     "metadata": {},
     "output_type": "execute_result"
    }
   ],
   "source": [
    "# В среднем Элис проводит меньше времени на первой странице, чем другие пользователи ДА\n",
    "tr_ch['dif12'] = (train_df['time2'] - train_df['time1']).dt.seconds\n",
    "tr_ch.groupby('target').agg({'dif12': 'mean'})"
   ],
   "metadata": {
    "collapsed": false,
    "pycharm": {
     "name": "#%%\n"
    }
   }
  },
  {
   "cell_type": "code",
   "execution_count": 103,
   "outputs": [
    {
     "data": {
      "text/plain": "<Figure size 640x480 with 1 Axes>",
      "image/png": "[encoded data removed]"
     },
     "metadata": {},
     "output_type": "display_data"
    }
   ],
   "source": [
    "# Лето является самым малоактивным временем года вообще ДА\n",
    "tr_ch['time1'].dt.month.hist()  # Вся активность\n",
    "plt.show()"
   ],
   "metadata": {
    "collapsed": false,
    "pycharm": {
     "name": "#%%\n"
    }
   }
  },
  {
   "cell_type": "code",
   "execution_count": 104,
   "outputs": [
    {
     "data": {
      "text/plain": "<Figure size 640x480 with 1 Axes>",
      "image/png": "[encoded data removed]"
     },
     "metadata": {},
     "output_type": "display_data"
    }
   ],
   "source": [
    "tr_ch['time1'][tr_ch['target']==1].dt.month.hist()  # Активность Элис\n",
    "plt.show()"
   ],
   "metadata": {
    "collapsed": false,
    "pycharm": {
     "name": "#%%\n"
    }
   }
  },
  {
   "cell_type": "code",
   "execution_count": 105,
   "outputs": [
    {
     "data": {
      "text/plain": "       session_id\ntime1            \n1           28058\n2           53108\n3           55275\n4           42358\n5              87\n11          31118\n12          43557",
      "text/html": "<div>\n<style scoped>\n    .dataframe tbody tr th:only-of-type {\n        vertical-align: middle;\n    }\n\n    .dataframe tbody tr th {\n        vertical-align: top;\n    }\n\n    .dataframe thead th {\n        text-align: right;\n    }\n</style>\n<table border=\"1\" class=\"dataframe\">\n  <thead>\n    <tr style=\"text-align: right;\">\n      <th></th>\n      <th>session_id</th>\n    </tr>\n    <tr>\n      <th>time1</th>\n      <th></th>\n    </tr>\n  </thead>\n  <tbody>\n    <tr>\n      <th>1</th>\n      <td>28058</td>\n    </tr>\n    <tr>\n      <th>2</th>\n      <td>53108</td>\n    </tr>\n    <tr>\n      <th>3</th>\n      <td>55275</td>\n    </tr>\n    <tr>\n      <th>4</th>\n      <td>42358</td>\n    </tr>\n    <tr>\n      <th>5</th>\n      <td>87</td>\n    </tr>\n    <tr>\n      <th>11</th>\n      <td>31118</td>\n    </tr>\n    <tr>\n      <th>12</th>\n      <td>43557</td>\n    </tr>\n  </tbody>\n</table>\n</div>"
     },
     "execution_count": 105,
     "metadata": {},
     "output_type": "execute_result"
    }
   ],
   "source": [
    "ev_s = tr_ch.groupby(tr_ch['time1'].dt.month).agg({'session_id': 'count'})  # Вся активность по месяцам\n",
    "ev_s"
   ],
   "metadata": {
    "collapsed": false,
    "pycharm": {
     "name": "#%%\n"
    }
   }
  },
  {
   "cell_type": "code",
   "execution_count": 106,
   "outputs": [
    {
     "data": {
      "text/plain": "       session_id\ntime1            \n1.0            88\n2.0           449\n3.0           399\n4.0           305\n11.0          446\n12.0          610",
      "text/html": "<div>\n<style scoped>\n    .dataframe tbody tr th:only-of-type {\n        vertical-align: middle;\n    }\n\n    .dataframe tbody tr th {\n        vertical-align: top;\n    }\n\n    .dataframe thead th {\n        text-align: right;\n    }\n</style>\n<table border=\"1\" class=\"dataframe\">\n  <thead>\n    <tr style=\"text-align: right;\">\n      <th></th>\n      <th>session_id</th>\n    </tr>\n    <tr>\n      <th>time1</th>\n      <th></th>\n    </tr>\n  </thead>\n  <tbody>\n    <tr>\n      <th>1.0</th>\n      <td>88</td>\n    </tr>\n    <tr>\n      <th>2.0</th>\n      <td>449</td>\n    </tr>\n    <tr>\n      <th>3.0</th>\n      <td>399</td>\n    </tr>\n    <tr>\n      <th>4.0</th>\n      <td>305</td>\n    </tr>\n    <tr>\n      <th>11.0</th>\n      <td>446</td>\n    </tr>\n    <tr>\n      <th>12.0</th>\n      <td>610</td>\n    </tr>\n  </tbody>\n</table>\n</div>"
     },
     "execution_count": 106,
     "metadata": {},
     "output_type": "execute_result"
    }
   ],
   "source": [
    "ev_s2 = tr_ch.groupby(tr_ch['time1'][tr_ch['target']==1].dt.month).agg({'session_id': 'count'})  # Активность Элис по месяцам\n",
    "ev_s2"
   ],
   "metadata": {
    "collapsed": false,
    "pycharm": {
     "name": "#%%\n"
    }
   }
  },
  {
   "cell_type": "code",
   "execution_count": 107,
   "outputs": [
    {
     "name": "stdout",
     "output_type": "stream",
     "text": [
      "        dif12\n",
      "target       \n",
      "0         1.0\n",
      "1         1.0\n",
      "1.0\n"
     ]
    }
   ],
   "source": [
    "# Медианная длительность посещения первой страницы в среднем больше, чем у Элис НЕТ\n",
    "print(tr_ch.groupby('target').agg({'dif12': 'median'}))\n",
    "print(tr_ch['dif12'].median())"
   ],
   "metadata": {
    "collapsed": false,
    "pycharm": {
     "name": "#%%\n"
    }
   }
  },
  {
   "cell_type": "code",
   "execution_count": 112,
   "outputs": [
    {
     "data": {
      "text/plain": "       session_id\ntime1            \n1.0            88\n2.0           449\n3.0           399\n4.0           305\n11.0          446\n12.0          610",
      "text/html": "<div>\n<style scoped>\n    .dataframe tbody tr th:only-of-type {\n        vertical-align: middle;\n    }\n\n    .dataframe tbody tr th {\n        vertical-align: top;\n    }\n\n    .dataframe thead th {\n        text-align: right;\n    }\n</style>\n<table border=\"1\" class=\"dataframe\">\n  <thead>\n    <tr style=\"text-align: right;\">\n      <th></th>\n      <th>session_id</th>\n    </tr>\n    <tr>\n      <th>time1</th>\n      <th></th>\n    </tr>\n  </thead>\n  <tbody>\n    <tr>\n      <th>1.0</th>\n      <td>88</td>\n    </tr>\n    <tr>\n      <th>2.0</th>\n      <td>449</td>\n    </tr>\n    <tr>\n      <th>3.0</th>\n      <td>399</td>\n    </tr>\n    <tr>\n      <th>4.0</th>\n      <td>305</td>\n    </tr>\n    <tr>\n      <th>11.0</th>\n      <td>446</td>\n    </tr>\n    <tr>\n      <th>12.0</th>\n      <td>610</td>\n    </tr>\n  </tbody>\n</table>\n</div>"
     },
     "execution_count": 112,
     "metadata": {},
     "output_type": "execute_result"
    }
   ],
   "source": [
    "# Элис наиболее активна в марте и неактивна летом НЕТ\n",
    "ev_s2  # Активность Элис по месяцам"
   ],
   "metadata": {
    "collapsed": false,
    "pycharm": {
     "name": "#%%\n"
    }
   }
  },
  {
   "cell_type": "code",
   "execution_count": 113,
   "outputs": [
    {
     "data": {
      "text/plain": "1    1315\n2     526\n5     308\n4     110\n3      38\nName: time1, dtype: int64"
     },
     "execution_count": 113,
     "metadata": {},
     "output_type": "execute_result"
    }
   ],
   "source": [
    "tr_ch['time1'][tr_ch['target'] == 1].apply(lambda x: x.isoweekday()).value_counts() # Активность Элис по дням недели??"
   ],
   "metadata": {
    "collapsed": false,
    "pycharm": {
     "name": "#%%\n"
    }
   }
  },
  {
   "cell_type": "markdown",
   "source": [
    "### Задание №8 Чему равное медианное значение количества уникальных сайтов в рамках одной сессии обучающей выборки?"
   ],
   "metadata": {
    "collapsed": false,
    "pycharm": {
     "name": "#%% md\n"
    }
   }
  },
  {
   "cell_type": "code",
   "execution_count": 114,
   "outputs": [
    {
     "data": {
      "text/plain": "6.0"
     },
     "execution_count": 114,
     "metadata": {},
     "output_type": "execute_result"
    }
   ],
   "source": [
    "dun = train_df[sites]\n",
    "dun.nunique(axis=1).median()"
   ],
   "metadata": {
    "collapsed": false,
    "pycharm": {
     "name": "#%%\n"
    }
   }
  },
  {
   "cell_type": "markdown",
   "source": [
    "### Задание №9 Чему равное медианное значение времени сессии в обучающей выборке (время посещения последнего сайта примем равным нулю)?"
   ],
   "metadata": {
    "collapsed": false,
    "pycharm": {
     "name": "#%% md\n"
    }
   }
  },
  {
   "cell_type": "code",
   "execution_count": 115,
   "outputs": [
    {
     "data": {
      "text/plain": "27.0"
     },
     "execution_count": 115,
     "metadata": {},
     "output_type": "execute_result"
    }
   ],
   "source": [
    "tr_ch['dif110'] = (train_df['time10'] - train_df['time1']).dt.seconds\n",
    "tr_ch['dif110'].median()"
   ],
   "metadata": {
    "collapsed": false,
    "pycharm": {
     "name": "#%%\n"
    }
   }
  },
  {
   "cell_type": "markdown",
   "source": [
    "### Задание №10  В каком месяце доля сессий Элис среди всех сессий наибольшая?"
   ],
   "metadata": {
    "collapsed": false,
    "pycharm": {
     "name": "#%% md\n"
    }
   }
  },
  {
   "cell_type": "code",
   "execution_count": 116,
   "outputs": [
    {
     "data": {
      "text/plain": "       session_id  dol_alice\ntime1                       \n1.0            88   0.313636\n2.0           449   0.845447\n3.0           399   0.721845\n4.0           305   0.720053\n11.0          446   1.433254\n12.0          610   1.400464",
      "text/html": "<div>\n<style scoped>\n    .dataframe tbody tr th:only-of-type {\n        vertical-align: middle;\n    }\n\n    .dataframe tbody tr th {\n        vertical-align: top;\n    }\n\n    .dataframe thead th {\n        text-align: right;\n    }\n</style>\n<table border=\"1\" class=\"dataframe\">\n  <thead>\n    <tr style=\"text-align: right;\">\n      <th></th>\n      <th>session_id</th>\n      <th>dol_alice</th>\n    </tr>\n    <tr>\n      <th>time1</th>\n      <th></th>\n      <th></th>\n    </tr>\n  </thead>\n  <tbody>\n    <tr>\n      <th>1.0</th>\n      <td>88</td>\n      <td>0.313636</td>\n    </tr>\n    <tr>\n      <th>2.0</th>\n      <td>449</td>\n      <td>0.845447</td>\n    </tr>\n    <tr>\n      <th>3.0</th>\n      <td>399</td>\n      <td>0.721845</td>\n    </tr>\n    <tr>\n      <th>4.0</th>\n      <td>305</td>\n      <td>0.720053</td>\n    </tr>\n    <tr>\n      <th>11.0</th>\n      <td>446</td>\n      <td>1.433254</td>\n    </tr>\n    <tr>\n      <th>12.0</th>\n      <td>610</td>\n      <td>1.400464</td>\n    </tr>\n  </tbody>\n</table>\n</div>"
     },
     "execution_count": 116,
     "metadata": {},
     "output_type": "execute_result"
    }
   ],
   "source": [
    "# #10) В каком месяце доля сессий Элис среди всех сессий наибольшая?\n",
    "ev_s2['dol_alice'] = ev_s2['session_id'] * 100 / ev_s['session_id']\n",
    "# # dol['alice'] =\n",
    "# tr_ch[tr_ch['target']==1].groupby(tr_ch['time1'].dt.month).agg({'session_id': 'count'}).reset_index()\n",
    "# # dol['res'] = dol['alice'] * 100 / dol['session_id']\n",
    "# # # все - 100, элис - х\n",
    "# # dol\n",
    "ev_s2"
   ],
   "metadata": {
    "collapsed": false,
    "pycharm": {
     "name": "#%%\n"
    }
   }
  },
  {
   "cell_type": "markdown",
   "source": [
    "**Ответ:** ноябрь"
   ],
   "metadata": {
    "collapsed": false,
    "pycharm": {
     "name": "#%% md\n"
    }
   }
  },
  {
   "cell_type": "code",
   "execution_count": null,
   "outputs": [],
   "source": [],
   "metadata": {
    "collapsed": false,
    "pycharm": {
     "name": "#%%\n"
    }
   }
  }
 ],
 "metadata": {
  "kernelspec": {
   "display_name": "Python 3",
   "language": "python",
   "name": "python3"
  },
  "language_info": {
   "codemirror_mode": {
    "name": "ipython",
    "version": 3
   },
   "file_extension": ".py",
   "mimetype": "text/x-python",
   "name": "python",
   "nbconvert_exporter": "python",
   "pygments_lexer": "ipython3",
   "version": "3.7.0"
  }
 },
 "nbformat": 4,
 "nbformat_minor": 4
}